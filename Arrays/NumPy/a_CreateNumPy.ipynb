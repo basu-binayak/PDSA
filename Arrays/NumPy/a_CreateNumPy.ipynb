{
 "cells": [
  {
   "cell_type": "markdown",
   "metadata": {},
   "source": [
    "# Create NumPy Array"
   ]
  },
  {
   "cell_type": "code",
   "execution_count": 1,
   "metadata": {},
   "outputs": [],
   "source": [
    "# import the library\n",
    "import numpy as np"
   ]
  },
  {
   "cell_type": "markdown",
   "metadata": {},
   "source": [
    "## Create a NumPy array from List"
   ]
  },
  {
   "cell_type": "code",
   "execution_count": 2,
   "metadata": {},
   "outputs": [
    {
     "name": "stdout",
     "output_type": "stream",
     "text": [
      "[1 5 6 8 9 3]\n",
      "[2.3 4.5 6.7 5.  8.9]\n",
      "[1. 2. 3. 4. 5.]\n",
      "[[1 2 3 4 5]\n",
      " [2 3 4 5 6]\n",
      " [3 4 5 6 7]]\n"
     ]
    }
   ],
   "source": [
    "# Integer array \n",
    "int_array = np.array([1,5,6,8,9,3])\n",
    "print(int_array)\n",
    "\n",
    "# float array \n",
    "# note that numpy arrays are homogenous - hence if some types don't match, numpy will upcast them according to the promotion rules. In the example below, an int in upcast to float\n",
    "float_array = np.array([2.3,4.5,6.7,5,8.9])\n",
    "print(float_array)\n",
    "\n",
    "# You can also mention the type while crearing the array \n",
    "float_array = np.array([1,2,3,4,5], dtype=np.float32)\n",
    "print(float_array)\n",
    "\n",
    "# Python lists are always one dimensional - however NumPy arrays can be multidimensional \n",
    "md_array = np.array([range(j,j+5) for j in range(1,4)]) # this is a 3x5 array\n",
    "print(md_array)"
   ]
  },
  {
   "cell_type": "markdown",
   "metadata": {},
   "source": [
    "## Create NumPy Arrays from Scratch"
   ]
  },
  {
   "cell_type": "markdown",
   "metadata": {},
   "source": [
    "### `np.zeros(number/tuple)`"
   ]
  },
  {
   "cell_type": "code",
   "execution_count": 3,
   "metadata": {},
   "outputs": [
    {
     "name": "stdout",
     "output_type": "stream",
     "text": [
      "[0. 0. 0. 0. 0. 0. 0. 0.]\n",
      "[0 0 0 0 0 0 0 0]\n",
      "[[0. 0. 0. 0. 0.]\n",
      " [0. 0. 0. 0. 0.]\n",
      " [0. 0. 0. 0. 0.]]\n"
     ]
    }
   ],
   "source": [
    "# np.zeros\n",
    "\n",
    "print(np.zeros(8)) # by default, creates a floating array of 0s of length 8\n",
    "print(np.zeros(8, dtype=np.int32)) # create a integer array now \n",
    "\n",
    "# multidimensional\n",
    "print(np.zeros((3,5))) # provide dtype if you want specifically a data type "
   ]
  },
  {
   "cell_type": "markdown",
   "metadata": {},
   "source": [
    "### `np.ones(number/tuple)`"
   ]
  },
  {
   "cell_type": "code",
   "execution_count": 4,
   "metadata": {},
   "outputs": [
    {
     "name": "stdout",
     "output_type": "stream",
     "text": [
      "[1. 1. 1. 1. 1. 1. 1. 1.]\n",
      "[[1. 1. 1. 1. 1.]\n",
      " [1. 1. 1. 1. 1.]\n",
      " [1. 1. 1. 1. 1.]\n",
      " [1. 1. 1. 1. 1.]]\n"
     ]
    }
   ],
   "source": [
    "# np.ones \n",
    "\n",
    "print(np.ones(8))\n",
    "\n",
    "# multidimensional\n",
    "print(np.ones((4,5)))"
   ]
  },
  {
   "cell_type": "markdown",
   "metadata": {},
   "source": [
    "### `np.full(number/tuple, fill_value)`"
   ]
  },
  {
   "cell_type": "code",
   "execution_count": 5,
   "metadata": {},
   "outputs": [
    {
     "name": "stdout",
     "output_type": "stream",
     "text": [
      "[2.3 2.3 2.3 2.3 2.3]\n",
      "[[3.4 3.4 3.4 3.4 3.4]\n",
      " [3.4 3.4 3.4 3.4 3.4]\n",
      " [3.4 3.4 3.4 3.4 3.4]]\n"
     ]
    }
   ],
   "source": [
    "# np.full\n",
    "\n",
    "print(np.full(5, fill_value=2.3)) # creates a array of length 5 filled with 2.3\n",
    "\n",
    "# multidimensional\n",
    "print(np.full((3,5), fill_value=3.4))"
   ]
  },
  {
   "cell_type": "markdown",
   "metadata": {},
   "source": [
    "### `np.arange(start, end, step)` v/s `np.linspace(start, end, num)`"
   ]
  },
  {
   "cell_type": "code",
   "execution_count": 6,
   "metadata": {},
   "outputs": [
    {
     "name": "stdout",
     "output_type": "stream",
     "text": [
      "[ 0.   2.5  5.   7.5 10.  12.5 15.  17.5]\n",
      "[[ 0  1  2]\n",
      " [ 5  6  7]\n",
      " [10 11 12]\n",
      " [15 16 17]]\n"
     ]
    }
   ],
   "source": [
    "# np.arange \n",
    "\n",
    "print(np.arange(start=0, stop=20, step=2.5)) # this creates a array that starts at 0, goes till 20 with a step size of 2.5\n",
    "\n",
    "# multidiemnsional \n",
    "print(np.array([range(i, i+3) for i in np.arange(0,20,5)]))"
   ]
  },
  {
   "cell_type": "code",
   "execution_count": 7,
   "metadata": {},
   "outputs": [
    {
     "name": "stdout",
     "output_type": "stream",
     "text": [
      "[ 0.          0.68965517  1.37931034  2.06896552  2.75862069  3.44827586\n",
      "  4.13793103  4.82758621  5.51724138  6.20689655  6.89655172  7.5862069\n",
      "  8.27586207  8.96551724  9.65517241 10.34482759 11.03448276 11.72413793\n",
      " 12.4137931  13.10344828 13.79310345 14.48275862 15.17241379 15.86206897\n",
      " 16.55172414 17.24137931 17.93103448 18.62068966 19.31034483 20.        ]\n"
     ]
    }
   ],
   "source": [
    "# np.linspace \n",
    "\n",
    "print(np.linspace(start=0, stop=20, num=30)) # gives a array of length 30 starting from 0 and ending at 20 equally spaced"
   ]
  },
  {
   "cell_type": "markdown",
   "metadata": {},
   "source": [
    "### Pseudorandom Values "
   ]
  },
  {
   "cell_type": "code",
   "execution_count": 9,
   "metadata": {},
   "outputs": [
    {
     "name": "stdout",
     "output_type": "stream",
     "text": [
      "[[0.57204695 0.39173275 0.27302125]\n",
      " [0.29027815 0.30370702 0.852949  ]\n",
      " [0.69593378 0.13532599 0.65620073]]\n",
      "[0.55356391 0.73741302 0.17992382]\n",
      "[[-0.7949862  -0.26659114 -0.29354559]\n",
      " [-0.78781521  0.3261438   0.2442854 ]\n",
      " [ 0.49141136 -0.98158042  0.79374429]]\n",
      "[[ 3  8 11]\n",
      " [14  3  2]\n",
      " [ 3 14  5]]\n"
     ]
    }
   ],
   "source": [
    "# Create a 3x3 array of uniformly distributed pseudorandom values betweeen 0 and 1\n",
    "\n",
    "print(np.random.random(size=(3,3)))\n",
    "print(np.random.random(size=3))\n",
    "\n",
    "# Create a 3x3 array of normally distributed pseudorandom values with mean 0 and sd 1 \n",
    "\n",
    "print(np.random.normal(loc=0, scale=1, size=(3,3)))\n",
    "\n",
    "# Create a 3x3 array of  pseudorandom integer values between 0 and 10\n",
    "print(np.random.randint(low=2, high=20, size=(3,3)))"
   ]
  },
  {
   "cell_type": "markdown",
   "metadata": {},
   "source": [
    "### `np.eye()`"
   ]
  },
  {
   "cell_type": "code",
   "execution_count": 2,
   "metadata": {},
   "outputs": [
    {
     "name": "stdout",
     "output_type": "stream",
     "text": [
      "[[1. 0. 0.]\n",
      " [0. 1. 0.]\n",
      " [0. 0. 1.]]\n"
     ]
    }
   ],
   "source": [
    "print(np.eye(N=3)) # create a 3x3 identity matrix"
   ]
  },
  {
   "cell_type": "markdown",
   "metadata": {},
   "source": [
    "### `np.empty()`"
   ]
  },
  {
   "cell_type": "code",
   "execution_count": 3,
   "metadata": {},
   "outputs": [
    {
     "name": "stdout",
     "output_type": "stream",
     "text": [
      "[0. 0. 0. 0. 0. 0. 0. 0.]\n"
     ]
    }
   ],
   "source": [
    "# np.empty \n",
    "\n",
    "print(np.empty(8)) # creates a uninitialized array of 8 integers - the values will be whatever happens to exist at that perticular memory location"
   ]
  },
  {
   "cell_type": "code",
   "execution_count": 4,
   "metadata": {},
   "outputs": [
    {
     "data": {
      "text/plain": [
       "array([[0., 0., 0., 0.],\n",
       "       [0., 0., 0., 0.]])"
      ]
     },
     "execution_count": 4,
     "metadata": {},
     "output_type": "execute_result"
    }
   ],
   "source": [
    "np.empty((2,4))"
   ]
  },
  {
   "cell_type": "markdown",
   "metadata": {},
   "source": [
    "#### NOTE ON DATA TYPES IN NUMPY\n",
    "\n",
    "**Let us have a look at the datatypes in NumPy**\n",
    "\n",
    "\n",
    "| **Data Type**  | **Description**                                                                                 |\n",
    "|-----------------|-----------------------------------------------------------------------------------------------|\n",
    "| `bool_`         | Boolean (True or False) stored as a byte                                                      |\n",
    "| `int_`          | Default integer type (same as C `long`; normally either `int64` or `int32`)                   |\n",
    "| `intc`          | Identical to C `int` (normally `int32` or `int64`)                                            |\n",
    "| `intp`          | Integer used for indexing (same as C `ssize_t`; normally either `int32` or `int64`)           |\n",
    "| `int8`          | Byte (-128 to 127)                                                                           |\n",
    "| `int16`         | Integer (-32,768 to 32,767)                                                                  |\n",
    "| `int32`         | Integer (-2,147,483,648 to 2,147,483,647)                                                    |\n",
    "| `int64`         | Integer (-9,223,372,036,854,775,808 to 9,223,372,036,854,775,807)                            |\n",
    "| `uint8`         | Unsigned integer (0 to 255)                                                                  |\n",
    "| `uint16`        | Unsigned integer (0 to 65,535)                                                               |\n",
    "| `uint32`        | Unsigned integer (0 to 4,294,967,295)                                                        |\n",
    "| `uint64`        | Unsigned integer (0 to 18,446,744,073,709,551,615)                                           |\n",
    "| `float_`        | Shorthand for `float64`                                                                      |\n",
    "| `float16`       | Half-precision float: sign bit, 5 bits exponent, 10 bits mantissa                            |\n",
    "| `float32`       | Single-precision float: sign bit, 8 bits exponent, 23 bits mantissa                          |\n",
    "| `float64`       | Double-precision float: sign bit, 11 bits exponent, 52 bits mantissa                         |\n",
    "| `complex_`      | Shorthand for `complex128`                                                                   |\n",
    "| `complex64`     | Complex number, represented by two 32-bit floats                                             |\n",
    "| `complex128`    | Complex number, represented by two 64-bit floats                                             |\n"
   ]
  }
 ],
 "metadata": {
  "kernelspec": {
   "display_name": "base",
   "language": "python",
   "name": "python3"
  },
  "language_info": {
   "codemirror_mode": {
    "name": "ipython",
    "version": 3
   },
   "file_extension": ".py",
   "mimetype": "text/x-python",
   "name": "python",
   "nbconvert_exporter": "python",
   "pygments_lexer": "ipython3",
   "version": "3.11.7"
  }
 },
 "nbformat": 4,
 "nbformat_minor": 2
}
