{
 "cells": [
  {
   "cell_type": "markdown",
   "metadata": {},
   "source": [
    "# NumPy Array Basics"
   ]
  },
  {
   "cell_type": "code",
   "execution_count": 2,
   "metadata": {},
   "outputs": [],
   "source": [
    "import numpy as np"
   ]
  },
  {
   "cell_type": "markdown",
   "metadata": {},
   "source": [
    "## Attributes of NumPy Array"
   ]
  },
  {
   "cell_type": "code",
   "execution_count": 3,
   "metadata": {},
   "outputs": [
    {
     "name": "stdout",
     "output_type": "stream",
     "text": [
      "The dimensions are : 1, 2, 3\n",
      "The shape are : (6,), (4, 5), (3, 4, 5)\n",
      "The sizes are : 6, 20, 60\n",
      "The datatypes are : int32, int32, int32\n"
     ]
    }
   ],
   "source": [
    "# contruct an array\n",
    "array_int_1D = np.random.randint(low=2, high=20, size=6) # 1 dimensional\n",
    "array_int_2D = np.random.randint(low=2, high=20, size=(4,5)) # 2 dimensional\n",
    "array_int_3D = np.random.randint(low=2, high=20, size=(3,4,5)) # 3 dimensional\n",
    "\n",
    "# accessing the attributes of the array\n",
    "print(f\"The dimensions are : {array_int_1D.ndim}, {array_int_2D.ndim}, {array_int_3D.ndim}\") # gives the dimensions of the three arrays\n",
    "print(f\"The shape are : {array_int_1D.shape}, {array_int_2D.shape}, {array_int_3D.shape}\") # gives the shape of the arrays \n",
    "print(f\"The sizes are : {array_int_1D.size}, {array_int_2D.size}, {array_int_3D.size}\") # gives the total number of elements in the array\n",
    "print(f\"The datatypes are : {array_int_1D.dtype}, {array_int_2D.dtype}, {array_int_3D.dtype}\") # gives the datatype of the elements of the array"
   ]
  },
  {
   "cell_type": "markdown",
   "metadata": {},
   "source": [
    "## Array Indexing"
   ]
  },
  {
   "cell_type": "code",
   "execution_count": 10,
   "metadata": {},
   "outputs": [
    {
     "name": "stdout",
     "output_type": "stream",
     "text": [
      "[ 4 11  5  2  4 14] \n",
      "\n",
      "[[10 15 16  3 10]\n",
      " [13 15  2 16 12]\n",
      " [10  8 18 18 15]\n",
      " [17 10 19  3 11]] \n",
      "\n",
      "[[[ 5 14 12  5  2]\n",
      "  [14  2 11  3 13]\n",
      "  [19 18 13 17  6]\n",
      "  [ 6 10  3  7  7]]\n",
      "\n",
      " [[ 9  5  8 19  9]\n",
      "  [19  9 10 11  7]\n",
      "  [ 8  6  4 19  2]\n",
      "  [18 17 13  2  7]]\n",
      "\n",
      " [[ 2 14  3 11  7]\n",
      "  [17  5 14  8  2]\n",
      "  [13 12 15  8  9]\n",
      "  [15  2 14 17 19]]]\n"
     ]
    }
   ],
   "source": [
    "print(array_int_1D,'\\n')\n",
    "print(array_int_2D,'\\n')\n",
    "print(array_int_3D)"
   ]
  },
  {
   "cell_type": "code",
   "execution_count": 8,
   "metadata": {},
   "outputs": [
    {
     "name": "stdout",
     "output_type": "stream",
     "text": [
      "The second element of the 1 D array stated above is : 11\n",
      "The (2,3)th element i.e. the lement at the intersection of the second row and the 3rd column is : 2\n",
      "The element at (2,3,1)th position is : 8\n"
     ]
    }
   ],
   "source": [
    "# indexing a 1 D array\n",
    "print(f'The second element of the 1 D array stated above is : {array_int_1D[1]}')\n",
    "print(f'The (2,3)th element i.e. the lement at the intersection of the second row and the 3rd column is : {array_int_2D[1,2]}')\n",
    "print(f'The element at (2,3,1)th position is : {array_int_3D[1,2,0]}')"
   ]
  },
  {
   "cell_type": "markdown",
   "metadata": {},
   "source": [
    "## Array Slicing"
   ]
  },
  {
   "cell_type": "code",
   "execution_count": 9,
   "metadata": {},
   "outputs": [
    {
     "name": "stdout",
     "output_type": "stream",
     "text": [
      "Sliced 1 D array : [ 2  4 14]\n",
      "Every second element of the 1 D array: [4 5 4]\n",
      "every second element from index 3, reversed : [ 2 11]\n",
      "First 2 rows and 3 columns:\n",
      "[[10 15 16]\n",
      " [13 15  2]]\n",
      "All rows and every second column:\n",
      " [[10 16 10]\n",
      " [13  2 12]\n",
      " [10 18 15]\n",
      " [17 19 11]]\n",
      "Rows ordering reversed(i.e. last row becomes the first row and so on):\n",
      "[[17 10 19  3 11]\n",
      " [10  8 18 18 15]\n",
      " [13 15  2 16 12]\n",
      " [10 15 16  3 10]]\n",
      "Columns ordering reversed: \n",
      "[[10  3 16 15 10]\n",
      " [12 16  2 15 13]\n",
      " [15 18 18  8 10]\n",
      " [11  3 19 10 17]]\n",
      "Both row and column ordering reversed:\n",
      "[[11  3 19 10 17]\n",
      " [15 18 18  8 10]\n",
      " [12 16  2 15 13]\n",
      " [10  3 16 15 10]]\n",
      "Second column:\n",
      "[15 15  8 10]\n",
      "Second row:\n",
      "[13 15  2 16 12]\n"
     ]
    }
   ],
   "source": [
    "# Slicing a 1 D array \n",
    "print(f\"Sliced 1 D array : {array_int_1D[3:]}\")\n",
    "print(f\"Every second element of the 1 D array: {array_int_1D[::2]}\")\n",
    "print(f\"every second element from index 3, reversed : {array_int_1D[3::-2]}\")\n",
    "\n",
    "# Slicing a 2 D array - Multidimensional Subarrays \n",
    "print(f\"First 2 rows and 3 columns:\\n{array_int_2D[:2, :3]}\")\n",
    "print(f\"All rows and every second column:\\n {array_int_2D[:, ::2]}\")\n",
    "print(f\"Rows ordering reversed(i.e. last row becomes the first row and so on):\\n{array_int_2D[::-1,:]}\")\n",
    "print(f\"Columns ordering reversed: \\n{array_int_2D[:,::-1]}\")\n",
    "print(f\"Both row and column ordering reversed:\\n{array_int_2D[::-1,::-1]}\")\n",
    "\n",
    "# Common operations on a 2 D array - involves both indexing and slicing \n",
    "print(f\"Second column:\\n{array_int_2D[:, 1]}\")\n",
    "print(f\"Second row:\\n{array_int_2D[1,:]}\")"
   ]
  },
  {
   "cell_type": "markdown",
   "metadata": {},
   "source": [
    "**NOTE**\n",
    "\n",
    "Unlike the Python list slices, NumPy array slices are returned as ***VIEWS*** rather than ***COPIES*** of the array data. Thus, any change made to the view, also impacts the original data."
   ]
  },
  {
   "cell_type": "code",
   "execution_count": 11,
   "metadata": {},
   "outputs": [
    {
     "name": "stdout",
     "output_type": "stream",
     "text": [
      "[[10 15 16  3 10]\n",
      " [13 15  2 16 12]\n",
      " [10  8 18 18 15]\n",
      " [17 10 19  3 11]]\n"
     ]
    }
   ],
   "source": [
    "# Illustration of the above point \n",
    "# Consider the 2 D array we are dealing with \n",
    "print(array_int_2D)"
   ]
  },
  {
   "cell_type": "code",
   "execution_count": 12,
   "metadata": {},
   "outputs": [
    {
     "name": "stdout",
     "output_type": "stream",
     "text": [
      "Sliced Subarray:\n",
      "[[10 15]\n",
      " [13 15]]\n",
      "Sliced Subarray after modification:\n",
      "[[100  15]\n",
      " [ 13  15]]\n",
      "Original array has changed too!:\n",
      "[[100  15  16   3  10]\n",
      " [ 13  15   2  16  12]\n",
      " [ 10   8  18  18  15]\n",
      " [ 17  10  19   3  11]]\n"
     ]
    }
   ],
   "source": [
    "# let us slice this 2 D array and make another subarray\n",
    "subarray_int_2D = array_int_2D[:2, :2]\n",
    "print(f\"Sliced Subarray:\\n{subarray_int_2D}\")\n",
    "\n",
    "# let us change the first element of the subarray to 100\n",
    "subarray_int_2D[0,0] = 100\n",
    "print(f\"Sliced Subarray after modification:\\n{subarray_int_2D}\")\n",
    "\n",
    "# Let us see the original array now!\n",
    "print(f\"Original array has changed too!:\\n{array_int_2D}\")"
   ]
  },
  {
   "cell_type": "code",
   "execution_count": 14,
   "metadata": {},
   "outputs": [
    {
     "name": "stdout",
     "output_type": "stream",
     "text": [
      "Sliced Subarray:\n",
      "[[13 15  2 16 12]\n",
      " [17 10 19  3 11]]\n",
      "Sliced Subarray after modification:\n",
      "[[ 13 100   2  16  12]\n",
      " [ 17  10  19   3  11]]\n",
      "The array has not changed:\n",
      "[[100  15  16   3  10]\n",
      " [ 13  15   2  16  12]\n",
      " [ 10   8  18  18  15]\n",
      " [ 17  10  19   3  11]]\n"
     ]
    }
   ],
   "source": [
    "# BUT let us now do a fancy slicing \n",
    "# let us slice this 2 D array and make another subarray\n",
    "subarray_int_2D = array_int_2D[[1,3], :]\n",
    "print(f\"Sliced Subarray:\\n{subarray_int_2D}\")\n",
    "\n",
    "# let us change the (0,1) element of the subarray to 100\n",
    "subarray_int_2D[0,1] = 100\n",
    "print(f\"Sliced Subarray after modification:\\n{subarray_int_2D}\")\n",
    "\n",
    "# Let us see the original array now!\n",
    "print(f\"The array has not changed:\\n{array_int_2D}\")"
   ]
  },
  {
   "cell_type": "markdown",
   "metadata": {},
   "source": [
    "**Key Difference**\n",
    "- Simple slicing (like `array_int_2D[:2, :2]`) produces a **view**.\n",
    "- Fancy indexing (like `array_int_2D[[1, 3], :]`) produces a **copy**."
   ]
  },
  {
   "cell_type": "code",
   "execution_count": 15,
   "metadata": {},
   "outputs": [
    {
     "name": "stdout",
     "output_type": "stream",
     "text": [
      "Sliced Subarray:\n",
      "[[100  15]\n",
      " [ 13  15]]\n",
      "Sliced Subarray after modification:\n",
      "[[200  15]\n",
      " [ 13  15]]\n",
      "Array has not changed:\n",
      "[[100  15  16   3  10]\n",
      " [ 13  15   2  16  12]\n",
      " [ 10   8  18  18  15]\n",
      " [ 17  10  19   3  11]]\n"
     ]
    }
   ],
   "source": [
    "# We can, however, use the copy() method to deliberatey create a copy in case of slicing\n",
    "\n",
    "# let us slice this 2 D array and make another subarray\n",
    "subarray_int_2D = array_int_2D[:2, :2].copy()\n",
    "print(f\"Sliced Subarray:\\n{subarray_int_2D}\")\n",
    "\n",
    "# let us change the first element of the subarray to 100\n",
    "subarray_int_2D[0,0] = 200\n",
    "print(f\"Sliced Subarray after modification:\\n{subarray_int_2D}\")\n",
    "\n",
    "# Let us see the original array now!\n",
    "print(f\"Array has not changed:\\n{array_int_2D}\")"
   ]
  },
  {
   "cell_type": "markdown",
   "metadata": {},
   "source": [
    "## Reshaping Arrays "
   ]
  },
  {
   "cell_type": "code",
   "execution_count": 16,
   "metadata": {},
   "outputs": [
    {
     "name": "stdout",
     "output_type": "stream",
     "text": [
      "Original 1 D array: \n",
      "[ 2.    4.25  6.5   8.75 11.   13.25 15.5  17.75 20.  ]\n",
      "The 1 D array after being reshaped to a 2 D array:\n",
      "[[ 2.    4.25  6.5 ]\n",
      " [ 8.75 11.   13.25]\n",
      " [15.5  17.75 20.  ]]\n"
     ]
    }
   ],
   "source": [
    "# Let us convert a 1 D array by reshaping it to a 2 D array \n",
    "array_1D = np.linspace(start=2, stop=20, num=9)\n",
    "print(f\"Original 1 D array: \\n{array_1D}\")\n",
    "\n",
    "array_1D_reshape_2D = array_1D.reshape((3,3))\n",
    "print(f\"The 1 D array after being reshaped to a 2 D array:\\n{array_1D_reshape_2D}\")"
   ]
  },
  {
   "cell_type": "code",
   "execution_count": 17,
   "metadata": {},
   "outputs": [
    {
     "name": "stdout",
     "output_type": "stream",
     "text": [
      "Original 1 D array: \n",
      "[ 2.    4.25  6.5   8.75 11.   13.25 15.5  17.75 20.  ]\n",
      "Row Vector:\n",
      "[[ 2.    4.25  6.5   8.75 11.   13.25 15.5  17.75 20.  ]]\n",
      "Column Vector:\n",
      "[[ 2.  ]\n",
      " [ 4.25]\n",
      " [ 6.5 ]\n",
      " [ 8.75]\n",
      " [11.  ]\n",
      " [13.25]\n",
      " [15.5 ]\n",
      " [17.75]\n",
      " [20.  ]]\n"
     ]
    }
   ],
   "source": [
    "# Often we convert 1 D array into a 2 D row or a column matrix\n",
    "print(f\"Original 1 D array: \\n{array_1D}\")\n",
    "\n",
    "# reshaping the 1 D to a row vector \n",
    "array_1D_rowvec = array_1D.reshape((1,9))\n",
    "print('Row Vector:')\n",
    "print(array_1D_rowvec)\n",
    "\n",
    "# reshaping the 1 D to a column vector \n",
    "array_1D_colvec = array_1D.reshape((9,1))\n",
    "print('Column Vector:')\n",
    "print(array_1D_colvec)"
   ]
  },
  {
   "cell_type": "markdown",
   "metadata": {},
   "source": [
    "There is an alternate way to acieve the same result! Here we will use the `np.newaxis`"
   ]
  },
  {
   "cell_type": "code",
   "execution_count": 18,
   "metadata": {},
   "outputs": [
    {
     "name": "stdout",
     "output_type": "stream",
     "text": [
      "Original 1 D array: \n",
      "[ 2.    4.25  6.5   8.75 11.   13.25 15.5  17.75 20.  ]\n",
      "Row Vector:\n",
      "[[ 2.    4.25  6.5   8.75 11.   13.25 15.5  17.75 20.  ]]\n",
      "Column Vector:\n",
      "[[ 2.  ]\n",
      " [ 4.25]\n",
      " [ 6.5 ]\n",
      " [ 8.75]\n",
      " [11.  ]\n",
      " [13.25]\n",
      " [15.5 ]\n",
      " [17.75]\n",
      " [20.  ]]\n"
     ]
    }
   ],
   "source": [
    "# Often we convert 1 D array into a 2 D row or a column matrix\n",
    "print(f\"Original 1 D array: \\n{array_1D}\")\n",
    "\n",
    "# reshaping the 1 D to a row vector \n",
    "array_1D_rowvec = array_1D[np.newaxis,:]\n",
    "print('Row Vector:')\n",
    "print(array_1D_rowvec)\n",
    "\n",
    "# reshaping the 1 D to a column vector \n",
    "array_1D_colvec = array_1D[:, np.newaxis]\n",
    "print('Column Vector:')\n",
    "print(array_1D_colvec)"
   ]
  },
  {
   "cell_type": "markdown",
   "metadata": {},
   "source": [
    "## Concatenating two arrays"
   ]
  },
  {
   "cell_type": "code",
   "execution_count": 19,
   "metadata": {},
   "outputs": [
    {
     "name": "stdout",
     "output_type": "stream",
     "text": [
      "[1 2 3 4 5 6 7 8 9]\n"
     ]
    }
   ],
   "source": [
    "# concatenating three 1 D arrays \n",
    "array_1 = np.array([1,2,3])\n",
    "array_2 = np.array([4,5,6])\n",
    "array_3 = np.array([7,8,9])\n",
    "\n",
    "array_concat = np.concatenate([array_1, array_2, array_3]) # note pass the three arrays in a list\n",
    "print(array_concat)"
   ]
  },
  {
   "cell_type": "code",
   "execution_count": 20,
   "metadata": {},
   "outputs": [
    {
     "name": "stdout",
     "output_type": "stream",
     "text": [
      "[[1 2 3]\n",
      " [4 5 6]\n",
      " [7 8 9]]\n",
      "[[1 2 3]\n",
      " [4 5 6]\n",
      " [7 8 9]\n",
      " [1 2 3]\n",
      " [4 5 6]\n",
      " [7 8 9]]\n",
      "[[1 2 3 1 2 3]\n",
      " [4 5 6 4 5 6]\n",
      " [7 8 9 7 8 9]]\n"
     ]
    }
   ],
   "source": [
    "# concatenate 2 D arrays \n",
    "array_4 = array_concat.reshape((3,3))\n",
    "print(array_4)\n",
    "\n",
    "# say I want to concat the array_4 to itself row-wise i.e. first axis \n",
    "array_concat_row = np.concatenate([array_4, array_4])\n",
    "print(array_concat_row)\n",
    "\n",
    "# say I want to concat the array_4 to itself column-wise i.e. second axis \n",
    "array_concat_col = np.concatenate([array_4, array_4], axis=1)\n",
    "print(array_concat_col)"
   ]
  },
  {
   "cell_type": "markdown",
   "metadata": {},
   "source": [
    "So far, we have concatenated the arrays having the same dimensions. However, in reality, it is often the case where the dimensions are not equal. In sych cases of **MIXED DIMENSIONS**, one should preferably use `np.hstack` and `np.vstack`"
   ]
  },
  {
   "cell_type": "code",
   "execution_count": 21,
   "metadata": {},
   "outputs": [
    {
     "name": "stdout",
     "output_type": "stream",
     "text": [
      "[[1 2 3]\n",
      " [1 2 3]\n",
      " [4 5 6]\n",
      " [7 8 9]]\n",
      "[[1 2 3]\n",
      " [4 5 6]\n",
      " [7 8 9]\n",
      " [1 2 3]]\n",
      "[[1 1 2 3]\n",
      " [2 4 5 6]\n",
      " [3 7 8 9]]\n"
     ]
    }
   ],
   "source": [
    "# np.hstack and np.vstack\n",
    "# say, I want to concatenate array_1 to array_4 row-wise i.e. vertically stack the arrays  \n",
    "print(np.vstack([array_1, array_4]))\n",
    "print(np.vstack([array_4,array_1])) # order matters\n",
    "\n",
    "# Let us now stack horizontally \n",
    "# before we stack it horizontally, we need to make it a column vector \n",
    "array_5 = array_1.reshape((3,1))\n",
    "print(np.hstack([array_5, array_4]))"
   ]
  },
  {
   "cell_type": "markdown",
   "metadata": {},
   "source": [
    "## Splitting of the Arraya"
   ]
  },
  {
   "cell_type": "code",
   "execution_count": 22,
   "metadata": {},
   "outputs": [
    {
     "name": "stdout",
     "output_type": "stream",
     "text": [
      "The concatenated array: [1 2 3 4 5 6 7 8 9]\n",
      "The three splits are: [1 2 3], [4 5 6], [7 8 9]\n",
      "The three splits are: [1 2 3], [4 5 6], [7 8 9]\n"
     ]
    }
   ],
   "source": [
    "# split the array_concat into three different arrays\n",
    "print(f\"The concatenated array: {array_concat}\")\n",
    "\n",
    "arr_split_1, arr_split_2, arr_split_3 = np.split(array_concat, indices_or_sections=[3,6])\n",
    "print(f\"The three splits are: {arr_split_1}, {arr_split_2}, {arr_split_3}\")\n",
    "\n",
    "arr_split_1, arr_split_2, arr_split_3 = np.split(array_concat, indices_or_sections=3)\n",
    "print(f\"The three splits are: {arr_split_1}, {arr_split_2}, {arr_split_3}\")"
   ]
  },
  {
   "cell_type": "code",
   "execution_count": 23,
   "metadata": {},
   "outputs": [
    {
     "name": "stdout",
     "output_type": "stream",
     "text": [
      "[array([[1, 2, 3],\n",
      "       [4, 5, 6],\n",
      "       [7, 8, 9]]), array([[1, 2, 3],\n",
      "       [4, 5, 6],\n",
      "       [7, 8, 9]])]\n",
      "[array([[1, 2, 3],\n",
      "       [4, 5, 6]]), array([[7, 8, 9],\n",
      "       [1, 2, 3],\n",
      "       [4, 5, 6],\n",
      "       [7, 8, 9]])]\n",
      "[array([[1, 2],\n",
      "       [4, 5],\n",
      "       [7, 8],\n",
      "       [1, 2],\n",
      "       [4, 5],\n",
      "       [7, 8]]), array([[3],\n",
      "       [6],\n",
      "       [9],\n",
      "       [3],\n",
      "       [6],\n",
      "       [9]])]\n"
     ]
    }
   ],
   "source": [
    "# Note, earlier I had concatenated array_4 to get array_concat_row - let us split them\n",
    "print(np.vsplit(ary=array_concat_row, indices_or_sections=2))\n",
    "print(np.vsplit(ary=array_concat_row, indices_or_sections=[2]))\n",
    "\n",
    "# Note, earlier I had concatenated array_4 to get array_concat_row - let us split them col-wise\n",
    "print(np.hsplit(ary=array_concat_row, indices_or_sections=[2]))"
   ]
  }
 ],
 "metadata": {
  "kernelspec": {
   "display_name": "base",
   "language": "python",
   "name": "python3"
  },
  "language_info": {
   "codemirror_mode": {
    "name": "ipython",
    "version": 3
   },
   "file_extension": ".py",
   "mimetype": "text/x-python",
   "name": "python",
   "nbconvert_exporter": "python",
   "pygments_lexer": "ipython3",
   "version": "3.11.7"
  }
 },
 "nbformat": 4,
 "nbformat_minor": 2
}
