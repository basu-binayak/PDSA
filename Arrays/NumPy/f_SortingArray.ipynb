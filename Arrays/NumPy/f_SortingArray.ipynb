{
 "cells": [
  {
   "cell_type": "markdown",
   "metadata": {},
   "source": [
    "# Sorting of NumPy Arrays "
   ]
  },
  {
   "cell_type": "code",
   "execution_count": 1,
   "metadata": {},
   "outputs": [],
   "source": [
    "import numpy as np \n",
    "import matplotlib.pyplot as plt \n",
    "%matplotlib inline "
   ]
  },
  {
   "cell_type": "markdown",
   "metadata": {},
   "source": [
    "## Sorting in One Dimensional Arrays"
   ]
  },
  {
   "cell_type": "code",
   "execution_count": 5,
   "metadata": {},
   "outputs": [
    {
     "name": "stdout",
     "output_type": "stream",
     "text": [
      "The unsorted array is :\n",
      " [80 16  5 81 74 56 74 44 19 25 30 92 30 97 70 29 92 72 79 23 55 72 77  2\n",
      " 16 54  3 65 25 54 29 44 38  2 53 49 86 15 95 18  2 97 56 74 48 61 66 11\n",
      "  4 84]\n",
      "The sorted array is :\n",
      " [ 2  2  2  3  4  5 11 15 16 16 18 19 23 25 25 29 29 30 30 38 44 44 48 49\n",
      " 53 54 54 55 56 56 61 65 66 70 72 72 74 74 74 77 79 80 81 84 86 92 92 95\n",
      " 97 97]\n",
      "[ 2  2  2  3  4  5 11 15 16 16 18 19 23 25 25 29 29 30 30 38 44 44 48 49\n",
      " 53 54 54 55 56 56 61 65 66 70 72 72 74 74 74 77 79 80 81 84 86 92 92 95\n",
      " 97 97]\n"
     ]
    }
   ],
   "source": [
    "# First np.sort() works like the sorted function in Python - it returns a sorted array \n",
    "\n",
    "arr_0 = np.random.randint(100, size=50)\n",
    "print(f\"The unsorted array is :\\n {arr_0}\")\n",
    "\n",
    "arr_0_sorted = np.sort(arr_0)\n",
    "print(f\"The sorted array is :\\n {arr_0_sorted}\")\n",
    "\n",
    "# Second - use the sort method of the array - it functions like the sort method in Python i.e it sorts the array in place \n",
    "\n",
    "arr_0.sort()\n",
    "print(arr_0)"
   ]
  },
  {
   "cell_type": "code",
   "execution_count": 8,
   "metadata": {},
   "outputs": [
    {
     "name": "stdout",
     "output_type": "stream",
     "text": [
      "The unsorted array is :\n",
      " [70 52 32 70 93]\n",
      "The sorted indice are : [2 1 0 3 4]\n"
     ]
    }
   ],
   "source": [
    "# Realted concept - argsort which returns the indices of the sorted sequence \n",
    "\n",
    "arr_0 = np.random.randint(100, size=5)\n",
    "print(f\"The unsorted array is :\\n {arr_0}\")\n",
    "\n",
    "sorted_i = np.argsort(arr_0)\n",
    "print(f\"The sorted indice are : {sorted_i}\")"
   ]
  },
  {
   "cell_type": "markdown",
   "metadata": {},
   "source": [
    "## Sorting in Two Dimensional Arrays"
   ]
  },
  {
   "cell_type": "code",
   "execution_count": 12,
   "metadata": {},
   "outputs": [
    {
     "name": "stdout",
     "output_type": "stream",
     "text": [
      "The unsorted array is :\n",
      " [[ 2 71 54 81 75 78]\n",
      " [60 35 84 28 80 41]\n",
      " [53 63 81 56 28 18]\n",
      " [87 83 24 90 72 72]]\n",
      "The array with sorted column is :\n",
      " [[ 2 35 24 28 28 18]\n",
      " [53 63 54 56 72 41]\n",
      " [60 71 81 81 75 72]\n",
      " [87 83 84 90 80 78]]\n",
      "The array with sorted column is :\n",
      " [[ 2 54 71 75 78 81]\n",
      " [28 35 41 60 80 84]\n",
      " [18 28 53 56 63 81]\n",
      " [24 72 72 83 87 90]]\n"
     ]
    }
   ],
   "source": [
    "arr_2d = np.random.randint(100, size=(4,6))\n",
    "print(f\"The unsorted array is :\\n {arr_2d}\")\n",
    "\n",
    "# I want to sort each column of the array\n",
    "arr_2d_sortedcol = np.sort(arr_2d, axis=0) # axis is 0 since I am moving across the rows \n",
    "print(f\"The array with sorted column is :\\n {arr_2d_sortedcol}\")\n",
    "\n",
    "# I want to sort eachrow of the array\n",
    "arr_2d_sortedrow = np.sort(arr_2d, axis=1) # axis is 0 since I am moving across the col\n",
    "print(f\"The array with sorted column is :\\n {arr_2d_sortedrow}\")"
   ]
  },
  {
   "cell_type": "markdown",
   "metadata": {},
   "source": [
    "Keep in mind that this treats each row or column as an independent array, and any\n",
    "relationships between the row or column values will be lost!"
   ]
  },
  {
   "cell_type": "markdown",
   "metadata": {},
   "source": [
    "## Partial Sort: Partitioning "
   ]
  },
  {
   "cell_type": "code",
   "execution_count": 25,
   "metadata": {},
   "outputs": [
    {
     "name": "stdout",
     "output_type": "stream",
     "text": [
      "The unsorted array is:\n",
      "[80 48 45 87 48 29  6 55 57 80]\n",
      "The three smallest values on the left and the others on the right of the array looks like:\n",
      "[ 6 29 45 48 48 55 57 80 87 80]\n"
     ]
    }
   ],
   "source": [
    "# Say I want to find the k smallest values of the array\n",
    "arr_1 = np.random.randint(100, size=10)\n",
    "print(f\"The unsorted array is:\\n{arr_1}\")\n",
    "\n",
    "# i want to see the three smallest values \n",
    "arr_1_partialsort = np.partition(arr_1, 3)\n",
    "print(f\"The three smallest values on the left and the others on the right of the array looks like:\\n{arr_1_partialsort}\")"
   ]
  },
  {
   "cell_type": "code",
   "execution_count": 27,
   "metadata": {},
   "outputs": [
    {
     "name": "stdout",
     "output_type": "stream",
     "text": [
      "The unsorted array is :\n",
      " [[14 36 82 98 17 45]\n",
      " [54 77 51 71  9 48]\n",
      " [ 6 71 62 36 89 11]\n",
      " [67 98 81 81 82  4]]\n",
      "First two slots in each row contain the smallest values from that row, with the remaining values filling the remaining slots\n",
      "[[14 17 36 98 82 45]\n",
      " [ 9 48 51 71 54 77]\n",
      " [ 6 11 36 62 89 71]\n",
      " [ 4 67 81 81 82 98]]\n"
     ]
    }
   ],
   "source": [
    "arr_2d = np.random.randint(100, size=(4,6))\n",
    "print(f\"The unsorted array is :\\n {arr_2d}\")\n",
    "\n",
    "print(\"First two slots in each row contain the smallest values from that row, with the remaining values filling the remaining slots\")\n",
    "print(np.partition(arr_2d, 2, axis=1))"
   ]
  }
 ],
 "metadata": {
  "kernelspec": {
   "display_name": "base",
   "language": "python",
   "name": "python3"
  },
  "language_info": {
   "codemirror_mode": {
    "name": "ipython",
    "version": 3
   },
   "file_extension": ".py",
   "mimetype": "text/x-python",
   "name": "python",
   "nbconvert_exporter": "python",
   "pygments_lexer": "ipython3",
   "version": "3.11.7"
  }
 },
 "nbformat": 4,
 "nbformat_minor": 2
}
