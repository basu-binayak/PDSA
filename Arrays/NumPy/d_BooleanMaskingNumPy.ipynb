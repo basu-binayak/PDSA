{
 "cells": [
  {
   "cell_type": "markdown",
   "metadata": {},
   "source": [
    "# Boolean Masking in NumPy"
   ]
  },
  {
   "cell_type": "code",
   "execution_count": 1,
   "metadata": {},
   "outputs": [],
   "source": [
    "import numpy as np"
   ]
  },
  {
   "cell_type": "code",
   "execution_count": 2,
   "metadata": {},
   "outputs": [
    {
     "name": "stdout",
     "output_type": "stream",
     "text": [
      "The array to be used for boolean masking is:\n",
      "[77 95 26 20 79 82 51 14 83 51 15 13 41 68 40 84  0 42 52 95 23 82  7 33\n",
      " 74 57 93 75 91 82 13 93 84 14 97 74 31 13 38 90 78 22 49 85 64 30 11 96\n",
      " 23 51]\n",
      "The boolean array for operation element>=56 is :\n",
      "[ True  True False False  True  True False False  True False False False\n",
      " False  True False  True False False False  True False  True False False\n",
      "  True  True  True  True  True  True False  True  True False  True  True\n",
      " False False False  True  True False False  True  True False False  True\n",
      " False False]\n",
      "The filtered array according to the above logic:\n",
      "[77 95 79 82 83 68 84 95 82 74 57 93 75 91 82 93 84 97 74 90 78 85 64 96]\n"
     ]
    }
   ],
   "source": [
    "# consider a numpy array of integers of 50 values \n",
    "rng = np.random.default_rng(10)\n",
    "int_array = rng.integers(100, size=50)\n",
    "print(f'The array to be used for boolean masking is:\\n{int_array}')\n",
    "\n",
    "# boolean masking \n",
    "print(f\"The boolean array for operation element>=56 is :\\n{int_array>=56}\")\n",
    "# filter according to this boolean logic - the masking step\n",
    "print(f\"The filtered array according to the above logic:\\n{int_array[int_array>=56]}\")"
   ]
  },
  {
   "cell_type": "code",
   "execution_count": 3,
   "metadata": {},
   "outputs": [
    {
     "name": "stdout",
     "output_type": "stream",
     "text": [
      "[[69 32 51]\n",
      " [28 83 60]\n",
      " [17 33 68]\n",
      " [67 31 15]\n",
      " [14 24 78]]\n",
      "The boolean masked array for operation element>=50 is :\n",
      "[[ True False  True]\n",
      " [False  True  True]\n",
      " [False False  True]\n",
      " [ True False False]\n",
      " [False False  True]]\n",
      "The filtered array according to the above logic:\n",
      "[69 51 83 60 68 67 78]\n",
      "The sum of the filtered array:476\n",
      "The filtered array greater than 25 and less than 75 is:\n",
      "[69 32 51 28 60 33 68 67 31]\n",
      "The filtered array greater than 25 and less than 75 (using De'Morgan's law)is:\n",
      "[69 32 51 28 60 33 68 67 31]\n"
     ]
    }
   ],
   "source": [
    "# let us now consider a 2D array \n",
    "int_2D = rng.integers(100, size=(5,3))\n",
    "print(int_2D)\n",
    "\n",
    "# boolean masking \n",
    "print(f\"The boolean masked array for operation element>=50 is :\\n{int_2D>=50}\")\n",
    "# masking - note masking returns a one dimensional array always \n",
    "print(f\"The filtered array according to the above logic:\\n{int_2D[int_2D>=50]}\")\n",
    "# let us now sum the filtered array\n",
    "print(f\"The sum of the filtered array:{np.sum(int_2D[int_2D>=50])}\")\n",
    "\n",
    "# say i want to get the array which is between 25 and 75\n",
    "print(f\"The filtered array greater than 25 and less than 75 is:\\n{int_2D[(int_2D>=25) & (int_2D<=75)]}\")\n",
    "print(f\"The filtered array greater than 25 and less than 75 (using De'Morgan's law)is:\\n{int_2D[~((int_2D<25)|(int_2D>75))]}\")"
   ]
  },
  {
   "cell_type": "markdown",
   "metadata": {},
   "source": [
    "### Difference between and/or and &/|\n",
    "\n",
    "The explanation contrasts **logical operators** (`and`, `or`) with **bitwise operators** (`&`, `|`), highlighting their usage, behavior, and applicable contexts. Here’s a detailed breakdown:\n",
    "\n",
    "---\n",
    "\n",
    "#### **Logical Operators: `and` and `or`**\n",
    "\n",
    "- These treat objects as a whole and evaluate their **truthiness** (whether an object is considered `True` or `False` in Python).\n",
    "- Truthiness is determined as follows:\n",
    "  - Non-zero numbers, non-empty collections, and objects with explicitly `True` boolean values are `True`.\n",
    "  - Zero numbers, `None`, and empty collections are `False`.\n",
    "\n",
    "##### Example:\n",
    "```python\n",
    "bool(42), bool(0)  # 42 is True; 0 is False\n",
    "```\n",
    "\n",
    "1. **`42 and 0`**:\n",
    "   - `and` evaluates both sides.\n",
    "   - If the first operand (`42`) is `True`, it checks the second operand (`0`).\n",
    "   - Since `0` is `False`, the result is `False`.\n",
    "\n",
    "2. **`42 or 0`**:\n",
    "   - `or` returns `True` as soon as it encounters a `True` value.\n",
    "   - `42` is `True`, so it doesn't need to check `0`. The result is `True`.\n",
    "\n",
    "---\n",
    "\n",
    "#### **Bitwise Operators: `&` and `|`**\n",
    "\n",
    "- These operate on the **binary representation** of integers, working **bit by bit**.\n",
    "- Each bit in the binary number is compared:\n",
    "  - **`&` (AND)**: The result is `1` if both bits are `1`, otherwise `0`.\n",
    "  - **`|` (OR)**: The result is `1` if at least one bit is `1`.\n",
    "\n",
    "##### Example:\n",
    "```python\n",
    "bin(42)  # '0b101010' (binary representation of 42)\n",
    "bin(59)  # '0b111011' (binary representation of 59)\n",
    "\n",
    "bin(42 & 59)  # '0b101010'\n",
    "# Bits compared:\n",
    "# 101010 (42)\n",
    "# 111011 (59)\n",
    "# ------\n",
    "# 101010 (Result)\n",
    "\n",
    "bin(42 | 59)  # '0b111011'\n",
    "# Bits compared:\n",
    "# 101010 (42)\n",
    "# 111011 (59)\n",
    "# ------\n",
    "# 111011 (Result)\n",
    "```\n",
    "\n",
    "---\n",
    "\n",
    "#### **Bitwise Operators with Boolean Arrays in NumPy**\n",
    "\n",
    "- In NumPy, `&` and `|` are used for **element-wise logical operations** on Boolean arrays.\n",
    "- Treat the Boolean array as a sequence of bits:\n",
    "  - `1 = True`, `0 = False`.\n",
    "  - Operate on corresponding elements.\n",
    "\n",
    "##### Example:\n",
    "```python\n",
    "import numpy as np\n",
    "\n",
    "a = np.array([True, False, True])\n",
    "b = np.array([False, False, True])\n",
    "\n",
    "a & b  # Element-wise AND: [False, False, True]\n",
    "a | b  # Element-wise OR: [True, False, True]\n",
    "```\n",
    "\n",
    "---\n",
    "\n",
    "#### **Key Differences**\n",
    "\n",
    "1. **Scope of Operation**:\n",
    "   - `and`, `or`: Evaluate objects as single Boolean entities.\n",
    "   - `&`, `|`: Work on individual bits (or array elements in NumPy).\n",
    "\n",
    "2. **Applicability**:\n",
    "   - `and`, `or`: Use in logical expressions for overall truthiness.\n",
    "   - `&`, `|`: Use for bitwise operations or element-wise operations in NumPy.\n",
    "\n",
    "---\n",
    "\n",
    "#### **Summary**\n",
    "- Use `and`/`or` for evaluating **truthiness** of entire objects.\n",
    "- Use `&`/`|` for **bitwise operations** on numbers or **element-wise operations** in arrays like NumPy."
   ]
  },
  {
   "cell_type": "code",
   "execution_count": 4,
   "metadata": {},
   "outputs": [
    {
     "name": "stdout",
     "output_type": "stream",
     "text": [
      "[0 0 0 0 1 1]\n",
      "[1 1 1 1 1 1]\n"
     ]
    },
    {
     "ename": "ValueError",
     "evalue": "The truth value of an array with more than one element is ambiguous. Use a.any() or a.all()",
     "output_type": "error",
     "traceback": [
      "\u001b[1;31m---------------------------------------------------------------------------\u001b[0m",
      "\u001b[1;31mValueError\u001b[0m                                Traceback (most recent call last)",
      "Cell \u001b[1;32mIn[4], line 9\u001b[0m\n\u001b[0;32m      6\u001b[0m \u001b[38;5;28mprint\u001b[39m(arr_1 \u001b[38;5;241m|\u001b[39m arr_2)\n\u001b[0;32m      8\u001b[0m \u001b[38;5;66;03m# BUT - using and/or makes Python take the entire object and determine the truth value - which is not what we wanted!\u001b[39;00m\n\u001b[1;32m----> 9\u001b[0m \u001b[38;5;28mprint\u001b[39m(arr_1 \u001b[38;5;129;01mand\u001b[39;00m arr_2)\n",
      "\u001b[1;31mValueError\u001b[0m: The truth value of an array with more than one element is ambiguous. Use a.any() or a.all()"
     ]
    }
   ],
   "source": [
    "# consider this example \n",
    "arr_1 = np.array([1,0,1,0,1,1])\n",
    "arr_2 = np.array([0,1,0,1,1,1])\n",
    "\n",
    "print(arr_1 & arr_2)\n",
    "print(arr_1 | arr_2)\n",
    "\n",
    "# BUT - using and/or makes Python take the entire object and determine the truth value - which is not what we wanted!\n",
    "print(arr_1 and arr_2)"
   ]
  }
 ],
 "metadata": {
  "kernelspec": {
   "display_name": "base",
   "language": "python",
   "name": "python3"
  },
  "language_info": {
   "codemirror_mode": {
    "name": "ipython",
    "version": 3
   },
   "file_extension": ".py",
   "mimetype": "text/x-python",
   "name": "python",
   "nbconvert_exporter": "python",
   "pygments_lexer": "ipython3",
   "version": "3.11.7"
  }
 },
 "nbformat": 4,
 "nbformat_minor": 2
}
