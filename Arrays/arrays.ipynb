{
 "cells": [
  {
   "cell_type": "markdown",
   "metadata": {},
   "source": [
    "# Arrays\n",
    "\n",
    "In Python, an array is a data structure that can store ***multiple items of the same type***, providing a convenient way to manage large amounts of data by storing them under a single name and indexing them individually.\n",
    "\n",
    "Here are the main properties of an array:\n",
    "\n",
    "1. **Fixed Size**: Once created, the size of an array is fixed, meaning the total number of elements it can hold is set upon initialization.\n",
    "\n",
    "2. **Homogeneous Elements**: Arrays store only elements of the same data type, ensuring type consistency across the array.\n",
    "\n",
    "3. **Contiguous Memory Allocation**: Arrays store elements in contiguous (continuous) memory locations, making access and manipulation faster and more efficient.\n",
    "\n",
    "4. **Indexed Access**: Each element in an array can be accessed by its index, allowing for quick access and retrieval. Indexing generally starts from 0 in most programming languages, including Python.\n",
    "\n",
    "5. **Efficient Memory Use**: Arrays are more memory-efficient than lists when handling large datasets of a single data type, as they don't require the overhead associated with dynamic resizing and multiple data types.\n",
    "\n",
    "6. **Inflexible Size for Basic Arrays**: Unlike lists, basic arrays do not support dynamic resizing. If you need a different size, a new array must be created to accommodate the additional elements.\n",
    "\n",
    "7. **Efficient for Numerical Computation**: Due to their compact and contiguous memory structure, arrays are especially efficient for numerical and mathematical operations, often favored in scientific computing.\n",
    "\n",
    "In Python, arrays created with the `array` module share these properties. However, if you need multi-dimensional arrays or more advanced array features, you might use libraries like **NumPy**.\n",
    "\n",
    "## Using the array Module\n",
    "- Python’s array module offers an array object that is more restrictive than lists but allows only elements of the same type. Here’s an overview of how arrays work in Python using the array module:"
   ]
  },
  {
   "cell_type": "code",
   "execution_count": null,
   "metadata": {},
   "outputs": [],
   "source": []
  }
 ],
 "metadata": {
  "kernelspec": {
   "display_name": "ts_venv",
   "language": "python",
   "name": "python3"
  },
  "language_info": {
   "name": "python",
   "version": "3.10.15"
  }
 },
 "nbformat": 4,
 "nbformat_minor": 2
}
