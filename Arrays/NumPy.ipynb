{
 "cells": [
  {
   "cell_type": "markdown",
   "metadata": {},
   "source": [
    "# NumPy Arrays "
   ]
  },
  {
   "cell_type": "code",
   "execution_count": 60,
   "metadata": {},
   "outputs": [],
   "source": [
    "# import the library\n",
    "import numpy as np"
   ]
  },
  {
   "cell_type": "markdown",
   "metadata": {},
   "source": [
    "## A. Creating a NumPy Array"
   ]
  },
  {
   "cell_type": "code",
   "execution_count": 61,
   "metadata": {},
   "outputs": [
    {
     "name": "stdout",
     "output_type": "stream",
     "text": [
      "[1 5 6 8 9 3]\n",
      "[2.3 4.5 6.7 5.  8.9]\n",
      "[1. 2. 3. 4. 5.]\n",
      "[[1 2 3 4 5]\n",
      " [2 3 4 5 6]\n",
      " [3 4 5 6 7]]\n"
     ]
    }
   ],
   "source": [
    "# Create a NumPy array from list\n",
    "\n",
    "# Integer array \n",
    "int_array = np.array([1,5,6,8,9,3])\n",
    "print(int_array)\n",
    "\n",
    "# float array \n",
    "# note that numpy arrays are homogenous - hence if some types don't match, numpy will upcast them according to the promotion rules. In the example below, an int in upcast to float\n",
    "float_array = np.array([2.3,4.5,6.7,5,8.9])\n",
    "print(float_array)\n",
    "\n",
    "# You can also mention the type while crearing the array \n",
    "float_array = np.array([1,2,3,4,5], dtype=np.float32)\n",
    "print(float_array)\n",
    "\n",
    "# Python lists are always one dimensional - however NumPy arrays can be multidimensional \n",
    "md_array = np.array([range(j,j+5) for j in range(1,4)]) # this is a 3x5 array\n",
    "print(md_array)"
   ]
  },
  {
   "cell_type": "markdown",
   "metadata": {},
   "source": [
    "Let us now create NumPy arrays from Scratch"
   ]
  },
  {
   "cell_type": "code",
   "execution_count": 62,
   "metadata": {},
   "outputs": [
    {
     "name": "stdout",
     "output_type": "stream",
     "text": [
      "[0. 0. 0. 0. 0. 0. 0. 0.]\n",
      "[0 0 0 0 0 0 0 0]\n",
      "[[0. 0. 0. 0. 0.]\n",
      " [0. 0. 0. 0. 0.]\n",
      " [0. 0. 0. 0. 0.]]\n"
     ]
    }
   ],
   "source": [
    "# np.zeros\n",
    "\n",
    "print(np.zeros(8)) # by default, creates a floating array of 0s of length 8\n",
    "print(np.zeros(8, dtype=np.int32)) # create a integer array now \n",
    "\n",
    "# multidimensional\n",
    "print(np.zeros((3,5))) # provide dtype if you want specifically a data type "
   ]
  },
  {
   "cell_type": "code",
   "execution_count": 63,
   "metadata": {},
   "outputs": [
    {
     "name": "stdout",
     "output_type": "stream",
     "text": [
      "[1. 1. 1. 1. 1. 1. 1. 1.]\n",
      "[[1. 1. 1. 1. 1.]\n",
      " [1. 1. 1. 1. 1.]\n",
      " [1. 1. 1. 1. 1.]\n",
      " [1. 1. 1. 1. 1.]]\n"
     ]
    }
   ],
   "source": [
    "# np.ones \n",
    "\n",
    "print(np.ones(8))\n",
    "\n",
    "# multidimensional\n",
    "print(np.ones((4,5)))"
   ]
  },
  {
   "cell_type": "code",
   "execution_count": 64,
   "metadata": {},
   "outputs": [
    {
     "name": "stdout",
     "output_type": "stream",
     "text": [
      "[2.3 2.3 2.3 2.3 2.3]\n",
      "[[3.4 3.4 3.4 3.4 3.4]\n",
      " [3.4 3.4 3.4 3.4 3.4]\n",
      " [3.4 3.4 3.4 3.4 3.4]]\n"
     ]
    }
   ],
   "source": [
    "# np.full\n",
    "\n",
    "print(np.full(5, fill_value=2.3)) # creates a array of length 5 filled with 2.3\n",
    "\n",
    "# multidimensional\n",
    "print(np.full((3,5), fill_value=3.4))"
   ]
  },
  {
   "cell_type": "code",
   "execution_count": 65,
   "metadata": {},
   "outputs": [
    {
     "name": "stdout",
     "output_type": "stream",
     "text": [
      "[ 0.   2.5  5.   7.5 10.  12.5 15.  17.5]\n",
      "[[ 0  1  2]\n",
      " [ 5  6  7]\n",
      " [10 11 12]\n",
      " [15 16 17]]\n"
     ]
    }
   ],
   "source": [
    "# np.arange \n",
    "\n",
    "print(np.arange(start=0, stop=20, step=2.5)) # this creates a array that starts at 0, goes till 20 with a step size of 2.5\n",
    "\n",
    "# multidiemnsional \n",
    "print(np.array([range(i, i+3) for i in np.arange(0,20,5)]))"
   ]
  },
  {
   "cell_type": "code",
   "execution_count": 66,
   "metadata": {},
   "outputs": [
    {
     "name": "stdout",
     "output_type": "stream",
     "text": [
      "[ 0.          0.68965517  1.37931034  2.06896552  2.75862069  3.44827586\n",
      "  4.13793103  4.82758621  5.51724138  6.20689655  6.89655172  7.5862069\n",
      "  8.27586207  8.96551724  9.65517241 10.34482759 11.03448276 11.72413793\n",
      " 12.4137931  13.10344828 13.79310345 14.48275862 15.17241379 15.86206897\n",
      " 16.55172414 17.24137931 17.93103448 18.62068966 19.31034483 20.        ]\n"
     ]
    }
   ],
   "source": [
    "# np.linspace \n",
    "\n",
    "print(np.linspace(start=0, stop=20, num=30)) # gives a array of length 30 starting from 0 and ending at 20 equally spaced"
   ]
  },
  {
   "cell_type": "code",
   "execution_count": 67,
   "metadata": {},
   "outputs": [
    {
     "name": "stdout",
     "output_type": "stream",
     "text": [
      "[[0.89965536 0.23757411 0.30942555]\n",
      " [0.34720266 0.72215597 0.44590048]\n",
      " [0.774261   0.33831251 0.84753788]]\n",
      "[[ 1.52061426 -0.2560895  -0.72700028]\n",
      " [-0.21178624 -1.22182636 -0.76107052]\n",
      " [ 1.52254348  0.04392495  0.1405856 ]]\n",
      "[[15  7  8]\n",
      " [ 5 12  5]\n",
      " [ 2  4  5]]\n"
     ]
    }
   ],
   "source": [
    "# Create a 3x3 array of uniformly distributed pseudorandom values betweeen 0 and 1\n",
    "\n",
    "print(np.random.random(size=(3,3)))\n",
    "\n",
    "# Create a 3x3 array of normally distributed pseudorandom values with mean 0 and sd 1 \n",
    "\n",
    "print(np.random.normal(loc=0, scale=1, size=(3,3)))\n",
    "\n",
    "# Create a 3x3 array of  pseudorandom integer values between 0 and 10\n",
    "print(np.random.randint(low=2, high=20, size=(3,3)))"
   ]
  },
  {
   "cell_type": "code",
   "execution_count": 68,
   "metadata": {},
   "outputs": [
    {
     "name": "stdout",
     "output_type": "stream",
     "text": [
      "[[1. 0. 0.]\n",
      " [0. 1. 0.]\n",
      " [0. 0. 1.]]\n"
     ]
    }
   ],
   "source": [
    "# np.eye\n",
    "\n",
    "print(np.eye(N=3)) # create a 3x3 identity matrix\n"
   ]
  },
  {
   "cell_type": "code",
   "execution_count": 69,
   "metadata": {},
   "outputs": [
    {
     "name": "stdout",
     "output_type": "stream",
     "text": [
      "[ 0.   2.5  5.   7.5 10.  12.5 15.  17.5]\n"
     ]
    }
   ],
   "source": [
    "# np.empty \n",
    "\n",
    "print(np.empty(8)) # creates a uninitialized array of 8 integers - the values will be whatever happens to exist at that perticular memory location\n"
   ]
  },
  {
   "cell_type": "markdown",
   "metadata": {},
   "source": [
    "**Let us have a look at the datatypes in NumPy**\n",
    "\n",
    "\n",
    "| **Data Type**  | **Description**                                                                                 |\n",
    "|-----------------|-----------------------------------------------------------------------------------------------|\n",
    "| `bool_`         | Boolean (True or False) stored as a byte                                                      |\n",
    "| `int_`          | Default integer type (same as C `long`; normally either `int64` or `int32`)                   |\n",
    "| `intc`          | Identical to C `int` (normally `int32` or `int64`)                                            |\n",
    "| `intp`          | Integer used for indexing (same as C `ssize_t`; normally either `int32` or `int64`)           |\n",
    "| `int8`          | Byte (-128 to 127)                                                                           |\n",
    "| `int16`         | Integer (-32,768 to 32,767)                                                                  |\n",
    "| `int32`         | Integer (-2,147,483,648 to 2,147,483,647)                                                    |\n",
    "| `int64`         | Integer (-9,223,372,036,854,775,808 to 9,223,372,036,854,775,807)                            |\n",
    "| `uint8`         | Unsigned integer (0 to 255)                                                                  |\n",
    "| `uint16`        | Unsigned integer (0 to 65,535)                                                               |\n",
    "| `uint32`        | Unsigned integer (0 to 4,294,967,295)                                                        |\n",
    "| `uint64`        | Unsigned integer (0 to 18,446,744,073,709,551,615)                                           |\n",
    "| `float_`        | Shorthand for `float64`                                                                      |\n",
    "| `float16`       | Half-precision float: sign bit, 5 bits exponent, 10 bits mantissa                            |\n",
    "| `float32`       | Single-precision float: sign bit, 8 bits exponent, 23 bits mantissa                          |\n",
    "| `float64`       | Double-precision float: sign bit, 11 bits exponent, 52 bits mantissa                         |\n",
    "| `complex_`      | Shorthand for `complex128`                                                                   |\n",
    "| `complex64`     | Complex number, represented by two 32-bit floats                                             |\n",
    "| `complex128`    | Complex number, represented by two 64-bit floats                                             |\n"
   ]
  },
  {
   "cell_type": "markdown",
   "metadata": {},
   "source": [
    "## NumPY Array Basics"
   ]
  },
  {
   "cell_type": "markdown",
   "metadata": {},
   "source": [
    "### Array Attributes "
   ]
  },
  {
   "cell_type": "code",
   "execution_count": 70,
   "metadata": {},
   "outputs": [
    {
     "name": "stdout",
     "output_type": "stream",
     "text": [
      "The dimensions are : 1, 2, 3\n",
      "The shape are : (6,), (4, 5), (3, 4, 5)\n",
      "The sizes are : 6, 20, 60\n",
      "The datatypes are : int32, int32, int32\n"
     ]
    }
   ],
   "source": [
    "# contruct an array\n",
    "array_int_1D = np.random.randint(low=2, high=20, size=6) # 1 dimensional\n",
    "array_int_2D = np.random.randint(low=2, high=20, size=(4,5)) # 2 dimensional\n",
    "array_int_3D = np.random.randint(low=2, high=20, size=(3,4,5)) # 3 dimensional\n",
    "\n",
    "# accessing the attributes of the array\n",
    "print(f\"The dimensions are : {array_int_1D.ndim}, {array_int_2D.ndim}, {array_int_3D.ndim}\") # gives the dimensions of the three arrays\n",
    "print(f\"The shape are : {array_int_1D.shape}, {array_int_2D.shape}, {array_int_3D.shape}\") # gives the shape of the arrays \n",
    "print(f\"The sizes are : {array_int_1D.size}, {array_int_2D.size}, {array_int_3D.size}\") # gives the total number of elements in the array\n",
    "print(f\"The datatypes are : {array_int_1D.dtype}, {array_int_2D.dtype}, {array_int_3D.dtype}\") # gives the datatype of the elements of the array"
   ]
  },
  {
   "cell_type": "markdown",
   "metadata": {},
   "source": [
    "### Array Indexing"
   ]
  },
  {
   "cell_type": "code",
   "execution_count": 71,
   "metadata": {},
   "outputs": [
    {
     "name": "stdout",
     "output_type": "stream",
     "text": [
      "[17 19  9 16  3 14]\n"
     ]
    }
   ],
   "source": [
    "# Let us first print the three arrays we stated above \n",
    "print(array_int_1D)"
   ]
  },
  {
   "cell_type": "code",
   "execution_count": 72,
   "metadata": {},
   "outputs": [
    {
     "name": "stdout",
     "output_type": "stream",
     "text": [
      "[[17  8 13  9 15]\n",
      " [ 4 17 13 13  7]\n",
      " [15 13  7  7 14]\n",
      " [ 2  8 13 10  9]]\n"
     ]
    }
   ],
   "source": [
    "print(array_int_2D)"
   ]
  },
  {
   "cell_type": "code",
   "execution_count": 73,
   "metadata": {},
   "outputs": [
    {
     "name": "stdout",
     "output_type": "stream",
     "text": [
      "[[[12 16  3  7 12]\n",
      "  [19 19 13  5 14]\n",
      "  [15 12  5 16  2]\n",
      "  [18  4  4  9  5]]\n",
      "\n",
      " [[ 5 18  8  2 17]\n",
      "  [11  2  6 13 11]\n",
      "  [11  3  5  7  3]\n",
      "  [10 11  4 10  2]]\n",
      "\n",
      " [[17 11 16 13  3]\n",
      "  [10  6  2  7  8]\n",
      "  [19 19 12 11 16]\n",
      "  [16 14  2  5  6]]]\n"
     ]
    }
   ],
   "source": [
    "print(array_int_3D)"
   ]
  },
  {
   "cell_type": "code",
   "execution_count": 74,
   "metadata": {},
   "outputs": [
    {
     "name": "stdout",
     "output_type": "stream",
     "text": [
      "The second element of the 1 D array stated above is : 19\n",
      "The (2,3)th element i.e. the lement at the intersection of the second row and the 3rd column is : 13\n",
      "The element at (2,3,1)th position is : 11\n"
     ]
    }
   ],
   "source": [
    "# indexing a 1 D array\n",
    "print(f'The second element of the 1 D array stated above is : {array_int_1D[1]}')\n",
    "print(f'The (2,3)th element i.e. the lement at the intersection of the second row and the 3rd column is : {array_int_2D[1,2]}')\n",
    "print(f'The element at (2,3,1)th position is : {array_int_3D[1,2,0]}')"
   ]
  },
  {
   "cell_type": "markdown",
   "metadata": {},
   "source": [
    "### Array Slicing"
   ]
  },
  {
   "cell_type": "code",
   "execution_count": 75,
   "metadata": {},
   "outputs": [
    {
     "name": "stdout",
     "output_type": "stream",
     "text": [
      "Sliced 1 D array : [16  3 14]\n",
      "Every second element of the 1 D array: [17  9  3]\n",
      "every second element from index 3, reversed : [16 19]\n",
      "First 2 rows and 3 columns:\n",
      "[[17  8 13]\n",
      " [ 4 17 13]]\n",
      "All rows and every second column:\n",
      " [[17 13 15]\n",
      " [ 4 13  7]\n",
      " [15  7 14]\n",
      " [ 2 13  9]]\n",
      "Rows ordering reversed(i.e. last row becomes the first row and so on):\n",
      "[[ 2  8 13 10  9]\n",
      " [15 13  7  7 14]\n",
      " [ 4 17 13 13  7]\n",
      " [17  8 13  9 15]]\n",
      "Columns ordering reversed: \n",
      "[[15  9 13  8 17]\n",
      " [ 7 13 13 17  4]\n",
      " [14  7  7 13 15]\n",
      " [ 9 10 13  8  2]]\n",
      "Both row and column ordering reversed:\n",
      "[[ 9 10 13  8  2]\n",
      " [14  7  7 13 15]\n",
      " [ 7 13 13 17  4]\n",
      " [15  9 13  8 17]]\n",
      "Second column:\n",
      "[ 8 17 13  8]\n",
      "Second row:\n",
      "[ 4 17 13 13  7]\n"
     ]
    }
   ],
   "source": [
    "# Slicing a 1 D array \n",
    "print(f\"Sliced 1 D array : {array_int_1D[3:]}\")\n",
    "print(f\"Every second element of the 1 D array: {array_int_1D[::2]}\")\n",
    "print(f\"every second element from index 3, reversed : {array_int_1D[3::-2]}\")\n",
    "\n",
    "# Slicing a 2 D array - Multidimensional Subarrays \n",
    "print(f\"First 2 rows and 3 columns:\\n{array_int_2D[:2, :3]}\")\n",
    "print(f\"All rows and every second column:\\n {array_int_2D[:, ::2]}\")\n",
    "print(f\"Rows ordering reversed(i.e. last row becomes the first row and so on):\\n{array_int_2D[::-1,:]}\")\n",
    "print(f\"Columns ordering reversed: \\n{array_int_2D[:,::-1]}\")\n",
    "print(f\"Both row and column ordering reversed:\\n{array_int_2D[::-1,::-1]}\")\n",
    "\n",
    "# Common operations on a 2 D array - involves both indexing and slicing \n",
    "print(f\"Second column:\\n{array_int_2D[:, 1]}\")\n",
    "print(f\"Second row:\\n{array_int_2D[1,:]}\")"
   ]
  },
  {
   "cell_type": "markdown",
   "metadata": {},
   "source": [
    "**NOTE**\n",
    "Unlike the Python list slices, NumPy array slices are returned as ***VIEWS*** rather than ***COPIES*** of the array data. "
   ]
  },
  {
   "cell_type": "code",
   "execution_count": 76,
   "metadata": {},
   "outputs": [
    {
     "name": "stdout",
     "output_type": "stream",
     "text": [
      "[[17  8 13  9 15]\n",
      " [ 4 17 13 13  7]\n",
      " [15 13  7  7 14]\n",
      " [ 2  8 13 10  9]]\n"
     ]
    }
   ],
   "source": [
    "# Illustration of the above point \n",
    "# Consider the 2 D array we are dealing with \n",
    "print(array_int_2D)"
   ]
  },
  {
   "cell_type": "code",
   "execution_count": 77,
   "metadata": {},
   "outputs": [
    {
     "name": "stdout",
     "output_type": "stream",
     "text": [
      "Sliced Subarray:\n",
      "[[17  8]\n",
      " [ 4 17]]\n",
      "Sliced Subarray after modification:\n",
      "[[100   8]\n",
      " [  4  17]]\n",
      "Original array has changed too!:\n",
      "[[100   8  13   9  15]\n",
      " [  4  17  13  13   7]\n",
      " [ 15  13   7   7  14]\n",
      " [  2   8  13  10   9]]\n"
     ]
    }
   ],
   "source": [
    "# let us slice this 2 D array and make another subarray\n",
    "subarray_int_2D = array_int_2D[:2, :2]\n",
    "print(f\"Sliced Subarray:\\n{subarray_int_2D}\")\n",
    "\n",
    "# let us change the first element of the subarray to 100\n",
    "subarray_int_2D[0,0] = 100\n",
    "print(f\"Sliced Subarray after modification:\\n{subarray_int_2D}\")\n",
    "\n",
    "# Let us see the original array now!\n",
    "print(f\"Original array has changed too!:\\n{array_int_2D}\")"
   ]
  },
  {
   "cell_type": "code",
   "execution_count": 79,
   "metadata": {},
   "outputs": [
    {
     "name": "stdout",
     "output_type": "stream",
     "text": [
      "Sliced Subarray:\n",
      "[[ 4 17 13 13  7]\n",
      " [ 2  8 13 10  9]]\n",
      "Sliced Subarray after modification:\n",
      "[[100  17  13  13   7]\n",
      " [  2   8  13  10   9]]\n",
      "The array has not changed:\n",
      "[[100   8  13   9  15]\n",
      " [  4  17  13  13   7]\n",
      " [ 15  13   7   7  14]\n",
      " [  2   8  13  10   9]]\n"
     ]
    }
   ],
   "source": [
    "# BUT let us now do a fancy slicing \n",
    "# let us slice this 2 D array and make another subarray\n",
    "subarray_int_2D = array_int_2D[[1,3], :]\n",
    "print(f\"Sliced Subarray:\\n{subarray_int_2D}\")\n",
    "\n",
    "# let us change the first element of the subarray to 100\n",
    "subarray_int_2D[0,0] = 100\n",
    "print(f\"Sliced Subarray after modification:\\n{subarray_int_2D}\")\n",
    "\n",
    "# Let us see the original array now!\n",
    "print(f\"The array has not changed:\\n{array_int_2D}\")"
   ]
  },
  {
   "cell_type": "markdown",
   "metadata": {},
   "source": [
    "**Key Difference**\n",
    "- Simple slicing (like `array_int_2D[:2, :2]`) produces a **view**.\n",
    "- Fancy indexing (like `array_int_2D[[1, 3], :]`) produces a **copy**."
   ]
  },
  {
   "cell_type": "code",
   "execution_count": 81,
   "metadata": {},
   "outputs": [
    {
     "name": "stdout",
     "output_type": "stream",
     "text": [
      "Sliced Subarray:\n",
      "[[100   8]\n",
      " [  4  17]]\n",
      "Sliced Subarray after modification:\n",
      "[[200   8]\n",
      " [  4  17]]\n",
      "Array has not changed:\n",
      "[[100   8  13   9  15]\n",
      " [  4  17  13  13   7]\n",
      " [ 15  13   7   7  14]\n",
      " [  2   8  13  10   9]]\n"
     ]
    }
   ],
   "source": [
    "# We can, however, use the copy() method to deliberatey create a copy in case of slicing\n",
    "\n",
    "# let us slice this 2 D array and make another subarray\n",
    "subarray_int_2D = array_int_2D[:2, :2].copy()\n",
    "print(f\"Sliced Subarray:\\n{subarray_int_2D}\")\n",
    "\n",
    "# let us change the first element of the subarray to 100\n",
    "subarray_int_2D[0,0] = 200\n",
    "print(f\"Sliced Subarray after modification:\\n{subarray_int_2D}\")\n",
    "\n",
    "# Let us see the original array now!\n",
    "print(f\"Array has not changed:\\n{array_int_2D}\")"
   ]
  },
  {
   "cell_type": "code",
   "execution_count": null,
   "metadata": {},
   "outputs": [],
   "source": []
  }
 ],
 "metadata": {
  "kernelspec": {
   "display_name": "base",
   "language": "python",
   "name": "python3"
  },
  "language_info": {
   "codemirror_mode": {
    "name": "ipython",
    "version": 3
   },
   "file_extension": ".py",
   "mimetype": "text/x-python",
   "name": "python",
   "nbconvert_exporter": "python",
   "pygments_lexer": "ipython3",
   "version": "3.11.7"
  }
 },
 "nbformat": 4,
 "nbformat_minor": 2
}
