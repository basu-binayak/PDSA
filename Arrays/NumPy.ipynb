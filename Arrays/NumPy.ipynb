{
 "cells": [
  {
   "cell_type": "markdown",
   "metadata": {},
   "source": [
    "# NumPy Arrays "
   ]
  },
  {
   "cell_type": "code",
   "execution_count": 3,
   "metadata": {},
   "outputs": [],
   "source": [
    "# import the library\n",
    "import numpy as np"
   ]
  },
  {
   "cell_type": "markdown",
   "metadata": {},
   "source": [
    "## A. Creating a NumPy Array"
   ]
  },
  {
   "cell_type": "code",
   "execution_count": 61,
   "metadata": {},
   "outputs": [
    {
     "name": "stdout",
     "output_type": "stream",
     "text": [
      "[1 5 6 8 9 3]\n",
      "[2.3 4.5 6.7 5.  8.9]\n",
      "[1. 2. 3. 4. 5.]\n",
      "[[1 2 3 4 5]\n",
      " [2 3 4 5 6]\n",
      " [3 4 5 6 7]]\n"
     ]
    }
   ],
   "source": [
    "# Create a NumPy array from list\n",
    "\n",
    "# Integer array \n",
    "int_array = np.array([1,5,6,8,9,3])\n",
    "print(int_array)\n",
    "\n",
    "# float array \n",
    "# note that numpy arrays are homogenous - hence if some types don't match, numpy will upcast them according to the promotion rules. In the example below, an int in upcast to float\n",
    "float_array = np.array([2.3,4.5,6.7,5,8.9])\n",
    "print(float_array)\n",
    "\n",
    "# You can also mention the type while crearing the array \n",
    "float_array = np.array([1,2,3,4,5], dtype=np.float32)\n",
    "print(float_array)\n",
    "\n",
    "# Python lists are always one dimensional - however NumPy arrays can be multidimensional \n",
    "md_array = np.array([range(j,j+5) for j in range(1,4)]) # this is a 3x5 array\n",
    "print(md_array)"
   ]
  },
  {
   "cell_type": "markdown",
   "metadata": {},
   "source": [
    "Let us now create NumPy arrays from Scratch"
   ]
  },
  {
   "cell_type": "code",
   "execution_count": 62,
   "metadata": {},
   "outputs": [
    {
     "name": "stdout",
     "output_type": "stream",
     "text": [
      "[0. 0. 0. 0. 0. 0. 0. 0.]\n",
      "[0 0 0 0 0 0 0 0]\n",
      "[[0. 0. 0. 0. 0.]\n",
      " [0. 0. 0. 0. 0.]\n",
      " [0. 0. 0. 0. 0.]]\n"
     ]
    }
   ],
   "source": [
    "# np.zeros\n",
    "\n",
    "print(np.zeros(8)) # by default, creates a floating array of 0s of length 8\n",
    "print(np.zeros(8, dtype=np.int32)) # create a integer array now \n",
    "\n",
    "# multidimensional\n",
    "print(np.zeros((3,5))) # provide dtype if you want specifically a data type "
   ]
  },
  {
   "cell_type": "code",
   "execution_count": 63,
   "metadata": {},
   "outputs": [
    {
     "name": "stdout",
     "output_type": "stream",
     "text": [
      "[1. 1. 1. 1. 1. 1. 1. 1.]\n",
      "[[1. 1. 1. 1. 1.]\n",
      " [1. 1. 1. 1. 1.]\n",
      " [1. 1. 1. 1. 1.]\n",
      " [1. 1. 1. 1. 1.]]\n"
     ]
    }
   ],
   "source": [
    "# np.ones \n",
    "\n",
    "print(np.ones(8))\n",
    "\n",
    "# multidimensional\n",
    "print(np.ones((4,5)))"
   ]
  },
  {
   "cell_type": "code",
   "execution_count": 64,
   "metadata": {},
   "outputs": [
    {
     "name": "stdout",
     "output_type": "stream",
     "text": [
      "[2.3 2.3 2.3 2.3 2.3]\n",
      "[[3.4 3.4 3.4 3.4 3.4]\n",
      " [3.4 3.4 3.4 3.4 3.4]\n",
      " [3.4 3.4 3.4 3.4 3.4]]\n"
     ]
    }
   ],
   "source": [
    "# np.full\n",
    "\n",
    "print(np.full(5, fill_value=2.3)) # creates a array of length 5 filled with 2.3\n",
    "\n",
    "# multidimensional\n",
    "print(np.full((3,5), fill_value=3.4))"
   ]
  },
  {
   "cell_type": "code",
   "execution_count": 65,
   "metadata": {},
   "outputs": [
    {
     "name": "stdout",
     "output_type": "stream",
     "text": [
      "[ 0.   2.5  5.   7.5 10.  12.5 15.  17.5]\n",
      "[[ 0  1  2]\n",
      " [ 5  6  7]\n",
      " [10 11 12]\n",
      " [15 16 17]]\n"
     ]
    }
   ],
   "source": [
    "# np.arange \n",
    "\n",
    "print(np.arange(start=0, stop=20, step=2.5)) # this creates a array that starts at 0, goes till 20 with a step size of 2.5\n",
    "\n",
    "# multidiemnsional \n",
    "print(np.array([range(i, i+3) for i in np.arange(0,20,5)]))"
   ]
  },
  {
   "cell_type": "code",
   "execution_count": 66,
   "metadata": {},
   "outputs": [
    {
     "name": "stdout",
     "output_type": "stream",
     "text": [
      "[ 0.          0.68965517  1.37931034  2.06896552  2.75862069  3.44827586\n",
      "  4.13793103  4.82758621  5.51724138  6.20689655  6.89655172  7.5862069\n",
      "  8.27586207  8.96551724  9.65517241 10.34482759 11.03448276 11.72413793\n",
      " 12.4137931  13.10344828 13.79310345 14.48275862 15.17241379 15.86206897\n",
      " 16.55172414 17.24137931 17.93103448 18.62068966 19.31034483 20.        ]\n"
     ]
    }
   ],
   "source": [
    "# np.linspace \n",
    "\n",
    "print(np.linspace(start=0, stop=20, num=30)) # gives a array of length 30 starting from 0 and ending at 20 equally spaced"
   ]
  },
  {
   "cell_type": "code",
   "execution_count": 67,
   "metadata": {},
   "outputs": [
    {
     "name": "stdout",
     "output_type": "stream",
     "text": [
      "[[0.89965536 0.23757411 0.30942555]\n",
      " [0.34720266 0.72215597 0.44590048]\n",
      " [0.774261   0.33831251 0.84753788]]\n",
      "[[ 1.52061426 -0.2560895  -0.72700028]\n",
      " [-0.21178624 -1.22182636 -0.76107052]\n",
      " [ 1.52254348  0.04392495  0.1405856 ]]\n",
      "[[15  7  8]\n",
      " [ 5 12  5]\n",
      " [ 2  4  5]]\n"
     ]
    }
   ],
   "source": [
    "# Create a 3x3 array of uniformly distributed pseudorandom values betweeen 0 and 1\n",
    "\n",
    "print(np.random.random(size=(3,3)))\n",
    "\n",
    "# Create a 3x3 array of normally distributed pseudorandom values with mean 0 and sd 1 \n",
    "\n",
    "print(np.random.normal(loc=0, scale=1, size=(3,3)))\n",
    "\n",
    "# Create a 3x3 array of  pseudorandom integer values between 0 and 10\n",
    "print(np.random.randint(low=2, high=20, size=(3,3)))"
   ]
  },
  {
   "cell_type": "code",
   "execution_count": 68,
   "metadata": {},
   "outputs": [
    {
     "name": "stdout",
     "output_type": "stream",
     "text": [
      "[[1. 0. 0.]\n",
      " [0. 1. 0.]\n",
      " [0. 0. 1.]]\n"
     ]
    }
   ],
   "source": [
    "# np.eye\n",
    "\n",
    "print(np.eye(N=3)) # create a 3x3 identity matrix\n"
   ]
  },
  {
   "cell_type": "code",
   "execution_count": 69,
   "metadata": {},
   "outputs": [
    {
     "name": "stdout",
     "output_type": "stream",
     "text": [
      "[ 0.   2.5  5.   7.5 10.  12.5 15.  17.5]\n"
     ]
    }
   ],
   "source": [
    "# np.empty \n",
    "\n",
    "print(np.empty(8)) # creates a uninitialized array of 8 integers - the values will be whatever happens to exist at that perticular memory location\n"
   ]
  },
  {
   "cell_type": "markdown",
   "metadata": {},
   "source": [
    "**Let us have a look at the datatypes in NumPy**\n",
    "\n",
    "\n",
    "| **Data Type**  | **Description**                                                                                 |\n",
    "|-----------------|-----------------------------------------------------------------------------------------------|\n",
    "| `bool_`         | Boolean (True or False) stored as a byte                                                      |\n",
    "| `int_`          | Default integer type (same as C `long`; normally either `int64` or `int32`)                   |\n",
    "| `intc`          | Identical to C `int` (normally `int32` or `int64`)                                            |\n",
    "| `intp`          | Integer used for indexing (same as C `ssize_t`; normally either `int32` or `int64`)           |\n",
    "| `int8`          | Byte (-128 to 127)                                                                           |\n",
    "| `int16`         | Integer (-32,768 to 32,767)                                                                  |\n",
    "| `int32`         | Integer (-2,147,483,648 to 2,147,483,647)                                                    |\n",
    "| `int64`         | Integer (-9,223,372,036,854,775,808 to 9,223,372,036,854,775,807)                            |\n",
    "| `uint8`         | Unsigned integer (0 to 255)                                                                  |\n",
    "| `uint16`        | Unsigned integer (0 to 65,535)                                                               |\n",
    "| `uint32`        | Unsigned integer (0 to 4,294,967,295)                                                        |\n",
    "| `uint64`        | Unsigned integer (0 to 18,446,744,073,709,551,615)                                           |\n",
    "| `float_`        | Shorthand for `float64`                                                                      |\n",
    "| `float16`       | Half-precision float: sign bit, 5 bits exponent, 10 bits mantissa                            |\n",
    "| `float32`       | Single-precision float: sign bit, 8 bits exponent, 23 bits mantissa                          |\n",
    "| `float64`       | Double-precision float: sign bit, 11 bits exponent, 52 bits mantissa                         |\n",
    "| `complex_`      | Shorthand for `complex128`                                                                   |\n",
    "| `complex64`     | Complex number, represented by two 32-bit floats                                             |\n",
    "| `complex128`    | Complex number, represented by two 64-bit floats                                             |\n"
   ]
  },
  {
   "cell_type": "markdown",
   "metadata": {},
   "source": [
    "## NumPY Array Basics"
   ]
  },
  {
   "cell_type": "markdown",
   "metadata": {},
   "source": [
    "### Array Attributes "
   ]
  },
  {
   "cell_type": "code",
   "execution_count": 70,
   "metadata": {},
   "outputs": [
    {
     "name": "stdout",
     "output_type": "stream",
     "text": [
      "The dimensions are : 1, 2, 3\n",
      "The shape are : (6,), (4, 5), (3, 4, 5)\n",
      "The sizes are : 6, 20, 60\n",
      "The datatypes are : int32, int32, int32\n"
     ]
    }
   ],
   "source": [
    "# contruct an array\n",
    "array_int_1D = np.random.randint(low=2, high=20, size=6) # 1 dimensional\n",
    "array_int_2D = np.random.randint(low=2, high=20, size=(4,5)) # 2 dimensional\n",
    "array_int_3D = np.random.randint(low=2, high=20, size=(3,4,5)) # 3 dimensional\n",
    "\n",
    "# accessing the attributes of the array\n",
    "print(f\"The dimensions are : {array_int_1D.ndim}, {array_int_2D.ndim}, {array_int_3D.ndim}\") # gives the dimensions of the three arrays\n",
    "print(f\"The shape are : {array_int_1D.shape}, {array_int_2D.shape}, {array_int_3D.shape}\") # gives the shape of the arrays \n",
    "print(f\"The sizes are : {array_int_1D.size}, {array_int_2D.size}, {array_int_3D.size}\") # gives the total number of elements in the array\n",
    "print(f\"The datatypes are : {array_int_1D.dtype}, {array_int_2D.dtype}, {array_int_3D.dtype}\") # gives the datatype of the elements of the array"
   ]
  },
  {
   "cell_type": "markdown",
   "metadata": {},
   "source": [
    "### Array Indexing"
   ]
  },
  {
   "cell_type": "code",
   "execution_count": 71,
   "metadata": {},
   "outputs": [
    {
     "name": "stdout",
     "output_type": "stream",
     "text": [
      "[17 19  9 16  3 14]\n"
     ]
    }
   ],
   "source": [
    "# Let us first print the three arrays we stated above \n",
    "print(array_int_1D)"
   ]
  },
  {
   "cell_type": "code",
   "execution_count": 72,
   "metadata": {},
   "outputs": [
    {
     "name": "stdout",
     "output_type": "stream",
     "text": [
      "[[17  8 13  9 15]\n",
      " [ 4 17 13 13  7]\n",
      " [15 13  7  7 14]\n",
      " [ 2  8 13 10  9]]\n"
     ]
    }
   ],
   "source": [
    "print(array_int_2D)"
   ]
  },
  {
   "cell_type": "code",
   "execution_count": 73,
   "metadata": {},
   "outputs": [
    {
     "name": "stdout",
     "output_type": "stream",
     "text": [
      "[[[12 16  3  7 12]\n",
      "  [19 19 13  5 14]\n",
      "  [15 12  5 16  2]\n",
      "  [18  4  4  9  5]]\n",
      "\n",
      " [[ 5 18  8  2 17]\n",
      "  [11  2  6 13 11]\n",
      "  [11  3  5  7  3]\n",
      "  [10 11  4 10  2]]\n",
      "\n",
      " [[17 11 16 13  3]\n",
      "  [10  6  2  7  8]\n",
      "  [19 19 12 11 16]\n",
      "  [16 14  2  5  6]]]\n"
     ]
    }
   ],
   "source": [
    "print(array_int_3D)"
   ]
  },
  {
   "cell_type": "code",
   "execution_count": 74,
   "metadata": {},
   "outputs": [
    {
     "name": "stdout",
     "output_type": "stream",
     "text": [
      "The second element of the 1 D array stated above is : 19\n",
      "The (2,3)th element i.e. the lement at the intersection of the second row and the 3rd column is : 13\n",
      "The element at (2,3,1)th position is : 11\n"
     ]
    }
   ],
   "source": [
    "# indexing a 1 D array\n",
    "print(f'The second element of the 1 D array stated above is : {array_int_1D[1]}')\n",
    "print(f'The (2,3)th element i.e. the lement at the intersection of the second row and the 3rd column is : {array_int_2D[1,2]}')\n",
    "print(f'The element at (2,3,1)th position is : {array_int_3D[1,2,0]}')"
   ]
  },
  {
   "cell_type": "markdown",
   "metadata": {},
   "source": [
    "### Array Slicing"
   ]
  },
  {
   "cell_type": "code",
   "execution_count": 75,
   "metadata": {},
   "outputs": [
    {
     "name": "stdout",
     "output_type": "stream",
     "text": [
      "Sliced 1 D array : [16  3 14]\n",
      "Every second element of the 1 D array: [17  9  3]\n",
      "every second element from index 3, reversed : [16 19]\n",
      "First 2 rows and 3 columns:\n",
      "[[17  8 13]\n",
      " [ 4 17 13]]\n",
      "All rows and every second column:\n",
      " [[17 13 15]\n",
      " [ 4 13  7]\n",
      " [15  7 14]\n",
      " [ 2 13  9]]\n",
      "Rows ordering reversed(i.e. last row becomes the first row and so on):\n",
      "[[ 2  8 13 10  9]\n",
      " [15 13  7  7 14]\n",
      " [ 4 17 13 13  7]\n",
      " [17  8 13  9 15]]\n",
      "Columns ordering reversed: \n",
      "[[15  9 13  8 17]\n",
      " [ 7 13 13 17  4]\n",
      " [14  7  7 13 15]\n",
      " [ 9 10 13  8  2]]\n",
      "Both row and column ordering reversed:\n",
      "[[ 9 10 13  8  2]\n",
      " [14  7  7 13 15]\n",
      " [ 7 13 13 17  4]\n",
      " [15  9 13  8 17]]\n",
      "Second column:\n",
      "[ 8 17 13  8]\n",
      "Second row:\n",
      "[ 4 17 13 13  7]\n"
     ]
    }
   ],
   "source": [
    "# Slicing a 1 D array \n",
    "print(f\"Sliced 1 D array : {array_int_1D[3:]}\")\n",
    "print(f\"Every second element of the 1 D array: {array_int_1D[::2]}\")\n",
    "print(f\"every second element from index 3, reversed : {array_int_1D[3::-2]}\")\n",
    "\n",
    "# Slicing a 2 D array - Multidimensional Subarrays \n",
    "print(f\"First 2 rows and 3 columns:\\n{array_int_2D[:2, :3]}\")\n",
    "print(f\"All rows and every second column:\\n {array_int_2D[:, ::2]}\")\n",
    "print(f\"Rows ordering reversed(i.e. last row becomes the first row and so on):\\n{array_int_2D[::-1,:]}\")\n",
    "print(f\"Columns ordering reversed: \\n{array_int_2D[:,::-1]}\")\n",
    "print(f\"Both row and column ordering reversed:\\n{array_int_2D[::-1,::-1]}\")\n",
    "\n",
    "# Common operations on a 2 D array - involves both indexing and slicing \n",
    "print(f\"Second column:\\n{array_int_2D[:, 1]}\")\n",
    "print(f\"Second row:\\n{array_int_2D[1,:]}\")"
   ]
  },
  {
   "cell_type": "markdown",
   "metadata": {},
   "source": [
    "**NOTE**\n",
    "Unlike the Python list slices, NumPy array slices are returned as ***VIEWS*** rather than ***COPIES*** of the array data. "
   ]
  },
  {
   "cell_type": "code",
   "execution_count": 76,
   "metadata": {},
   "outputs": [
    {
     "name": "stdout",
     "output_type": "stream",
     "text": [
      "[[17  8 13  9 15]\n",
      " [ 4 17 13 13  7]\n",
      " [15 13  7  7 14]\n",
      " [ 2  8 13 10  9]]\n"
     ]
    }
   ],
   "source": [
    "# Illustration of the above point \n",
    "# Consider the 2 D array we are dealing with \n",
    "print(array_int_2D)"
   ]
  },
  {
   "cell_type": "code",
   "execution_count": 77,
   "metadata": {},
   "outputs": [
    {
     "name": "stdout",
     "output_type": "stream",
     "text": [
      "Sliced Subarray:\n",
      "[[17  8]\n",
      " [ 4 17]]\n",
      "Sliced Subarray after modification:\n",
      "[[100   8]\n",
      " [  4  17]]\n",
      "Original array has changed too!:\n",
      "[[100   8  13   9  15]\n",
      " [  4  17  13  13   7]\n",
      " [ 15  13   7   7  14]\n",
      " [  2   8  13  10   9]]\n"
     ]
    }
   ],
   "source": [
    "# let us slice this 2 D array and make another subarray\n",
    "subarray_int_2D = array_int_2D[:2, :2]\n",
    "print(f\"Sliced Subarray:\\n{subarray_int_2D}\")\n",
    "\n",
    "# let us change the first element of the subarray to 100\n",
    "subarray_int_2D[0,0] = 100\n",
    "print(f\"Sliced Subarray after modification:\\n{subarray_int_2D}\")\n",
    "\n",
    "# Let us see the original array now!\n",
    "print(f\"Original array has changed too!:\\n{array_int_2D}\")"
   ]
  },
  {
   "cell_type": "code",
   "execution_count": 79,
   "metadata": {},
   "outputs": [
    {
     "name": "stdout",
     "output_type": "stream",
     "text": [
      "Sliced Subarray:\n",
      "[[ 4 17 13 13  7]\n",
      " [ 2  8 13 10  9]]\n",
      "Sliced Subarray after modification:\n",
      "[[100  17  13  13   7]\n",
      " [  2   8  13  10   9]]\n",
      "The array has not changed:\n",
      "[[100   8  13   9  15]\n",
      " [  4  17  13  13   7]\n",
      " [ 15  13   7   7  14]\n",
      " [  2   8  13  10   9]]\n"
     ]
    }
   ],
   "source": [
    "# BUT let us now do a fancy slicing \n",
    "# let us slice this 2 D array and make another subarray\n",
    "subarray_int_2D = array_int_2D[[1,3], :]\n",
    "print(f\"Sliced Subarray:\\n{subarray_int_2D}\")\n",
    "\n",
    "# let us change the first element of the subarray to 100\n",
    "subarray_int_2D[0,0] = 100\n",
    "print(f\"Sliced Subarray after modification:\\n{subarray_int_2D}\")\n",
    "\n",
    "# Let us see the original array now!\n",
    "print(f\"The array has not changed:\\n{array_int_2D}\")"
   ]
  },
  {
   "cell_type": "markdown",
   "metadata": {},
   "source": [
    "**Key Difference**\n",
    "- Simple slicing (like `array_int_2D[:2, :2]`) produces a **view**.\n",
    "- Fancy indexing (like `array_int_2D[[1, 3], :]`) produces a **copy**."
   ]
  },
  {
   "cell_type": "code",
   "execution_count": 81,
   "metadata": {},
   "outputs": [
    {
     "name": "stdout",
     "output_type": "stream",
     "text": [
      "Sliced Subarray:\n",
      "[[100   8]\n",
      " [  4  17]]\n",
      "Sliced Subarray after modification:\n",
      "[[200   8]\n",
      " [  4  17]]\n",
      "Array has not changed:\n",
      "[[100   8  13   9  15]\n",
      " [  4  17  13  13   7]\n",
      " [ 15  13   7   7  14]\n",
      " [  2   8  13  10   9]]\n"
     ]
    }
   ],
   "source": [
    "# We can, however, use the copy() method to deliberatey create a copy in case of slicing\n",
    "\n",
    "# let us slice this 2 D array and make another subarray\n",
    "subarray_int_2D = array_int_2D[:2, :2].copy()\n",
    "print(f\"Sliced Subarray:\\n{subarray_int_2D}\")\n",
    "\n",
    "# let us change the first element of the subarray to 100\n",
    "subarray_int_2D[0,0] = 200\n",
    "print(f\"Sliced Subarray after modification:\\n{subarray_int_2D}\")\n",
    "\n",
    "# Let us see the original array now!\n",
    "print(f\"Array has not changed:\\n{array_int_2D}\")"
   ]
  },
  {
   "cell_type": "markdown",
   "metadata": {},
   "source": [
    "### Reshaping Arrays"
   ]
  },
  {
   "cell_type": "code",
   "execution_count": 86,
   "metadata": {},
   "outputs": [
    {
     "name": "stdout",
     "output_type": "stream",
     "text": [
      "Original 1 D array: \n",
      "[ 2.    4.25  6.5   8.75 11.   13.25 15.5  17.75 20.  ]\n",
      "The 1 D array after being reshaped to a 2 D array:\n",
      "[[ 2.    4.25  6.5 ]\n",
      " [ 8.75 11.   13.25]\n",
      " [15.5  17.75 20.  ]]\n"
     ]
    }
   ],
   "source": [
    "# Let us convert a 1 D array by reshaping it to a 2 D array \n",
    "array_1D = np.linspace(start=2, stop=20, num=9)\n",
    "print(f\"Original 1 D array: \\n{array_1D}\")\n",
    "\n",
    "array_1D_reshape_2D = array_1D.reshape((3,3))\n",
    "print(f\"The 1 D array after being reshaped to a 2 D array:\\n{array_1D_reshape_2D}\")"
   ]
  },
  {
   "cell_type": "code",
   "execution_count": 89,
   "metadata": {},
   "outputs": [
    {
     "name": "stdout",
     "output_type": "stream",
     "text": [
      "Original 1 D array: \n",
      "[ 2.    4.25  6.5   8.75 11.   13.25 15.5  17.75 20.  ]\n",
      "Row Vector:\n",
      "[[ 2.    4.25  6.5   8.75 11.   13.25 15.5  17.75 20.  ]]\n",
      "Column Vector:\n",
      "[[ 2.  ]\n",
      " [ 4.25]\n",
      " [ 6.5 ]\n",
      " [ 8.75]\n",
      " [11.  ]\n",
      " [13.25]\n",
      " [15.5 ]\n",
      " [17.75]\n",
      " [20.  ]]\n"
     ]
    }
   ],
   "source": [
    "# Often we convert 1 D array into a 2 D row or a column matrix\n",
    "print(f\"Original 1 D array: \\n{array_1D}\")\n",
    "\n",
    "# reshaping the 1 D to a row vector \n",
    "array_1D_rowvec = array_1D.reshape((1,9))\n",
    "print('Row Vector:')\n",
    "print(array_1D_rowvec)\n",
    "\n",
    "# reshaping the 1 D to a column vector \n",
    "array_1D_colvec = array_1D.reshape((9,1))\n",
    "print('Column Vector:')\n",
    "print(array_1D_colvec)\n"
   ]
  },
  {
   "cell_type": "markdown",
   "metadata": {},
   "source": [
    "A good shorthand to achieve the same result is the `np.newaxis` in the slicing syntax!"
   ]
  },
  {
   "cell_type": "code",
   "execution_count": 90,
   "metadata": {},
   "outputs": [
    {
     "name": "stdout",
     "output_type": "stream",
     "text": [
      "Original 1 D array: \n",
      "[ 2.    4.25  6.5   8.75 11.   13.25 15.5  17.75 20.  ]\n",
      "Row Vector:\n",
      "[[ 2.    4.25  6.5   8.75 11.   13.25 15.5  17.75 20.  ]]\n",
      "Column Vector:\n",
      "[[ 2.  ]\n",
      " [ 4.25]\n",
      " [ 6.5 ]\n",
      " [ 8.75]\n",
      " [11.  ]\n",
      " [13.25]\n",
      " [15.5 ]\n",
      " [17.75]\n",
      " [20.  ]]\n"
     ]
    }
   ],
   "source": [
    "# Often we convert 1 D array into a 2 D row or a column matrix\n",
    "print(f\"Original 1 D array: \\n{array_1D}\")\n",
    "\n",
    "# reshaping the 1 D to a row vector \n",
    "array_1D_rowvec = array_1D[np.newaxis,:]\n",
    "print('Row Vector:')\n",
    "print(array_1D_rowvec)\n",
    "\n",
    "# reshaping the 1 D to a column vector \n",
    "array_1D_colvec = array_1D[:, np.newaxis]\n",
    "print('Column Vector:')\n",
    "print(array_1D_colvec)"
   ]
  },
  {
   "cell_type": "markdown",
   "metadata": {},
   "source": [
    "### Concatenating two arrays"
   ]
  },
  {
   "cell_type": "code",
   "execution_count": null,
   "metadata": {},
   "outputs": [
    {
     "name": "stdout",
     "output_type": "stream",
     "text": [
      "[1 2 3 4 5 6 7 8 9]\n"
     ]
    }
   ],
   "source": [
    "# concatenating three 1 D arrays \n",
    "array_1 = np.array([1,2,3])\n",
    "array_2 = np.array([4,5,6])\n",
    "array_3 = np.array([7,8,9])\n",
    "\n",
    "array_concat = np.concatenate([array_1, array_2, array_3]) # note pass the three arrays in a list\n",
    "print(array_concat)"
   ]
  },
  {
   "cell_type": "code",
   "execution_count": 99,
   "metadata": {},
   "outputs": [
    {
     "name": "stdout",
     "output_type": "stream",
     "text": [
      "[[1 2 3]\n",
      " [4 5 6]\n",
      " [7 8 9]]\n",
      "[[1 2 3]\n",
      " [4 5 6]\n",
      " [7 8 9]\n",
      " [1 2 3]\n",
      " [4 5 6]\n",
      " [7 8 9]]\n",
      "[[1 2 3 1 2 3]\n",
      " [4 5 6 4 5 6]\n",
      " [7 8 9 7 8 9]]\n"
     ]
    }
   ],
   "source": [
    "# concatenate 2 D arrays \n",
    "array_4 = array_concat.reshape((3,3))\n",
    "print(array_4)\n",
    "\n",
    "# say I want to concat the array_4 to itself row-wise i.e. first axis \n",
    "array_concat_row = np.concatenate([array_4, array_4])\n",
    "print(array_concat_row)\n",
    "\n",
    "# say I want to concat the array_4 to itself column-wise i.e. second axis \n",
    "array_concat_col = np.concatenate([array_4, array_4], axis=1)\n",
    "print(array_concat_col)\n"
   ]
  },
  {
   "cell_type": "markdown",
   "metadata": {},
   "source": [
    "So far, we have concatenated the arrays having the same dimensions. However, in reality, it is often the case where the dimensions are not equal. In sych cases of **MIXED DIMENSIONS**, one should preferably use `np.hstack` and `np.vstack`"
   ]
  },
  {
   "cell_type": "code",
   "execution_count": 104,
   "metadata": {},
   "outputs": [
    {
     "name": "stdout",
     "output_type": "stream",
     "text": [
      "[[1 2 3]\n",
      " [1 2 3]\n",
      " [4 5 6]\n",
      " [7 8 9]]\n",
      "[[1 2 3]\n",
      " [4 5 6]\n",
      " [7 8 9]\n",
      " [1 2 3]]\n",
      "[[1 1 2 3]\n",
      " [2 4 5 6]\n",
      " [3 7 8 9]]\n"
     ]
    }
   ],
   "source": [
    "# np.hstack and np.vstack\n",
    "# say, I want to concatenate array_1 to array_4 row-wise i.e. vertically stack the arrays  \n",
    "print(np.vstack([array_1, array_4]))\n",
    "print(np.vstack([array_4,array_1])) # order matters\n",
    "\n",
    "# Let us now stack horizontally \n",
    "# before we stack it horizontally, we need to make it a column vector \n",
    "array_5 = array_1.reshape((3,1))\n",
    "print(np.hstack([array_5, array_4]))"
   ]
  },
  {
   "cell_type": "markdown",
   "metadata": {},
   "source": [
    "### Splitting the Arrays"
   ]
  },
  {
   "cell_type": "code",
   "execution_count": 112,
   "metadata": {},
   "outputs": [
    {
     "name": "stdout",
     "output_type": "stream",
     "text": [
      "The concatenated array: [1 2 3 4 5 6 7 8 9]\n",
      "The three splits are: [1 2 3], [4 5 6], [7 8 9]\n",
      "The three splits are: [1 2 3], [4 5 6], [7 8 9]\n"
     ]
    }
   ],
   "source": [
    "# split the array_concat into three different arrays\n",
    "print(f\"The concatenated array: {array_concat}\")\n",
    "\n",
    "arr_split_1, arr_split_2, arr_split_3 = np.split(array_concat, indices_or_sections=[3,6])\n",
    "print(f\"The three splits are: {arr_split_1}, {arr_split_2}, {arr_split_3}\")\n",
    "\n",
    "arr_split_1, arr_split_2, arr_split_3 = np.split(array_concat, indices_or_sections=3)\n",
    "print(f\"The three splits are: {arr_split_1}, {arr_split_2}, {arr_split_3}\")"
   ]
  },
  {
   "cell_type": "code",
   "execution_count": 117,
   "metadata": {},
   "outputs": [
    {
     "name": "stdout",
     "output_type": "stream",
     "text": [
      "[array([[1, 2, 3],\n",
      "       [4, 5, 6],\n",
      "       [7, 8, 9]]), array([[1, 2, 3],\n",
      "       [4, 5, 6],\n",
      "       [7, 8, 9]])]\n",
      "[array([[1, 2, 3],\n",
      "       [4, 5, 6]]), array([[7, 8, 9],\n",
      "       [1, 2, 3],\n",
      "       [4, 5, 6],\n",
      "       [7, 8, 9]])]\n",
      "[array([[1, 2],\n",
      "       [4, 5],\n",
      "       [7, 8],\n",
      "       [1, 2],\n",
      "       [4, 5],\n",
      "       [7, 8]]), array([[3],\n",
      "       [6],\n",
      "       [9],\n",
      "       [3],\n",
      "       [6],\n",
      "       [9]])]\n"
     ]
    }
   ],
   "source": [
    "# Note, earlier I had concatenated array_4 to get array_concat_row - let us split them\n",
    "print(np.vsplit(ary=array_concat_row, indices_or_sections=2))\n",
    "print(np.vsplit(ary=array_concat_row, indices_or_sections=[2]))\n",
    "\n",
    "# Note, earlier I had concatenated array_4 to get array_concat_row - let us split them col-wise\n",
    "print(np.hsplit(ary=array_concat_row, indices_or_sections=[2]))"
   ]
  },
  {
   "cell_type": "markdown",
   "metadata": {},
   "source": [
    "## Vectorized Operations in NumPy"
   ]
  },
  {
   "cell_type": "markdown",
   "metadata": {},
   "source": [
    "Vectorized operations in NumPy are faster than traditional Python loops because of the way NumPy is implemented and how it takes advantage of modern computer architecture. Here's a detailed explanation:\n",
    "\n",
    "### 1. **NumPy is Written in C and Optimized for Performance**\n",
    "   - NumPy's core is written in **C** and **Fortran**, which are much faster than Python.\n",
    "   - When you use vectorized operations in NumPy, the heavy lifting happens in C/Fortran, bypassing the slower Python interpreter. This allows for **compiled, low-level execution** directly on the data.\n",
    "\n",
    "### 2. **Elimination of Python Loops**\n",
    "   - **Traditional Python loops** (e.g., `for` loops) involve significant overhead because each iteration needs to go through the Python interpreter.\n",
    "   - In contrast, **vectorized operations** perform computations on entire arrays in one step, avoiding the need for explicit looping in Python. The operations are executed in **low-level, highly-optimized loops in C**, which are faster than high-level Python loops.\n",
    "\n",
    "### 3. **Memory Contiguity and Efficient Access**\n",
    "   - NumPy arrays are stored in **contiguous blocks of memory**, unlike Python lists, which are arrays of pointers. This means:\n",
    "     - CPU can **cache** and **fetch data more efficiently**.\n",
    "     - Memory access is faster, as there are fewer indirections.\n",
    "   - This layout enables **SIMD (Single Instruction, Multiple Data)** optimizations, where a single instruction can process multiple data points simultaneously.\n",
    "\n",
    "### 4. **Broadcasting**\n",
    "   - NumPy supports **broadcasting**, which allows you to apply operations to arrays of different shapes without explicitly writing nested loops.\n",
    "   - Broadcasting uses **vectorized operations** under the hood to extend smaller arrays to match the shape of larger ones without creating temporary copies, which saves time and memory.\n",
    "\n",
    "### 5. **Low-Level Multi-Threading**\n",
    "   - Many NumPy operations (like matrix multiplication) internally use multi-threading, meaning they take advantage of multiple CPU cores to perform tasks simultaneously.\n",
    "   - Python loops, unless explicitly parallelized (e.g., using `concurrent.futures`), run on a single core.\n",
    "\n",
    "### 6. **Fewer Function Calls**\n",
    "   - Python loops involve multiple function calls for indexing and computations in each iteration. Each function call adds overhead.\n",
    "   - Vectorized operations compute the result in a single function call, reducing overhead significantly.\n",
    "\n",
    "### 7. **Optimized Math Libraries**\n",
    "   - NumPy links to **high-performance libraries** like BLAS (Basic Linear Algebra Subprograms) and LAPACK (Linear Algebra Package) for numerical computations. These libraries are designed to perform matrix and vector operations extremely efficiently.\n",
    "\n",
    "### Results:\n",
    "- Python loops take significantly longer because they iterate over elements one by one.\n",
    "- NumPy's vectorized operations compute the result in a fraction of the time because:\n",
    "  1. Low-level, optimized C code processes the data.\n",
    "  2. Data is fetched and computed in batches, not one element at a time.\n",
    "\n",
    "---\n",
    "\n",
    "### Real-Life Analogy\n",
    "Imagine you need to move 1 million bricks:\n",
    "- **Python Loop**: One worker (the Python interpreter) moves the bricks one at a time. Each trip involves picking up a brick, walking to the destination, and placing it.\n",
    "- **NumPy Vectorized Operation**: A bulldozer (C/Fortran backend) moves the entire batch of bricks in one go, completing the task much faster.\n",
    "\n",
    "---\n",
    "\n",
    "### Summary of Key Benefits\n",
    "1. **Avoids interpreter overhead** by executing operations in C.\n",
    "2. **Efficient memory access** using contiguous arrays.\n",
    "3. **Utilizes parallelism** and modern CPU optimizations like SIMD.\n",
    "4. **Optimized math libraries** handle operations with minimal overhead.\n",
    "\n",
    "By leveraging these features, NumPy can perform operations orders of magnitude faster than loops in pure Python."
   ]
  },
  {
   "cell_type": "code",
   "execution_count": 119,
   "metadata": {},
   "outputs": [
    {
     "name": "stdout",
     "output_type": "stream",
     "text": [
      "Time with Python loop: 0.22188258171081543\n",
      "Time with NumPy vectorized operation: 0.013002157211303711\n"
     ]
    }
   ],
   "source": [
    "#### Using Loops:\n",
    "import numpy as np\n",
    "import time\n",
    "\n",
    "# Create two arrays\n",
    "size = 10**6\n",
    "a = np.arange(size)\n",
    "b = np.arange(size)\n",
    "\n",
    "# Traditional Python loop\n",
    "start = time.time()\n",
    "result = [a[i] + b[i] for i in range(size)]\n",
    "end = time.time()\n",
    "print(\"Time with Python loop:\", end - start)\n",
    "\n",
    "#### Using Vectorized Operations:\n",
    "# Vectorized NumPy addition\n",
    "start = time.time()\n",
    "result = a + b\n",
    "end = time.time()\n",
    "print(\"Time with NumPy vectorized operation:\", end - start)"
   ]
  },
  {
   "cell_type": "code",
   "execution_count": 130,
   "metadata": {},
   "outputs": [
    {
     "name": "stdout",
     "output_type": "stream",
     "text": [
      "Consider this array:\n",
      "[ 2.    4.25  6.5   8.75 11.   13.25 15.5  17.75 20.  ]\n",
      "Reciprocal Array:\n",
      "[0.5        0.23529412 0.15384615 0.11428571 0.09090909 0.0754717\n",
      " 0.06451613 0.05633803 0.05      ]\n",
      "The two arrays we are considering are:[ 2.    4.25  6.5   8.75 11.   13.25 15.5  17.75 20.  ],[1 2 3 4 5 6 7 8 9]\n",
      "Dividing formar with the latter array: [2.         2.125      2.16666667 2.1875     2.2        2.20833333\n",
      " 2.21428571 2.21875    2.22222222]\n",
      "First multidimensional array:\n",
      "[[ 2.    4.25  6.5 ]\n",
      " [ 8.75 11.   13.25]\n",
      " [15.5  17.75 20.  ]]\n",
      "Second multidimensional array:\n",
      "[[1 2 3]\n",
      " [4 5 6]\n",
      " [7 8 9]]\n",
      "Addition of the above two arrays:\n",
      "[[ 3.    6.25  9.5 ]\n",
      " [12.75 16.   19.25]\n",
      " [22.5  25.75 29.  ]]\n"
     ]
    }
   ],
   "source": [
    "# Let us see some more vectorized operations\n",
    "# let us first print the array\n",
    "print(f\"Consider this array:\\n{array_1D}\")\n",
    "\n",
    "# recirpocal of the array - vectorized operation\n",
    "print(f\"Reciprocal Array:\\n{1/array_1D}\")\n",
    "\n",
    "# divide one array by the other array\n",
    "print(f'The two arrays we are considering are:{array_1D},{array_concat}')\n",
    "print(f\"Dividing formar with the latter array: {array_1D/array_concat}\")\n",
    "\n",
    "# we can do this for the multidimensional array too\n",
    "print(f\"First multidimensional array:\\n{array_1D_reshape_2D}\")\n",
    "print(f\"Second multidimensional array:\\n{array_4}\")\n",
    "\n",
    "# let us add this two arrays\n",
    "print(f\"Addition of the above two arrays:\\n{array_4+array_1D_reshape_2D}\")"
   ]
  },
  {
   "cell_type": "markdown",
   "metadata": {},
   "source": [
    "### Exploring NumPy ufuncs\n",
    "\n",
    "#### Universal Functions (ufuncs) in NumPy\n",
    "\n",
    "A **ufunc** (short for **Universal Function**) in NumPy is a function that operates element-wise on arrays. They are one of the key reasons behind NumPy's speed and efficiency. Let's delve into their significance, working mechanism, and advantages.\n",
    "\n",
    "---\n",
    "\n",
    "##### Key Characteristics of ufuncs\n",
    "\n",
    "1. **Element-wise Operations**: \n",
    "   - Ufuncs process each element in an array independently and in a vectorized manner. For example:\n",
    "     ```python\n",
    "     import numpy as np\n",
    "     arr = np.array([1, 2, 3, 4])\n",
    "     result = np.sqrt(arr)  # Element-wise square root\n",
    "     print(result)  # Output: [1. 1.41421356 1.73205081 2.]\n",
    "     ```\n",
    "\n",
    "2. **Support for Broadcasting**: \n",
    "   - Ufuncs automatically apply operations to arrays of different shapes by extending the smaller array (via broadcasting).\n",
    "     ```python\n",
    "     arr = np.array([1, 2, 3])\n",
    "     result = arr + 5  # Broadcasting applies the scalar value 5 to all elements\n",
    "     print(result)  # Output: [6 7 8]\n",
    "     ```\n",
    "\n",
    "3. **Vectorized Operations**:\n",
    "   - Unlike loops, which iterate element by element, ufuncs perform operations on the entire array at once using optimized C backend code.\n",
    "\n",
    "4. **Type Flexibility**:\n",
    "   - Ufuncs support a variety of input types (e.g., integers, floats, and complex numbers) and can return outputs in specified data types.\n",
    "\n",
    "5. **High Performance**:\n",
    "   - They are written in C and Fortran, making them much faster than Python loops. Ufuncs eliminate Python's overhead and operate directly on the array's memory.\n",
    "\n",
    "---\n",
    "\n",
    "##### Types of Ufuncs\n",
    "\n",
    "1. **Unary Ufuncs**:\n",
    "   - Operate on a single input array, producing an output array.\n",
    "     Examples:\n",
    "     - `np.sqrt`, `np.abs`, `np.log`, `np.exp`, `np.sin`, `np.cos`\n",
    "     ```python\n",
    "     arr = np.array([1, 4, 9, 16])\n",
    "     print(np.sqrt(arr))  # Output: [1. 2. 3. 4.]\n",
    "     ```\n",
    "\n",
    "2. **Binary Ufuncs**:\n",
    "   - Operate on two input arrays element-wise, producing an output array.\n",
    "     Examples:\n",
    "     - `np.add`, `np.subtract`, `np.multiply`, `np.divide`, `np.maximum`, `np.minimum`\n",
    "     ```python\n",
    "     arr1 = np.array([1, 2, 3])\n",
    "     arr2 = np.array([4, 5, 6])\n",
    "     print(np.add(arr1, arr2))  # Output: [5 7 9]\n",
    "     ```\n",
    "\n",
    "---\n",
    "\n",
    "##### Advantages of Ufuncs\n",
    "\n",
    "1. **Fast Execution**:\n",
    "   - Ufuncs use highly-optimized C loops, significantly faster than Python loops.\n",
    "\n",
    "2. **Memory Efficiency**:\n",
    "   - Operate in place (if specified) to reduce memory usage, avoiding the need to create unnecessary temporary arrays.\n",
    "     ```python\n",
    "     arr = np.array([1, 2, 3])\n",
    "     np.add(arr, 10, out=arr)  # In-place addition\n",
    "     print(arr)  # Output: [11 12 13]\n",
    "     ```\n",
    "\n",
    "3. **Support for Broadcasting**:\n",
    "   - Seamlessly operate on arrays of different shapes without requiring manual replication of data.\n",
    "\n",
    "4. **Multiple Outputs**:\n",
    "   - Some ufuncs return multiple outputs, such as `np.modf`, which separates the fractional and integer parts of an array:\n",
    "     ```python\n",
    "     arr = np.array([1.5, 2.3, 3.7])\n",
    "     fractional, integral = np.modf(arr)\n",
    "     print(f\"Fractional: {fractional}, Integral: {integral}\")\n",
    "     # Output: Fractional: [0.5 0.3 0.7], Integral: [1. 2. 3.]\n",
    "     ```\n",
    "\n",
    "5. **Customizable**:\n",
    "   - You can define your own ufuncs using `numpy.frompyfunc` or `numpy.vectorize` to handle custom element-wise operations.\n",
    "\n",
    "---\n",
    "\n",
    "##### Real-Life Analogy of Ufuncs\n",
    "Think of ufuncs as a **conveyor belt** in a factory:\n",
    "- Each product (element in the array) is processed simultaneously and independently on the conveyor belt.\n",
    "- Instead of manually handling each product (using loops), the ufunc (conveyor belt) processes all products in one go, saving time and effort.\n",
    "\n",
    "---\n",
    "\n",
    "##### Practical Use Case: Sigmoid Function\n",
    "\n",
    "Suppose you need to calculate the sigmoid function \\( \\sigma(x) = \\frac{1}{1 + e^{-x}} \\) for a large array:\n",
    "\n",
    "```python\n",
    "arr = np.array([1, 2, 3, 4])\n",
    "sigmoid = 1 / (1 + np.exp(-arr))\n",
    "print(sigmoid)  # Output: [0.73105858 0.88079708 0.95257413 0.98201379]\n",
    "```\n",
    "\n",
    "Here:\n",
    "- The `np.exp` ufunc computes \\( e^{-x} \\) efficiently for the entire array.\n",
    "- The operations `1 +`, `/`, and `1 /` are applied element-wise using NumPy's optimized functions.\n",
    "\n",
    "---\n",
    "\n",
    "##### Summary\n",
    "\n",
    "Ufuncs are the backbone of NumPy's speed and efficiency. By eliminating Python loops, leveraging broadcasting, and operating directly on contiguous memory, ufuncs enable fast, memory-efficient, and readable code for numerical computations."
   ]
  },
  {
   "cell_type": "code",
   "execution_count": 132,
   "metadata": {},
   "outputs": [
    {
     "name": "stdout",
     "output_type": "stream",
     "text": [
      "Addition: [13 24 35]\n",
      "Subtraction: [ 7 16 25]\n",
      "Negation: [-10 -20 -30]\n",
      "Multiplication: [ 30  80 150]\n",
      "Division: [3.33333333 5.         6.        ]\n",
      "Floor Division: [3 5 6]\n",
      "Exponentiation: [100 400 900]\n",
      "Modulus: [1 0 0]\n"
     ]
    }
   ],
   "source": [
    "# ARITHMETIC FUNCTIONS\n",
    "# Define two arrays\n",
    "arr1 = np.array([10, 20, 30])\n",
    "arr2 = np.array([3, 4, 5])\n",
    "\n",
    "# Operator equivalent ufunc examples\n",
    "addition = np.add(arr1, arr2)        # Equivalent to arr1 + arr2\n",
    "subtraction = np.subtract(arr1, arr2)  # Equivalent to arr1 - arr2\n",
    "negation = np.negative(arr1)         # Equivalent to -arr1\n",
    "multiplication = np.multiply(arr1, arr2)  # Equivalent to arr1 * arr2\n",
    "division = np.divide(arr1, arr2)     # Equivalent to arr1 / arr2\n",
    "floor_division = np.floor_divide(arr1, arr2)  # Equivalent to arr1 // arr2\n",
    "exponentiation = np.power(arr1, 2)   # Equivalent to arr1 ** 2\n",
    "modulus = np.mod(arr1, arr2)         # Equivalent to arr1 % arr2\n",
    "\n",
    "# Print results\n",
    "print(f\"Addition: {addition}\")         # [13 24 35]\n",
    "print(f\"Subtraction: {subtraction}\")   # [7 16 25]\n",
    "print(f\"Negation: {negation}\")         # [-10 -20 -30]\n",
    "print(f\"Multiplication: {multiplication}\")  # [30 80 150]\n",
    "print(f\"Division: {division}\")         # [3.33333333 5.         6.        ]\n",
    "print(f\"Floor Division: {floor_division}\")  # [3 5 6]\n",
    "print(f\"Exponentiation: {exponentiation}\")  # [100 400 900]\n",
    "print(f\"Modulus: {modulus}\")           # [1 0 0]"
   ]
  },
  {
   "cell_type": "code",
   "execution_count": null,
   "metadata": {},
   "outputs": [
    {
     "name": "stdout",
     "output_type": "stream",
     "text": [
      "Absolute Values: [10 20 30]\n",
      "Sine Values: [0.0000000e+00 1.0000000e+00 1.2246468e-16]\n",
      "Cosine Values: [ 1.000000e+00  6.123234e-17 -1.000000e+00]\n",
      "Tangent Values: [ 0.00000000e+00  1.63312394e+16 -1.22464680e-16]\n",
      "Exponentials: [ 2.71828183  7.3890561  20.08553692]\n",
      "Natural Logs: [0.         0.69314718 1.09861229]\n",
      "Base-10 Logs: [0.         0.30103    0.47712125]\n",
      "Base-2 Logs: [0.        1.        1.5849625]\n"
     ]
    }
   ],
   "source": [
    "# Absolute Value\n",
    "arr_abs = np.array([-10, -20, 30])\n",
    "absolute_values = np.abs(arr_abs)  # Computes the absolute values\n",
    "print(f\"Absolute Values: {absolute_values}\")  # [10 20 30]\n",
    "\n",
    "# Trigonometric Functions\n",
    "angles = np.array([0, np.pi/2, np.pi])  # Angles in radians\n",
    "sin_values = np.sin(angles)             # Sine of angles\n",
    "cos_values = np.cos(angles)             # Cosine of angles\n",
    "tan_values = np.tan(angles)             # Tangent of angles\n",
    "print(f\"Sine Values: {sin_values}\")     # [0. 1. 0.]\n",
    "print(f\"Cosine Values: {cos_values}\")   # [1. 0. -1.]\n",
    "print(f\"Tangent Values: {tan_values}\")  # [0. inf -0.]\n",
    "\n",
    "# Exponents and Logarithms\n",
    "arr_exp = np.array([1, 2, 3])\n",
    "exponentials = np.exp(arr_exp)           # Exponentials (e^x)\n",
    "natural_logs = np.log(arr_exp)           # Natural logarithms (ln(x))\n",
    "base10_logs = np.log10(arr_exp)          # Logarithms base 10\n",
    "base2_logs = np.log2(arr_exp)            # Logarithms base 2\n",
    "print(f\"Exponentials: {exponentials}\")   # [ 2.71828183  7.3890561  20.08553692]\n",
    "print(f\"Natural Logs: {natural_logs}\")   # [0.         0.69314718 1.09861229]\n",
    "print(f\"Base-10 Logs: {base10_logs}\")    # [0.         0.30103    0.47712125]\n",
    "print(f\"Base-2 Logs: {base2_logs}\")      # [0.         1.         1.5849625 ]"
   ]
  },
  {
   "cell_type": "markdown",
   "metadata": {},
   "source": [
    "### Advanced ufuncs\n",
    "\n",
    "#### Specifying Output"
   ]
  },
  {
   "cell_type": "code",
   "execution_count": null,
   "metadata": {},
   "outputs": [
    {
     "name": "stdout",
     "output_type": "stream",
     "text": [
      "[0 1 2 3 4 5 6 7 8]\n",
      "[ 0.  9. 18. 27. 36. 45. 54. 63. 72.]\n"
     ]
    }
   ],
   "source": [
    "# specifying the output \n",
    "array_1 = np.arange(9)\n",
    "print(array_1)\n",
    "\n",
    "array_2 = np.empty(9)\n",
    "\n",
    "np.multiply(array_1, 9, out=array_2) # specifying the out parameter \n",
    "print(array_2)"
   ]
  },
  {
   "cell_type": "code",
   "execution_count": 137,
   "metadata": {},
   "outputs": [
    {
     "name": "stdout",
     "output_type": "stream",
     "text": [
      "[ 1.  0.  2.  0.  4.  0.  8.  0. 16.  0.]\n"
     ]
    }
   ],
   "source": [
    "arr_x = np.arange(5)\n",
    "arr_y = np.zeros(10)\n",
    "np.power(2, arr_x, out=arr_y[::2])\n",
    "print(arr_y)"
   ]
  },
  {
   "cell_type": "markdown",
   "metadata": {},
   "source": [
    "Note, however, we can do this same operation as follows:"
   ]
  },
  {
   "cell_type": "code",
   "execution_count": 140,
   "metadata": {},
   "outputs": [
    {
     "name": "stdout",
     "output_type": "stream",
     "text": [
      "[ 1.  0.  2.  0.  4.  0.  8.  0. 16.  0.]\n"
     ]
    }
   ],
   "source": [
    "arr_x = np.arange(5)\n",
    "arr_y = np.zeros(10)\n",
    "arr_y[::2] = 2**arr_x\n",
    "print(arr_y)"
   ]
  },
  {
   "cell_type": "markdown",
   "metadata": {},
   "source": [
    "The difference between `np.power(2, x, out=y[::2])` and `y[::2] = 2 ** x` lies in how NumPy handles memory and computation efficiency.\n",
    "\n",
    "#### Explanation:\n",
    "\n",
    "##### `np.power(2, x, out=y[::2])`\n",
    "- **What happens**: The `out` parameter in `np.power` directly specifies where the result of the computation should be stored. In this case, the result of \\(2^x\\) is directly written into the specified slice `y[::2]` of the array `y`.\n",
    "- **Efficiency**: No temporary array is created. The computation and assignment happen in a single step, which is memory-efficient and faster for large arrays.\n",
    "- **Memory savings**: Since no intermediate array is created, less memory is used. This is particularly important when working with large datasets or arrays.\n",
    "\n",
    "##### `y[::2] = 2 ** x`\n",
    "- **What happens**: The expression `2 ** x` creates a temporary array to store the results of \\(2^x\\). This temporary array is then copied into the slice `y[::2]`.\n",
    "- **Efficiency**: This involves two steps:\n",
    "  1. Computation of `2 ** x` and creation of a temporary array.\n",
    "  2. Copying the values from the temporary array into `y[::2]`.\n",
    "- **Memory usage**: The temporary array occupies extra memory, which may become significant for large arrays.\n",
    "\n",
    "---\n",
    "\n",
    "#### Why it matters:\n",
    "- **Small computations**: For small arrays, the difference in performance or memory usage is negligible because modern systems can handle small temporary arrays with ease.\n",
    "- **Large computations**: For very large arrays (e.g., millions of elements), the creation of temporary arrays can significantly impact memory usage and performance. By directly writing to the target array using the `out` parameter, you avoid this overhead.\n",
    "\n",
    "---\n",
    "\n",
    "#### Key Takeaways:\n",
    "- Use the `out` parameter in ufuncs (universal functions like `np.power`, `np.add`, etc.) to directly store the results in an existing array when memory efficiency is critical.\n",
    "- This technique is particularly valuable in large-scale computations, where reducing temporary memory allocation can improve performance."
   ]
  },
  {
   "cell_type": "markdown",
   "metadata": {},
   "source": [
    "### Aggregations \n"
   ]
  },
  {
   "cell_type": "code",
   "execution_count": null,
   "metadata": {},
   "outputs": [
    {
     "name": "stdout",
     "output_type": "stream",
     "text": [
      "Array to be reduced:[1 2 3 4 5 6 7 8 9]\n",
      "Reduction by Addition of the array: 45\n",
      "Reduction by Multiplication of the array: 362880\n"
     ]
    }
   ],
   "source": [
    "# The reduce method repeatedly applies a binary operation (like addition or multiplication) across all elements of an array, reducing it to a single result.\n",
    "arr_x = np.arange(1,10)\n",
    "print(f\"Array to be reduced:{arr_x}\")\n",
    "# I want to reduce this array to a single dibit and the reduction should happen by adding the digits \n",
    "print(f\"Reduction by Addition of the array: {np.add.reduce(array=arr_x)}\")\n",
    "print(f\"Reduction by Multiplication of the array: {np.multiply.reduce(array=arr_x)}\")\n"
   ]
  },
  {
   "cell_type": "code",
   "execution_count": 144,
   "metadata": {},
   "outputs": [
    {
     "name": "stdout",
     "output_type": "stream",
     "text": [
      "Array to be aggregated:[1 2 3 4 5 6 7 8 9]\n",
      "Accumulation by Addition of the array: [ 1  3  6 10 15 21 28 36 45]\n",
      "Accumulation by Multiplication of the array: [     1      2      6     24    120    720   5040  40320 362880]\n"
     ]
    }
   ],
   "source": [
    "# The accumulate method stores all intermediate results of the binary operation, instead of collapsing them into a single value.\n",
    "\n",
    "arr_x = np.arange(1,10)\n",
    "print(f\"Array to be aggregated:{arr_x}\")\n",
    "\n",
    "print(f\"Accumulation by Addition of the array: {np.add.accumulate(array=arr_x)}\")\n",
    "print(f\"Accumulation by Multiplication of the array: {np.multiply.accumulate(array=arr_x)}\")"
   ]
  },
  {
   "cell_type": "markdown",
   "metadata": {},
   "source": [
    "## Aggregations\n",
    "\n",
    "### One dimensional aggregates"
   ]
  },
  {
   "cell_type": "code",
   "execution_count": 17,
   "metadata": {},
   "outputs": [
    {
     "name": "stdout",
     "output_type": "stream",
     "text": [
      "The sequence of 100 integers are:\n",
      "[ 5 19  9 17 78 94 51 80 78 91 92 59 76 35 89  3 84 18 68 75 22 41 88 10\n",
      " 81 40 98 40 89 47 40 68 28  7 72 86 25 72 68 70  6 60 11  3 32 41 39 23\n",
      " 19 92 35 42 62 53  7 16  9 97  5 84 69 89 19 42  7 51 82 25 96 70 26 79\n",
      " 52 14 40 80  8 90 13 11 25 59 62 15 52 87 53 20 47 60 48 40 50 74 48 48\n",
      " 30 87 24 66]\n",
      "The sum is : 4907\n",
      "The sum using np.sum is:4907\n",
      "The minimum in the series is : 3 and the maximum is 98\n"
     ]
    }
   ],
   "source": [
    "# let us take random 100 numbers \n",
    "L = np.random.randint(100, size=100)\n",
    "print(f\"The sequence of 100 integers are:\\n{L}\")\n",
    "\n",
    "# let us find the sum of this sequence \n",
    "print(f\"The sum is : {sum(L)}\")\n",
    "\n",
    "# However, it ius better to use the NumPy version since it is fast\n",
    "print(f\"The sum using np.sum is:{np.sum(L)}\")\n",
    "\n",
    "# finding the min and the max\n",
    "print(f\"The minimum in the series is : {np.min(L)} and the maximum is {np.max(L)}\")"
   ]
  },
  {
   "cell_type": "markdown",
   "metadata": {},
   "source": [
    "### Multidimensional Aggregates"
   ]
  },
  {
   "cell_type": "code",
   "execution_count": 32,
   "metadata": {},
   "outputs": [
    {
     "name": "stdout",
     "output_type": "stream",
     "text": [
      "The 2 D array is:\n",
      "[[3 2 6]\n",
      " [8 3 6]\n",
      " [1 2 5]]\n",
      "The sum of the array is: 36\n",
      "The sum along the rows is:[12  7 17]\n",
      "The sum along the column axis is:[11 17  8]\n",
      "The min of the array is: 1 and the max is: 8\n",
      "The min along the row axis is:[1 2 5] and the max along the row is:[8 3 6]\n",
      "The min along the col axis is:[2 3 1] and the max along the col is:[6 8 5]\n",
      "The index of the min value is : 6\n"
     ]
    }
   ],
   "source": [
    "L = np.random.randint(9, size=(3,3))\n",
    "print(f\"The 2 D array is:\\n{L}\")\n",
    "\n",
    "# summing the array\n",
    "print(f\"The sum of the array is: {np.sum(L)}\")\n",
    "\n",
    "# summing along the row axis\n",
    "print(f\"The sum along the rows is:{np.sum(L, axis=0)}\")\n",
    "\n",
    "# summing along the column axis \n",
    "print(f\"The sum along the column axis is:{np.sum(L, axis=1)}\")\n",
    "\n",
    "# min and max \n",
    "print(f\"The min of the array is: {np.min(L)} and the max is: {np.max(L)}\")\n",
    "print(f\"The min along the row axis is:{np.min(L, axis=0)} and the max along the row is:{np.max(L, axis=0)}\")\n",
    "print(f\"The min along the col axis is:{np.min(L, axis=1)} and the max along the col is:{np.max(L, axis=1)}\")\n",
    "\n",
    "# argmax and argmin\n",
    "print(f\"The index of the min value is : {np.argmin(L)}\")"
   ]
  },
  {
   "cell_type": "markdown",
   "metadata": {},
   "source": [
    "In NumPy, the `np.argmin` function returns the **index of the minimum value** in a flattened (1D) version of the array. This happens because NumPy treats multidimensional arrays as a single, flattened array for this operation.\n",
    "\n",
    "Let’s break it down with your array:\n",
    "\n",
    "#### Original Array:\n",
    "```\n",
    "[[7, 7, 8],\n",
    " [1, 0, 1],\n",
    " [3, 7, 8]]\n",
    "```\n",
    "\n",
    "#### Flattened Version (row-major order):\n",
    "```\n",
    "[7, 7, 8, 1, 0, 1, 3, 7, 8]\n",
    "```\n",
    "\n",
    "- In this flattened array, the **minimum value is `0`**.\n",
    "- The index of `0` in this flattened array is **4** (zero-based indexing).\n",
    "\n",
    "#### Row-Major Order Explanation:\n",
    "NumPy flattens arrays in row-major order (C-style order), meaning it processes rows sequentially. For the given array:\n",
    "- First row: `[7, 7, 8]` (indices 0, 1, 2)\n",
    "- Second row: `[1, 0, 1]` (indices 3, 4, 5)\n",
    "- Third row: `[3, 7, 8]` (indices 6, 7, 8)\n",
    "\n",
    "Since `0` is in the second row, second column, its position in the flattened array is 4. That’s why `np.argmin` returns **4**."
   ]
  },
  {
   "cell_type": "code",
   "execution_count": 34,
   "metadata": {},
   "outputs": [
    {
     "name": "stdout",
     "output_type": "stream",
     "text": [
      "[[ 2  7  7 11]\n",
      " [ 1  0  6  2]\n",
      " [ 4  3  5  8]\n",
      " [ 0 13 10  1]]\n",
      "Using standard NumPy functions:\n",
      "Sum: 80\n",
      "Product: 0\n",
      "Mean: 5.0\n",
      "Standard Deviation: 3.9370039370059056\n",
      "Variance: 15.5\n",
      "Minimum: 0\n",
      "Maximum: 13\n",
      "Index of Minimum: 5\n",
      "Index of Maximum: 13\n",
      "Median: 4.5\n",
      "Percentile (50th): 4.5\n",
      "Any True Values: True\n",
      "All True Values: False\n"
     ]
    }
   ],
   "source": [
    "# other aggregations \n",
    "data = np.random.randint(15, size=(4,4))\n",
    "print(data)\n",
    "\n",
    "print(\"Using standard NumPy functions:\")\n",
    "print(\"Sum:\", np.sum(data))\n",
    "print(\"Product:\", np.prod(data))\n",
    "print(\"Mean:\", np.mean(data))\n",
    "print(\"Standard Deviation:\", np.std(data))\n",
    "print(\"Variance:\", np.var(data))\n",
    "print(\"Minimum:\", np.min(data))\n",
    "print(\"Maximum:\", np.max(data))\n",
    "print(\"Index of Minimum:\", np.argmin(data))\n",
    "print(\"Index of Maximum:\", np.argmax(data))\n",
    "print(\"Median:\", np.median(data))\n",
    "print(\"Percentile (50th):\", np.percentile(data, 50))\n",
    "print(\"Any True Values:\", np.any(data))\n",
    "print(\"All True Values:\", np.all(data))"
   ]
  },
  {
   "cell_type": "code",
   "execution_count": null,
   "metadata": {},
   "outputs": [
    {
     "name": "stdout",
     "output_type": "stream",
     "text": [
      "Using standard NumPy functions:\n",
      "Sum: nan\n",
      "Product: nan\n",
      "Mean: nan\n",
      "Standard Deviation: nan\n",
      "Variance: nan\n",
      "Minimum: nan\n",
      "Maximum: nan\n",
      "Index of Minimum: 4\n",
      "Index of Maximum: 4\n",
      "Median: nan\n",
      "Percentile (50th): nan\n",
      "Any True Values: True\n",
      "All True Values: True\n",
      "\n",
      "Using NumPy nan-handling functions:\n",
      "Sum (ignoring NaN): 31.0\n",
      "Product (ignoring NaN): 8064.0\n",
      "Mean (ignoring NaN): 4.428571428571429\n",
      "Standard Deviation (ignoring NaN): 2.4411439272335804\n",
      "Variance (ignoring NaN): 5.959183673469389\n",
      "Minimum (ignoring NaN): 1.0\n",
      "Maximum (ignoring NaN): 8.0\n",
      "Index of Minimum (ignoring NaN): 0\n",
      "Index of Maximum (ignoring NaN): 7\n",
      "Median (ignoring NaN): 4.0\n",
      "Percentile (50th, ignoring NaN): 4.0\n"
     ]
    }
   ],
   "source": [
    "# Define a 2D array with some NaN values\n",
    "data = np.array([\n",
    "    [1, 2, 3],\n",
    "    [4, np.nan, 6],\n",
    "    [7, 8, np.nan]\n",
    "])\n",
    "\n",
    "# Compute results using standard functions\n",
    "print(\"Using standard NumPy functions:\")\n",
    "print(\"Sum:\", np.sum(data))\n",
    "print(\"Product:\", np.prod(data))\n",
    "print(\"Mean:\", np.mean(data))\n",
    "print(\"Standard Deviation:\", np.std(data))\n",
    "print(\"Variance:\", np.var(data))\n",
    "print(\"Minimum:\", np.min(data))\n",
    "print(\"Maximum:\", np.max(data))\n",
    "print(\"Index of Minimum:\", np.argmin(data))\n",
    "print(\"Index of Maximum:\", np.argmax(data))\n",
    "print(\"Median:\", np.median(data))\n",
    "print(\"Percentile (50th):\", np.percentile(data, 50))\n",
    "print(\"Any True Values:\", np.any(data))\n",
    "print(\"All True Values:\", np.all(data))\n",
    "\n",
    "# Compute results using nan-handling functions\n",
    "print(\"\\nUsing NumPy nan-handling functions:\")\n",
    "print(\"Sum (ignoring NaN):\", np.nansum(data))\n",
    "print(\"Product (ignoring NaN):\", np.nanprod(data))\n",
    "print(\"Mean (ignoring NaN):\", np.nanmean(data))\n",
    "print(\"Standard Deviation (ignoring NaN):\", np.nanstd(data))\n",
    "print(\"Variance (ignoring NaN):\", np.nanvar(data))\n",
    "print(\"Minimum (ignoring NaN):\", np.nanmin(data))\n",
    "print(\"Maximum (ignoring NaN):\", np.nanmax(data))\n",
    "print(\"Index of Minimum (ignoring NaN):\", np.nanargmin(data))\n",
    "print(\"Index of Maximum (ignoring NaN):\", np.nanargmax(data))\n",
    "print(\"Median (ignoring NaN):\", np.nanmedian(data))\n",
    "print(\"Percentile (50th, ignoring NaN):\", np.nanpercentile(data, 50))"
   ]
  },
  {
   "cell_type": "markdown",
   "metadata": {},
   "source": [
    "## Broadcasting Arrays \n",
    "\n",
    "### Rule 1\n",
    "- If the two arrays differ in their number of dimensions, the shape of the one with fewer dimensions is padded with ones on its leading side.\n",
    "\n",
    "### Rule 2\n",
    "- If the shape of the two arrays does not match in any dimension, the array with shape equal to 1 in that dimension is stretched to match the other shape.\n",
    "\n",
    "### Rule 3\n",
    "- If in any dimension the sizes disagree and neither is equal to 1, an error is raised."
   ]
  },
  {
   "cell_type": "code",
   "execution_count": 37,
   "metadata": {},
   "outputs": [
    {
     "name": "stdout",
     "output_type": "stream",
     "text": [
      "[[2 3 4]\n",
      " [3 4 5]\n",
      " [4 5 6]]\n"
     ]
    }
   ],
   "source": [
    "\n",
    "# A is 1-dimensional\n",
    "A = np.array([1, 2, 3])  # Shape (3,)\n",
    "\n",
    "# B is 2-dimensional\n",
    "B = np.array([[1], [2], [3]])  # Shape (3, 1)\n",
    "\n",
    "# Broadcasting shapes:\n",
    "# A: (1, 3) (padded with 1 on the left to match dimensions)\n",
    "# B: (3, 1)\n",
    "\n",
    "# Resulting operation\n",
    "result = A + B\n",
    "print(result)"
   ]
  },
  {
   "cell_type": "markdown",
   "metadata": {},
   "source": [
    "Let’s break down the explanation in detail for why the shapes change during broadcasting and why the resulting shape becomes `(3, 3)`:\n",
    "\n",
    "---\n",
    "\n",
    "#### **Step 1: Shapes of `A` and `B`**\n",
    "- `A` has shape `(3,)`. It is 1-dimensional.\n",
    "- `B` has shape `(3, 1)`. It is 2-dimensional.\n",
    "\n",
    "To perform addition, the shapes of `A` and `B` must be made compatible using **broadcasting rules**.\n",
    "\n",
    "---\n",
    "\n",
    "#### **Step 2: Applying Rule 1**\n",
    "##### If the two arrays differ in their number of dimensions, the shape of the one with fewer dimensions is padded with ones on its leading side.\n",
    "- `A` has fewer dimensions, so its shape is padded:\n",
    "  - Original shape: `(3,)`\n",
    "  - Padded shape: `(1, 3)` (a leading `1` is added).\n",
    "\n",
    "- `B`'s shape remains `(3, 1)` since it is already 2-dimensional.\n",
    "\n",
    "Now we have:\n",
    "- `A` → Shape `(1, 3)`\n",
    "- `B` → Shape `(3, 1)`\n",
    "\n",
    "---\n",
    "\n",
    "#### **Step 3: Applying Rule 2**\n",
    "##### If the shape of the two arrays does not match in any dimension, the array with shape equal to `1` in that dimension is stretched to match the other shape.\n",
    "\n",
    "- First dimension (rows):  \n",
    "  - `A` has `1`, and `B` has `3`.  \n",
    "  - The `1` in `A` is stretched to match the `3` in `B`.  \n",
    "\n",
    "- Second dimension (columns):  \n",
    "  - `A` has `3`, and `B` has `1`.  \n",
    "  - The `1` in `B` is stretched to match the `3` in `A`.\n",
    "\n",
    "After stretching:\n",
    "- `A` → Shape `(3, 3)` (rows: stretched from 1 to 3).\n",
    "- `B` → Shape `(3, 3)` (columns: stretched from 1 to 3).\n",
    "\n",
    "---\n",
    "\n",
    "#### **Step 4: Element-Wise Addition**\n",
    "After broadcasting, both arrays have the same shape `(3, 3)`, so element-wise addition proceeds as follows:\n",
    "\n",
    "**Expanded `A`:**\n",
    "```\n",
    "[[1, 2, 3],   # Row 1 (stretched from original row [1, 2, 3])\n",
    " [1, 2, 3],   # Row 2\n",
    " [1, 2, 3]]   # Row 3\n",
    "```\n",
    "\n",
    "**Expanded `B`:**\n",
    "```\n",
    "[[1, 1, 1],   \n",
    " [2, 2, 2],   \n",
    " [3, 3, 3]]   \n",
    "```\n",
    "\n",
    "**Result (`A + B`):**\n",
    "```\n",
    "[[2, 3, 4],   # (1+1, 2+1, 3+1)\n",
    " [3, 4, 5],   # (1+2, 2+2, 3+2)\n",
    " [4, 5, 6]]   # (1+3, 2+3, 3+3)\n",
    "```\n",
    "\n",
    "---\n",
    "\n",
    "#### **Conclusion**\n",
    "The resulting shape is `(3, 3)` because:\n",
    "- The first dimension (`1` in `A` and `3` in `B`) stretches to `3`.\n",
    "- The second dimension (`3` in `A` and `1` in `B`) stretches to `3`.  \n",
    "This makes the final shape `(3, 3)`."
   ]
  },
  {
   "cell_type": "code",
   "execution_count": 38,
   "metadata": {},
   "outputs": [
    {
     "name": "stdout",
     "output_type": "stream",
     "text": [
      "[[11 22 33]\n",
      " [14 25 36]]\n"
     ]
    }
   ],
   "source": [
    "# C is 2-dimensional\n",
    "C = np.array([[1, 2, 3], [4, 5, 6]])  # Shape (2, 3)\n",
    "\n",
    "# D is 1-dimensional\n",
    "D = np.array([10, 20, 30])  # Shape (3,)\n",
    "\n",
    "# Broadcasting shapes:\n",
    "# C: (2, 3)\n",
    "# D: (1, 3) (stretched to match the first dimension of C)\n",
    "\n",
    "# Resulting operation\n",
    "result = C + D\n",
    "print(result)"
   ]
  },
  {
   "cell_type": "markdown",
   "metadata": {},
   "source": [
    "Let’s break down why and how the shapes of `C` and `D` are transformed during broadcasting, step by step:\n",
    "\n",
    "---\n",
    "\n",
    "#### **Step 1: Shapes of `C` and `D`**\n",
    "- `C` has shape `(2, 3)`. It is a 2-dimensional array (2 rows and 3 columns).\n",
    "- `D` has shape `(3,)`. It is a 1-dimensional array (3 elements).\n",
    "\n",
    "To perform addition, the shapes of `C` and `D` must be made compatible using **broadcasting rules**.\n",
    "\n",
    "---\n",
    "\n",
    "#### **Step 2: Applying Rule 1**\n",
    "##### If the two arrays differ in their number of dimensions, the shape of the one with fewer dimensions is padded with ones on its leading side.\n",
    "- `D` has fewer dimensions than `C`, so its shape is padded:\n",
    "  - Original shape: `(3,)`\n",
    "  - Padded shape: `(1, 3)` (a leading `1` is added to make it 2-dimensional).\n",
    "\n",
    "- `C`'s shape remains `(2, 3)` since it is already 2-dimensional.\n",
    "\n",
    "Now we have:\n",
    "- `C` → Shape `(2, 3)`\n",
    "- `D` → Shape `(1, 3)`\n",
    "\n",
    "---\n",
    "\n",
    "#### **Step 3: Applying Rule 2**\n",
    "##### If the shape of the two arrays does not match in any dimension, the array with shape equal to `1` in that dimension is stretched to match the other shape.\n",
    "\n",
    "- **First dimension (rows):**\n",
    "  - `C` has `2` rows, and `D` has `1` row.  \n",
    "  - The `1` in `D` is stretched to match the `2` in `C`.  \n",
    "  - This means `D` is conceptually duplicated along the first dimension.\n",
    "\n",
    "- **Second dimension (columns):**\n",
    "  - Both `C` and `D` have `3` columns, so no stretching is needed here.\n",
    "\n",
    "After stretching:\n",
    "- `C` → Shape `(2, 3)` (unchanged).\n",
    "- `D` → Shape `(2, 3)` (rows stretched from 1 to 2).\n",
    "\n",
    "---\n",
    "\n",
    "#### **Step 4: Element-Wise Addition**\n",
    "After broadcasting, both arrays have the same shape `(2, 3)`, so element-wise addition can proceed:\n",
    "\n",
    "**Array `C`:**\n",
    "```\n",
    "[[1, 2, 3],   # Row 1\n",
    " [4, 5, 6]]   # Row 2\n",
    "```\n",
    "\n",
    "**Broadcasted `D`:**\n",
    "```\n",
    "[[10, 20, 30],   # Row 1 (original)\n",
    " [10, 20, 30]]   # Row 2 (stretched copy of the first row)\n",
    "```\n",
    "\n",
    "**Result (`C + D`):**\n",
    "```\n",
    "[[11, 22, 33],   # (1+10, 2+20, 3+30)\n",
    " [14, 25, 36]]   # (4+10, 5+20, 6+30)\n",
    "```\n",
    "\n",
    "---\n",
    "\n",
    "#### **Conclusion**\n",
    "- **Broadcasting Transformation:**\n",
    "  - `D`'s shape becomes `(1, 3)` after padding.\n",
    "  - It is then stretched along the first dimension to match `C`'s shape `(2, 3)`.\n",
    "\n",
    "- **Final Shape of Result:**\n",
    "  - The resulting shape is `(2, 3)`, and addition is performed element-wise.  \n",
    "This is because broadcasting stretches arrays only where needed, maintaining computational efficiency and element-wise compatibility."
   ]
  },
  {
   "cell_type": "code",
   "execution_count": 39,
   "metadata": {},
   "outputs": [
    {
     "name": "stdout",
     "output_type": "stream",
     "text": [
      "Error: operands could not be broadcast together with shapes (2,3) (2,) \n"
     ]
    }
   ],
   "source": [
    "E = np.array([[1, 2, 3], [4, 5, 6]])  # Shape (2, 3)\n",
    "F = np.array([1, 2])  # Shape (2,)\n",
    "\n",
    "# Attempt to add\n",
    "try:\n",
    "    result = E + F\n",
    "except ValueError as e:\n",
    "    print(f\"Error: {e}\")"
   ]
  },
  {
   "cell_type": "markdown",
   "metadata": {},
   "source": [
    "Let’s analyze why broadcasting fails in this scenario and why the shapes of `E` and `F` are incompatible:\n",
    "\n",
    "---\n",
    "\n",
    "#### **Step 1: Shapes of `E` and `F`**\n",
    "- `E` has shape `(2, 3)`. It is a 2-dimensional array with 2 rows and 3 columns.\n",
    "- `F` has shape `(2,)`. It is a 1-dimensional array with 2 elements.\n",
    "\n",
    "---\n",
    "\n",
    "#### **Step 2: Broadcasting Rules**\n",
    "To determine whether broadcasting can occur, we apply the rules of broadcasting:\n",
    "\n",
    "##### **Rule 1: Padding dimensions**\n",
    "If the arrays differ in their number of dimensions, the shape of the array with fewer dimensions is padded with ones on the **left side** to match the number of dimensions of the other array.\n",
    "\n",
    "- `E` is already 2-dimensional: `(2, 3)`.\n",
    "- `F` is 1-dimensional, so it is padded with a leading `1`:\n",
    "  - Original shape: `(2,)`\n",
    "  - Padded shape: `(1, 2)`.\n",
    "\n",
    "Now we have:\n",
    "- `E` → Shape `(2, 3)`\n",
    "- `F` → Shape `(1, 2)`\n",
    "\n",
    "---\n",
    "\n",
    "##### **Rule 2: Dimension-wise compatibility**\n",
    "For broadcasting to succeed, the sizes in each dimension must satisfy one of the following conditions:\n",
    "1. They are equal, or\n",
    "2. One of the sizes is `1` (so it can stretch to match the other size).\n",
    "\n",
    "- **First dimension (rows):**\n",
    "  - `E` has `2` rows, and `F` has `1` row after padding.  \n",
    "  - `1` can stretch to `2`. ✅ **Compatible**\n",
    "\n",
    "- **Second dimension (columns):**\n",
    "  - `E` has `3` columns, and `F` has `2` columns.  \n",
    "  - These sizes **do not match**, and neither is `1`. ❌ **Incompatible**\n",
    "\n",
    "Because of this mismatch in the second dimension, broadcasting cannot occur.\n",
    "\n",
    "---\n",
    "\n",
    "#### **Step 3: Why Broadcasting Fails**\n",
    "The shapes `(2, 3)` for `E` and `(1, 2)` for `F` are incompatible because the second dimension of `E` (3 columns) cannot accommodate the second dimension of `F` (2 columns). \n",
    "\n",
    "---\n",
    "\n",
    "#### **Conclusion**\n",
    "1. **Broadcasting fails** because Rule 3 states:\n",
    "   > If in any dimension the sizes disagree and neither is equal to `1`, an error is raised.\n",
    "   \n",
    "2. **Resolution:**\n",
    "   - To make the shapes compatible, you must adjust `F` so that its second dimension becomes `1` or `3`.  \n",
    "   - For example, you could reshape `F` to `(2, 1)` or `(2, 3)` to allow broadcasting."
   ]
  },
  {
   "cell_type": "markdown",
   "metadata": {},
   "source": [
    "### Applications of Braodcasting \n",
    "\n",
    "#### Centering of Arrays"
   ]
  },
  {
   "cell_type": "code",
   "execution_count": 50,
   "metadata": {},
   "outputs": [
    {
     "name": "stdout",
     "output_type": "stream",
     "text": [
      "[[21 52 84]\n",
      " [60 82 47]\n",
      " [21 21 50]\n",
      " [53 30 19]\n",
      " [50 28 26]]\n",
      "The mean for each feature is:[41.  42.6 45.2]\n",
      "The centered matrix is: \n",
      "[[-20.    9.4  38.8]\n",
      " [ 19.   39.4   1.8]\n",
      " [-20.  -21.6   4.8]\n",
      " [ 12.  -12.6 -26.2]\n",
      " [  9.  -14.6 -19.2]]\n",
      "The mean for each feature now in the centered matrix is:[ 0.00000000e+00 -1.42108547e-15 -2.84217094e-15]\n"
     ]
    }
   ],
   "source": [
    "rng = np.random.default_rng(1000)\n",
    "\n",
    "# Generate random integers\n",
    "# Syntax: rng.integers(low, high=None, size=None, dtype=int)\n",
    "random_integers = rng.integers(low=1, high=100, size=(5, 3))\n",
    "print(random_integers)\n",
    "\n",
    "# let us center this array\n",
    "# we need to find the mean for each feature i.e. mean along the rows \n",
    "X_mean = np.mean(random_integers, axis=0)\n",
    "print(f\"The mean for each feature is:{X_mean}\")\n",
    "\n",
    "# Center the matrix \n",
    "centered_matrix = random_integers - X_mean\n",
    "print(f\"The centered matrix is: \\n{centered_matrix}\")\n",
    "print(f\"The mean for each feature now in the centered matrix is:{np.mean(centered_matrix, axis=0)}\")"
   ]
  },
  {
   "cell_type": "markdown",
   "metadata": {},
   "source": [
    "We see that the centered matrix has a mean near zero!"
   ]
  },
  {
   "cell_type": "code",
   "execution_count": 51,
   "metadata": {},
   "outputs": [
    {
     "data": {
      "text/plain": [
       "<matplotlib.colorbar.Colorbar at 0x1b0bc558310>"
      ]
     },
     "execution_count": 51,
     "metadata": {},
     "output_type": "execute_result"
    },
    {
     "data": {
      "image/png": "[encoded data removed]",
      "text/plain": [
       "<Figure size 640x480 with 2 Axes>"
      ]
     },
     "metadata": {},
     "output_type": "display_data"
    }
   ],
   "source": [
    "# x and y have 50 steps from 0 to 5\n",
    "x = np.linspace(0, 5, 50)\n",
    "y = np.linspace(0, 5, 50)[:, np.newaxis]\n",
    "z = np.sin(x) ** 10 + np.cos(10 + y * x) * np.cos(x)\n",
    "\n",
    "%matplotlib inline\n",
    "import matplotlib.pyplot as plt\n",
    "\n",
    "plt.imshow(z, origin='lower', extent=[0, 5, 0, 5])\n",
    "plt.colorbar()"
   ]
  },
  {
   "cell_type": "markdown",
   "metadata": {},
   "source": [
    "The code you’ve provided demonstrates broadcasting to compute a 2D grid-based function and then visualize it using Matplotlib. Let’s break it down step by step:\n",
    "\n",
    "---\n",
    "\n",
    "#### **Step 1: Setting Up the Grid**\n",
    "```python\n",
    "x = np.linspace(0, 5, 50)  # Creates 50 evenly spaced values from 0 to 5\n",
    "y = np.linspace(0, 5, 50)[:, np.newaxis]  # Same as x but reshaped into a column\n",
    "```\n",
    "- `x` is a 1D array of shape `(50,)`.\n",
    "- `y` is reshaped to have shape `(50, 1)` using `np.newaxis`.\n",
    "  - This makes `y` suitable for broadcasting against `x`.\n",
    "\n",
    "---\n",
    "\n",
    "#### **Step 2: Broadcasting in Action**\n",
    "```python\n",
    "z = np.sin(x) ** 10 + np.cos(10 + y * x) * np.cos(x)\n",
    "```\n",
    "Here’s how broadcasting is applied:\n",
    "1. **`np.sin(x)`**: Evaluates the sine function for each value in `x` (shape `(50,)`).\n",
    "   - Result: Shape `(50,)`.\n",
    "\n",
    "2. **`y * x`**: Multiplies each element of `x` with each element of `y`.\n",
    "   - `y` (shape `(50, 1)`) is broadcast to match the shape of `x` (shape `(50,)`), resulting in a 2D grid with shape `(50, 50)`.\n",
    "\n",
    "3. **`np.cos(10 + y * x)`**: Computes the cosine for each element of the 2D grid produced by `10 + y * x`.\n",
    "   - Result: Shape `(50, 50)`.\n",
    "\n",
    "4. **Combining terms**:\n",
    "   - `np.sin(x) ** 10` is broadcast to shape `(50, 50)` to match the 2D grid from `np.cos(...)`.\n",
    "   - Final result: `z` is a 2D array of shape `(50, 50)`.\n",
    "\n",
    "---\n",
    "\n",
    "#### **Step 3: Plotting the Result**\n",
    "```python\n",
    "plt.imshow(z, origin='lower', extent=[0, 5, 0, 5])\n",
    "plt.colorbar()\n",
    "```\n",
    "\n",
    "1. **`plt.imshow(z)`**: Visualizes the 2D array `z` as an image.\n",
    "   - `origin='lower'`: Places (0, 0) in the lower-left corner of the plot.\n",
    "   - `extent=[0, 5, 0, 5]`: Sets the axis limits to match the grid range (0 to 5 in both dimensions).\n",
    "\n",
    "2. **`plt.colorbar()`**: Adds a color scale bar to the plot, which indicates the mapping between colors and numerical values in `z`.\n",
    "\n",
    "---\n",
    "\n",
    "#### **Result**\n",
    "The code generates a 2D visualization of the function $( z = \\sin(x)^{10} + \\cos(10 + y \\cdot x) \\cdot \\cos(x) )$. The plot will show patterns based on the mathematical function, with variations represented by color intensity.\n",
    "\n",
    "This technique demonstrates the power of broadcasting and visualization for mathematical functions over grids."
   ]
  },
  {
   "cell_type": "code",
   "execution_count": null,
   "metadata": {},
   "outputs": [],
   "source": []
  }
 ],
 "metadata": {
  "kernelspec": {
   "display_name": "base",
   "language": "python",
   "name": "python3"
  },
  "language_info": {
   "codemirror_mode": {
    "name": "ipython",
    "version": 3
   },
   "file_extension": ".py",
   "mimetype": "text/x-python",
   "name": "python",
   "nbconvert_exporter": "python",
   "pygments_lexer": "ipython3",
   "version": "3.11.7"
  }
 },
 "nbformat": 4,
 "nbformat_minor": 2
}
