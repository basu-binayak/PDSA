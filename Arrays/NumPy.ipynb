{
 "cells": [
  {
   "cell_type": "markdown",
   "metadata": {},
   "source": [
    "# NumPy Arrays "
   ]
  },
  {
   "cell_type": "code",
   "execution_count": 60,
   "metadata": {},
   "outputs": [],
   "source": [
    "# import the library\n",
    "import numpy as np"
   ]
  },
  {
   "cell_type": "markdown",
   "metadata": {},
   "source": [
    "## A. Creating a NumPy Array"
   ]
  },
  {
   "cell_type": "code",
   "execution_count": 61,
   "metadata": {},
   "outputs": [
    {
     "name": "stdout",
     "output_type": "stream",
     "text": [
      "[1 5 6 8 9 3]\n",
      "[2.3 4.5 6.7 5.  8.9]\n",
      "[1. 2. 3. 4. 5.]\n",
      "[[1 2 3 4 5]\n",
      " [2 3 4 5 6]\n",
      " [3 4 5 6 7]]\n"
     ]
    }
   ],
   "source": [
    "# Create a NumPy array from list\n",
    "\n",
    "# Integer array \n",
    "int_array = np.array([1,5,6,8,9,3])\n",
    "print(int_array)\n",
    "\n",
    "# float array \n",
    "# note that numpy arrays are homogenous - hence if some types don't match, numpy will upcast them according to the promotion rules. In the example below, an int in upcast to float\n",
    "float_array = np.array([2.3,4.5,6.7,5,8.9])\n",
    "print(float_array)\n",
    "\n",
    "# You can also mention the type while crearing the array \n",
    "float_array = np.array([1,2,3,4,5], dtype=np.float32)\n",
    "print(float_array)\n",
    "\n",
    "# Python lists are always one dimensional - however NumPy arrays can be multidimensional \n",
    "md_array = np.array([range(j,j+5) for j in range(1,4)]) # this is a 3x5 array\n",
    "print(md_array)"
   ]
  },
  {
   "cell_type": "markdown",
   "metadata": {},
   "source": [
    "Let us now create NumPy arrays from Scratch"
   ]
  },
  {
   "cell_type": "code",
   "execution_count": 62,
   "metadata": {},
   "outputs": [
    {
     "name": "stdout",
     "output_type": "stream",
     "text": [
      "[0. 0. 0. 0. 0. 0. 0. 0.]\n",
      "[0 0 0 0 0 0 0 0]\n",
      "[[0. 0. 0. 0. 0.]\n",
      " [0. 0. 0. 0. 0.]\n",
      " [0. 0. 0. 0. 0.]]\n"
     ]
    }
   ],
   "source": [
    "# np.zeros\n",
    "\n",
    "print(np.zeros(8)) # by default, creates a floating array of 0s of length 8\n",
    "print(np.zeros(8, dtype=np.int32)) # create a integer array now \n",
    "\n",
    "# multidimensional\n",
    "print(np.zeros((3,5))) # provide dtype if you want specifically a data type "
   ]
  },
  {
   "cell_type": "code",
   "execution_count": 63,
   "metadata": {},
   "outputs": [
    {
     "name": "stdout",
     "output_type": "stream",
     "text": [
      "[1. 1. 1. 1. 1. 1. 1. 1.]\n",
      "[[1. 1. 1. 1. 1.]\n",
      " [1. 1. 1. 1. 1.]\n",
      " [1. 1. 1. 1. 1.]\n",
      " [1. 1. 1. 1. 1.]]\n"
     ]
    }
   ],
   "source": [
    "# np.ones \n",
    "\n",
    "print(np.ones(8))\n",
    "\n",
    "# multidimensional\n",
    "print(np.ones((4,5)))"
   ]
  },
  {
   "cell_type": "code",
   "execution_count": 64,
   "metadata": {},
   "outputs": [
    {
     "name": "stdout",
     "output_type": "stream",
     "text": [
      "[2.3 2.3 2.3 2.3 2.3]\n",
      "[[3.4 3.4 3.4 3.4 3.4]\n",
      " [3.4 3.4 3.4 3.4 3.4]\n",
      " [3.4 3.4 3.4 3.4 3.4]]\n"
     ]
    }
   ],
   "source": [
    "# np.full\n",
    "\n",
    "print(np.full(5, fill_value=2.3)) # creates a array of length 5 filled with 2.3\n",
    "\n",
    "# multidimensional\n",
    "print(np.full((3,5), fill_value=3.4))"
   ]
  },
  {
   "cell_type": "code",
   "execution_count": 65,
   "metadata": {},
   "outputs": [
    {
     "name": "stdout",
     "output_type": "stream",
     "text": [
      "[ 0.   2.5  5.   7.5 10.  12.5 15.  17.5]\n",
      "[[ 0  1  2]\n",
      " [ 5  6  7]\n",
      " [10 11 12]\n",
      " [15 16 17]]\n"
     ]
    }
   ],
   "source": [
    "# np.arange \n",
    "\n",
    "print(np.arange(start=0, stop=20, step=2.5)) # this creates a array that starts at 0, goes till 20 with a step size of 2.5\n",
    "\n",
    "# multidiemnsional \n",
    "print(np.array([range(i, i+3) for i in np.arange(0,20,5)]))"
   ]
  },
  {
   "cell_type": "code",
   "execution_count": 66,
   "metadata": {},
   "outputs": [
    {
     "name": "stdout",
     "output_type": "stream",
     "text": [
      "[ 0.          0.68965517  1.37931034  2.06896552  2.75862069  3.44827586\n",
      "  4.13793103  4.82758621  5.51724138  6.20689655  6.89655172  7.5862069\n",
      "  8.27586207  8.96551724  9.65517241 10.34482759 11.03448276 11.72413793\n",
      " 12.4137931  13.10344828 13.79310345 14.48275862 15.17241379 15.86206897\n",
      " 16.55172414 17.24137931 17.93103448 18.62068966 19.31034483 20.        ]\n"
     ]
    }
   ],
   "source": [
    "# np.linspace \n",
    "\n",
    "print(np.linspace(start=0, stop=20, num=30)) # gives a array of length 30 starting from 0 and ending at 20 equally spaced"
   ]
  },
  {
   "cell_type": "code",
   "execution_count": 67,
   "metadata": {},
   "outputs": [
    {
     "name": "stdout",
     "output_type": "stream",
     "text": [
      "[[0.89965536 0.23757411 0.30942555]\n",
      " [0.34720266 0.72215597 0.44590048]\n",
      " [0.774261   0.33831251 0.84753788]]\n",
      "[[ 1.52061426 -0.2560895  -0.72700028]\n",
      " [-0.21178624 -1.22182636 -0.76107052]\n",
      " [ 1.52254348  0.04392495  0.1405856 ]]\n",
      "[[15  7  8]\n",
      " [ 5 12  5]\n",
      " [ 2  4  5]]\n"
     ]
    }
   ],
   "source": [
    "# Create a 3x3 array of uniformly distributed pseudorandom values betweeen 0 and 1\n",
    "\n",
    "print(np.random.random(size=(3,3)))\n",
    "\n",
    "# Create a 3x3 array of normally distributed pseudorandom values with mean 0 and sd 1 \n",
    "\n",
    "print(np.random.normal(loc=0, scale=1, size=(3,3)))\n",
    "\n",
    "# Create a 3x3 array of  pseudorandom integer values between 0 and 10\n",
    "print(np.random.randint(low=2, high=20, size=(3,3)))"
   ]
  },
  {
   "cell_type": "code",
   "execution_count": 68,
   "metadata": {},
   "outputs": [
    {
     "name": "stdout",
     "output_type": "stream",
     "text": [
      "[[1. 0. 0.]\n",
      " [0. 1. 0.]\n",
      " [0. 0. 1.]]\n"
     ]
    }
   ],
   "source": [
    "# np.eye\n",
    "\n",
    "print(np.eye(N=3)) # create a 3x3 identity matrix\n"
   ]
  },
  {
   "cell_type": "code",
   "execution_count": 69,
   "metadata": {},
   "outputs": [
    {
     "name": "stdout",
     "output_type": "stream",
     "text": [
      "[ 0.   2.5  5.   7.5 10.  12.5 15.  17.5]\n"
     ]
    }
   ],
   "source": [
    "# np.empty \n",
    "\n",
    "print(np.empty(8)) # creates a uninitialized array of 8 integers - the values will be whatever happens to exist at that perticular memory location\n"
   ]
  },
  {
   "cell_type": "markdown",
   "metadata": {},
   "source": [
    "**Let us have a look at the datatypes in NumPy**\n",
    "\n",
    "\n",
    "| **Data Type**  | **Description**                                                                                 |\n",
    "|-----------------|-----------------------------------------------------------------------------------------------|\n",
    "| `bool_`         | Boolean (True or False) stored as a byte                                                      |\n",
    "| `int_`          | Default integer type (same as C `long`; normally either `int64` or `int32`)                   |\n",
    "| `intc`          | Identical to C `int` (normally `int32` or `int64`)                                            |\n",
    "| `intp`          | Integer used for indexing (same as C `ssize_t`; normally either `int32` or `int64`)           |\n",
    "| `int8`          | Byte (-128 to 127)                                                                           |\n",
    "| `int16`         | Integer (-32,768 to 32,767)                                                                  |\n",
    "| `int32`         | Integer (-2,147,483,648 to 2,147,483,647)                                                    |\n",
    "| `int64`         | Integer (-9,223,372,036,854,775,808 to 9,223,372,036,854,775,807)                            |\n",
    "| `uint8`         | Unsigned integer (0 to 255)                                                                  |\n",
    "| `uint16`        | Unsigned integer (0 to 65,535)                                                               |\n",
    "| `uint32`        | Unsigned integer (0 to 4,294,967,295)                                                        |\n",
    "| `uint64`        | Unsigned integer (0 to 18,446,744,073,709,551,615)                                           |\n",
    "| `float_`        | Shorthand for `float64`                                                                      |\n",
    "| `float16`       | Half-precision float: sign bit, 5 bits exponent, 10 bits mantissa                            |\n",
    "| `float32`       | Single-precision float: sign bit, 8 bits exponent, 23 bits mantissa                          |\n",
    "| `float64`       | Double-precision float: sign bit, 11 bits exponent, 52 bits mantissa                         |\n",
    "| `complex_`      | Shorthand for `complex128`                                                                   |\n",
    "| `complex64`     | Complex number, represented by two 32-bit floats                                             |\n",
    "| `complex128`    | Complex number, represented by two 64-bit floats                                             |\n"
   ]
  },
  {
   "cell_type": "markdown",
   "metadata": {},
   "source": [
    "## NumPY Array Basics"
   ]
  },
  {
   "cell_type": "markdown",
   "metadata": {},
   "source": [
    "### Array Attributes "
   ]
  },
  {
   "cell_type": "code",
   "execution_count": 70,
   "metadata": {},
   "outputs": [
    {
     "name": "stdout",
     "output_type": "stream",
     "text": [
      "The dimensions are : 1, 2, 3\n",
      "The shape are : (6,), (4, 5), (3, 4, 5)\n",
      "The sizes are : 6, 20, 60\n",
      "The datatypes are : int32, int32, int32\n"
     ]
    }
   ],
   "source": [
    "# contruct an array\n",
    "array_int_1D = np.random.randint(low=2, high=20, size=6) # 1 dimensional\n",
    "array_int_2D = np.random.randint(low=2, high=20, size=(4,5)) # 2 dimensional\n",
    "array_int_3D = np.random.randint(low=2, high=20, size=(3,4,5)) # 3 dimensional\n",
    "\n",
    "# accessing the attributes of the array\n",
    "print(f\"The dimensions are : {array_int_1D.ndim}, {array_int_2D.ndim}, {array_int_3D.ndim}\") # gives the dimensions of the three arrays\n",
    "print(f\"The shape are : {array_int_1D.shape}, {array_int_2D.shape}, {array_int_3D.shape}\") # gives the shape of the arrays \n",
    "print(f\"The sizes are : {array_int_1D.size}, {array_int_2D.size}, {array_int_3D.size}\") # gives the total number of elements in the array\n",
    "print(f\"The datatypes are : {array_int_1D.dtype}, {array_int_2D.dtype}, {array_int_3D.dtype}\") # gives the datatype of the elements of the array"
   ]
  },
  {
   "cell_type": "markdown",
   "metadata": {},
   "source": [
    "### Array Indexing"
   ]
  },
  {
   "cell_type": "code",
   "execution_count": 71,
   "metadata": {},
   "outputs": [
    {
     "name": "stdout",
     "output_type": "stream",
     "text": [
      "[17 19  9 16  3 14]\n"
     ]
    }
   ],
   "source": [
    "# Let us first print the three arrays we stated above \n",
    "print(array_int_1D)"
   ]
  },
  {
   "cell_type": "code",
   "execution_count": 72,
   "metadata": {},
   "outputs": [
    {
     "name": "stdout",
     "output_type": "stream",
     "text": [
      "[[17  8 13  9 15]\n",
      " [ 4 17 13 13  7]\n",
      " [15 13  7  7 14]\n",
      " [ 2  8 13 10  9]]\n"
     ]
    }
   ],
   "source": [
    "print(array_int_2D)"
   ]
  },
  {
   "cell_type": "code",
   "execution_count": 73,
   "metadata": {},
   "outputs": [
    {
     "name": "stdout",
     "output_type": "stream",
     "text": [
      "[[[12 16  3  7 12]\n",
      "  [19 19 13  5 14]\n",
      "  [15 12  5 16  2]\n",
      "  [18  4  4  9  5]]\n",
      "\n",
      " [[ 5 18  8  2 17]\n",
      "  [11  2  6 13 11]\n",
      "  [11  3  5  7  3]\n",
      "  [10 11  4 10  2]]\n",
      "\n",
      " [[17 11 16 13  3]\n",
      "  [10  6  2  7  8]\n",
      "  [19 19 12 11 16]\n",
      "  [16 14  2  5  6]]]\n"
     ]
    }
   ],
   "source": [
    "print(array_int_3D)"
   ]
  },
  {
   "cell_type": "code",
   "execution_count": 74,
   "metadata": {},
   "outputs": [
    {
     "name": "stdout",
     "output_type": "stream",
     "text": [
      "The second element of the 1 D array stated above is : 19\n",
      "The (2,3)th element i.e. the lement at the intersection of the second row and the 3rd column is : 13\n",
      "The element at (2,3,1)th position is : 11\n"
     ]
    }
   ],
   "source": [
    "# indexing a 1 D array\n",
    "print(f'The second element of the 1 D array stated above is : {array_int_1D[1]}')\n",
    "print(f'The (2,3)th element i.e. the lement at the intersection of the second row and the 3rd column is : {array_int_2D[1,2]}')\n",
    "print(f'The element at (2,3,1)th position is : {array_int_3D[1,2,0]}')"
   ]
  },
  {
   "cell_type": "markdown",
   "metadata": {},
   "source": [
    "### Array Slicing"
   ]
  },
  {
   "cell_type": "code",
   "execution_count": 75,
   "metadata": {},
   "outputs": [
    {
     "name": "stdout",
     "output_type": "stream",
     "text": [
      "Sliced 1 D array : [16  3 14]\n",
      "Every second element of the 1 D array: [17  9  3]\n",
      "every second element from index 3, reversed : [16 19]\n",
      "First 2 rows and 3 columns:\n",
      "[[17  8 13]\n",
      " [ 4 17 13]]\n",
      "All rows and every second column:\n",
      " [[17 13 15]\n",
      " [ 4 13  7]\n",
      " [15  7 14]\n",
      " [ 2 13  9]]\n",
      "Rows ordering reversed(i.e. last row becomes the first row and so on):\n",
      "[[ 2  8 13 10  9]\n",
      " [15 13  7  7 14]\n",
      " [ 4 17 13 13  7]\n",
      " [17  8 13  9 15]]\n",
      "Columns ordering reversed: \n",
      "[[15  9 13  8 17]\n",
      " [ 7 13 13 17  4]\n",
      " [14  7  7 13 15]\n",
      " [ 9 10 13  8  2]]\n",
      "Both row and column ordering reversed:\n",
      "[[ 9 10 13  8  2]\n",
      " [14  7  7 13 15]\n",
      " [ 7 13 13 17  4]\n",
      " [15  9 13  8 17]]\n",
      "Second column:\n",
      "[ 8 17 13  8]\n",
      "Second row:\n",
      "[ 4 17 13 13  7]\n"
     ]
    }
   ],
   "source": [
    "# Slicing a 1 D array \n",
    "print(f\"Sliced 1 D array : {array_int_1D[3:]}\")\n",
    "print(f\"Every second element of the 1 D array: {array_int_1D[::2]}\")\n",
    "print(f\"every second element from index 3, reversed : {array_int_1D[3::-2]}\")\n",
    "\n",
    "# Slicing a 2 D array - Multidimensional Subarrays \n",
    "print(f\"First 2 rows and 3 columns:\\n{array_int_2D[:2, :3]}\")\n",
    "print(f\"All rows and every second column:\\n {array_int_2D[:, ::2]}\")\n",
    "print(f\"Rows ordering reversed(i.e. last row becomes the first row and so on):\\n{array_int_2D[::-1,:]}\")\n",
    "print(f\"Columns ordering reversed: \\n{array_int_2D[:,::-1]}\")\n",
    "print(f\"Both row and column ordering reversed:\\n{array_int_2D[::-1,::-1]}\")\n",
    "\n",
    "# Common operations on a 2 D array - involves both indexing and slicing \n",
    "print(f\"Second column:\\n{array_int_2D[:, 1]}\")\n",
    "print(f\"Second row:\\n{array_int_2D[1,:]}\")"
   ]
  },
  {
   "cell_type": "markdown",
   "metadata": {},
   "source": [
    "**NOTE**\n",
    "Unlike the Python list slices, NumPy array slices are returned as ***VIEWS*** rather than ***COPIES*** of the array data. "
   ]
  },
  {
   "cell_type": "code",
   "execution_count": 76,
   "metadata": {},
   "outputs": [
    {
     "name": "stdout",
     "output_type": "stream",
     "text": [
      "[[17  8 13  9 15]\n",
      " [ 4 17 13 13  7]\n",
      " [15 13  7  7 14]\n",
      " [ 2  8 13 10  9]]\n"
     ]
    }
   ],
   "source": [
    "# Illustration of the above point \n",
    "# Consider the 2 D array we are dealing with \n",
    "print(array_int_2D)"
   ]
  },
  {
   "cell_type": "code",
   "execution_count": 77,
   "metadata": {},
   "outputs": [
    {
     "name": "stdout",
     "output_type": "stream",
     "text": [
      "Sliced Subarray:\n",
      "[[17  8]\n",
      " [ 4 17]]\n",
      "Sliced Subarray after modification:\n",
      "[[100   8]\n",
      " [  4  17]]\n",
      "Original array has changed too!:\n",
      "[[100   8  13   9  15]\n",
      " [  4  17  13  13   7]\n",
      " [ 15  13   7   7  14]\n",
      " [  2   8  13  10   9]]\n"
     ]
    }
   ],
   "source": [
    "# let us slice this 2 D array and make another subarray\n",
    "subarray_int_2D = array_int_2D[:2, :2]\n",
    "print(f\"Sliced Subarray:\\n{subarray_int_2D}\")\n",
    "\n",
    "# let us change the first element of the subarray to 100\n",
    "subarray_int_2D[0,0] = 100\n",
    "print(f\"Sliced Subarray after modification:\\n{subarray_int_2D}\")\n",
    "\n",
    "# Let us see the original array now!\n",
    "print(f\"Original array has changed too!:\\n{array_int_2D}\")"
   ]
  },
  {
   "cell_type": "code",
   "execution_count": 79,
   "metadata": {},
   "outputs": [
    {
     "name": "stdout",
     "output_type": "stream",
     "text": [
      "Sliced Subarray:\n",
      "[[ 4 17 13 13  7]\n",
      " [ 2  8 13 10  9]]\n",
      "Sliced Subarray after modification:\n",
      "[[100  17  13  13   7]\n",
      " [  2   8  13  10   9]]\n",
      "The array has not changed:\n",
      "[[100   8  13   9  15]\n",
      " [  4  17  13  13   7]\n",
      " [ 15  13   7   7  14]\n",
      " [  2   8  13  10   9]]\n"
     ]
    }
   ],
   "source": [
    "# BUT let us now do a fancy slicing \n",
    "# let us slice this 2 D array and make another subarray\n",
    "subarray_int_2D = array_int_2D[[1,3], :]\n",
    "print(f\"Sliced Subarray:\\n{subarray_int_2D}\")\n",
    "\n",
    "# let us change the first element of the subarray to 100\n",
    "subarray_int_2D[0,0] = 100\n",
    "print(f\"Sliced Subarray after modification:\\n{subarray_int_2D}\")\n",
    "\n",
    "# Let us see the original array now!\n",
    "print(f\"The array has not changed:\\n{array_int_2D}\")"
   ]
  },
  {
   "cell_type": "markdown",
   "metadata": {},
   "source": [
    "**Key Difference**\n",
    "- Simple slicing (like `array_int_2D[:2, :2]`) produces a **view**.\n",
    "- Fancy indexing (like `array_int_2D[[1, 3], :]`) produces a **copy**."
   ]
  },
  {
   "cell_type": "code",
   "execution_count": 81,
   "metadata": {},
   "outputs": [
    {
     "name": "stdout",
     "output_type": "stream",
     "text": [
      "Sliced Subarray:\n",
      "[[100   8]\n",
      " [  4  17]]\n",
      "Sliced Subarray after modification:\n",
      "[[200   8]\n",
      " [  4  17]]\n",
      "Array has not changed:\n",
      "[[100   8  13   9  15]\n",
      " [  4  17  13  13   7]\n",
      " [ 15  13   7   7  14]\n",
      " [  2   8  13  10   9]]\n"
     ]
    }
   ],
   "source": [
    "# We can, however, use the copy() method to deliberatey create a copy in case of slicing\n",
    "\n",
    "# let us slice this 2 D array and make another subarray\n",
    "subarray_int_2D = array_int_2D[:2, :2].copy()\n",
    "print(f\"Sliced Subarray:\\n{subarray_int_2D}\")\n",
    "\n",
    "# let us change the first element of the subarray to 100\n",
    "subarray_int_2D[0,0] = 200\n",
    "print(f\"Sliced Subarray after modification:\\n{subarray_int_2D}\")\n",
    "\n",
    "# Let us see the original array now!\n",
    "print(f\"Array has not changed:\\n{array_int_2D}\")"
   ]
  },
  {
   "cell_type": "markdown",
   "metadata": {},
   "source": [
    "### Reshaping Arrays"
   ]
  },
  {
   "cell_type": "code",
   "execution_count": 86,
   "metadata": {},
   "outputs": [
    {
     "name": "stdout",
     "output_type": "stream",
     "text": [
      "Original 1 D array: \n",
      "[ 2.    4.25  6.5   8.75 11.   13.25 15.5  17.75 20.  ]\n",
      "The 1 D array after being reshaped to a 2 D array:\n",
      "[[ 2.    4.25  6.5 ]\n",
      " [ 8.75 11.   13.25]\n",
      " [15.5  17.75 20.  ]]\n"
     ]
    }
   ],
   "source": [
    "# Let us convert a 1 D array by reshaping it to a 2 D array \n",
    "array_1D = np.linspace(start=2, stop=20, num=9)\n",
    "print(f\"Original 1 D array: \\n{array_1D}\")\n",
    "\n",
    "array_1D_reshape_2D = array_1D.reshape((3,3))\n",
    "print(f\"The 1 D array after being reshaped to a 2 D array:\\n{array_1D_reshape_2D}\")"
   ]
  },
  {
   "cell_type": "code",
   "execution_count": 89,
   "metadata": {},
   "outputs": [
    {
     "name": "stdout",
     "output_type": "stream",
     "text": [
      "Original 1 D array: \n",
      "[ 2.    4.25  6.5   8.75 11.   13.25 15.5  17.75 20.  ]\n",
      "Row Vector:\n",
      "[[ 2.    4.25  6.5   8.75 11.   13.25 15.5  17.75 20.  ]]\n",
      "Column Vector:\n",
      "[[ 2.  ]\n",
      " [ 4.25]\n",
      " [ 6.5 ]\n",
      " [ 8.75]\n",
      " [11.  ]\n",
      " [13.25]\n",
      " [15.5 ]\n",
      " [17.75]\n",
      " [20.  ]]\n"
     ]
    }
   ],
   "source": [
    "# Often we convert 1 D array into a 2 D row or a column matrix\n",
    "print(f\"Original 1 D array: \\n{array_1D}\")\n",
    "\n",
    "# reshaping the 1 D to a row vector \n",
    "array_1D_rowvec = array_1D.reshape((1,9))\n",
    "print('Row Vector:')\n",
    "print(array_1D_rowvec)\n",
    "\n",
    "# reshaping the 1 D to a column vector \n",
    "array_1D_colvec = array_1D.reshape((9,1))\n",
    "print('Column Vector:')\n",
    "print(array_1D_colvec)\n"
   ]
  },
  {
   "cell_type": "markdown",
   "metadata": {},
   "source": [
    "A good shorthand to achieve the same result is the `np.newaxis` in the slicing syntax!"
   ]
  },
  {
   "cell_type": "code",
   "execution_count": 90,
   "metadata": {},
   "outputs": [
    {
     "name": "stdout",
     "output_type": "stream",
     "text": [
      "Original 1 D array: \n",
      "[ 2.    4.25  6.5   8.75 11.   13.25 15.5  17.75 20.  ]\n",
      "Row Vector:\n",
      "[[ 2.    4.25  6.5   8.75 11.   13.25 15.5  17.75 20.  ]]\n",
      "Column Vector:\n",
      "[[ 2.  ]\n",
      " [ 4.25]\n",
      " [ 6.5 ]\n",
      " [ 8.75]\n",
      " [11.  ]\n",
      " [13.25]\n",
      " [15.5 ]\n",
      " [17.75]\n",
      " [20.  ]]\n"
     ]
    }
   ],
   "source": [
    "# Often we convert 1 D array into a 2 D row or a column matrix\n",
    "print(f\"Original 1 D array: \\n{array_1D}\")\n",
    "\n",
    "# reshaping the 1 D to a row vector \n",
    "array_1D_rowvec = array_1D[np.newaxis,:]\n",
    "print('Row Vector:')\n",
    "print(array_1D_rowvec)\n",
    "\n",
    "# reshaping the 1 D to a column vector \n",
    "array_1D_colvec = array_1D[:, np.newaxis]\n",
    "print('Column Vector:')\n",
    "print(array_1D_colvec)"
   ]
  },
  {
   "cell_type": "markdown",
   "metadata": {},
   "source": [
    "### Concatenating two arrays"
   ]
  },
  {
   "cell_type": "code",
   "execution_count": null,
   "metadata": {},
   "outputs": [
    {
     "name": "stdout",
     "output_type": "stream",
     "text": [
      "[1 2 3 4 5 6 7 8 9]\n"
     ]
    }
   ],
   "source": [
    "# concatenating three 1 D arrays \n",
    "array_1 = np.array([1,2,3])\n",
    "array_2 = np.array([4,5,6])\n",
    "array_3 = np.array([7,8,9])\n",
    "\n",
    "array_concat = np.concatenate([array_1, array_2, array_3]) # note pass the three arrays in a list\n",
    "print(array_concat)"
   ]
  },
  {
   "cell_type": "code",
   "execution_count": 99,
   "metadata": {},
   "outputs": [
    {
     "name": "stdout",
     "output_type": "stream",
     "text": [
      "[[1 2 3]\n",
      " [4 5 6]\n",
      " [7 8 9]]\n",
      "[[1 2 3]\n",
      " [4 5 6]\n",
      " [7 8 9]\n",
      " [1 2 3]\n",
      " [4 5 6]\n",
      " [7 8 9]]\n",
      "[[1 2 3 1 2 3]\n",
      " [4 5 6 4 5 6]\n",
      " [7 8 9 7 8 9]]\n"
     ]
    }
   ],
   "source": [
    "# concatenate 2 D arrays \n",
    "array_4 = array_concat.reshape((3,3))\n",
    "print(array_4)\n",
    "\n",
    "# say I want to concat the array_4 to itself row-wise i.e. first axis \n",
    "array_concat_row = np.concatenate([array_4, array_4])\n",
    "print(array_concat_row)\n",
    "\n",
    "# say I want to concat the array_4 to itself column-wise i.e. second axis \n",
    "array_concat_col = np.concatenate([array_4, array_4], axis=1)\n",
    "print(array_concat_col)\n"
   ]
  },
  {
   "cell_type": "markdown",
   "metadata": {},
   "source": [
    "So far, we have concatenated the arrays having the same dimensions. However, in reality, it is often the case where the dimensions are not equal. In sych cases of **MIXED DIMENSIONS**, one should preferably use `np.hstack` and `np.vstack`"
   ]
  },
  {
   "cell_type": "code",
   "execution_count": 104,
   "metadata": {},
   "outputs": [
    {
     "name": "stdout",
     "output_type": "stream",
     "text": [
      "[[1 2 3]\n",
      " [1 2 3]\n",
      " [4 5 6]\n",
      " [7 8 9]]\n",
      "[[1 2 3]\n",
      " [4 5 6]\n",
      " [7 8 9]\n",
      " [1 2 3]]\n",
      "[[1 1 2 3]\n",
      " [2 4 5 6]\n",
      " [3 7 8 9]]\n"
     ]
    }
   ],
   "source": [
    "# np.hstack and np.vstack\n",
    "# say, I want to concatenate array_1 to array_4 row-wise i.e. vertically stack the arrays  \n",
    "print(np.vstack([array_1, array_4]))\n",
    "print(np.vstack([array_4,array_1])) # order matters\n",
    "\n",
    "# Let us now stack horizontally \n",
    "# before we stack it horizontally, we need to make it a column vector \n",
    "array_5 = array_1.reshape((3,1))\n",
    "print(np.hstack([array_5, array_4]))"
   ]
  },
  {
   "cell_type": "markdown",
   "metadata": {},
   "source": [
    "### Splitting the Arrays"
   ]
  },
  {
   "cell_type": "code",
   "execution_count": 112,
   "metadata": {},
   "outputs": [
    {
     "name": "stdout",
     "output_type": "stream",
     "text": [
      "The concatenated array: [1 2 3 4 5 6 7 8 9]\n",
      "The three splits are: [1 2 3], [4 5 6], [7 8 9]\n",
      "The three splits are: [1 2 3], [4 5 6], [7 8 9]\n"
     ]
    }
   ],
   "source": [
    "# split the array_concat into three different arrays\n",
    "print(f\"The concatenated array: {array_concat}\")\n",
    "\n",
    "arr_split_1, arr_split_2, arr_split_3 = np.split(array_concat, indices_or_sections=[3,6])\n",
    "print(f\"The three splits are: {arr_split_1}, {arr_split_2}, {arr_split_3}\")\n",
    "\n",
    "arr_split_1, arr_split_2, arr_split_3 = np.split(array_concat, indices_or_sections=3)\n",
    "print(f\"The three splits are: {arr_split_1}, {arr_split_2}, {arr_split_3}\")"
   ]
  },
  {
   "cell_type": "code",
   "execution_count": 117,
   "metadata": {},
   "outputs": [
    {
     "name": "stdout",
     "output_type": "stream",
     "text": [
      "[array([[1, 2, 3],\n",
      "       [4, 5, 6],\n",
      "       [7, 8, 9]]), array([[1, 2, 3],\n",
      "       [4, 5, 6],\n",
      "       [7, 8, 9]])]\n",
      "[array([[1, 2, 3],\n",
      "       [4, 5, 6]]), array([[7, 8, 9],\n",
      "       [1, 2, 3],\n",
      "       [4, 5, 6],\n",
      "       [7, 8, 9]])]\n",
      "[array([[1, 2],\n",
      "       [4, 5],\n",
      "       [7, 8],\n",
      "       [1, 2],\n",
      "       [4, 5],\n",
      "       [7, 8]]), array([[3],\n",
      "       [6],\n",
      "       [9],\n",
      "       [3],\n",
      "       [6],\n",
      "       [9]])]\n"
     ]
    }
   ],
   "source": [
    "# Note, earlier I had concatenated array_4 to get array_concat_row - let us split them\n",
    "print(np.vsplit(ary=array_concat_row, indices_or_sections=2))\n",
    "print(np.vsplit(ary=array_concat_row, indices_or_sections=[2]))\n",
    "\n",
    "# Note, earlier I had concatenated array_4 to get array_concat_row - let us split them col-wise\n",
    "print(np.hsplit(ary=array_concat_row, indices_or_sections=[2]))"
   ]
  },
  {
   "cell_type": "markdown",
   "metadata": {},
   "source": [
    "## Vectorized Operations in NumPy"
   ]
  },
  {
   "cell_type": "markdown",
   "metadata": {},
   "source": [
    "Vectorized operations in NumPy are faster than traditional Python loops because of the way NumPy is implemented and how it takes advantage of modern computer architecture. Here's a detailed explanation:\n",
    "\n",
    "### 1. **NumPy is Written in C and Optimized for Performance**\n",
    "   - NumPy's core is written in **C** and **Fortran**, which are much faster than Python.\n",
    "   - When you use vectorized operations in NumPy, the heavy lifting happens in C/Fortran, bypassing the slower Python interpreter. This allows for **compiled, low-level execution** directly on the data.\n",
    "\n",
    "### 2. **Elimination of Python Loops**\n",
    "   - **Traditional Python loops** (e.g., `for` loops) involve significant overhead because each iteration needs to go through the Python interpreter.\n",
    "   - In contrast, **vectorized operations** perform computations on entire arrays in one step, avoiding the need for explicit looping in Python. The operations are executed in **low-level, highly-optimized loops in C**, which are faster than high-level Python loops.\n",
    "\n",
    "### 3. **Memory Contiguity and Efficient Access**\n",
    "   - NumPy arrays are stored in **contiguous blocks of memory**, unlike Python lists, which are arrays of pointers. This means:\n",
    "     - CPU can **cache** and **fetch data more efficiently**.\n",
    "     - Memory access is faster, as there are fewer indirections.\n",
    "   - This layout enables **SIMD (Single Instruction, Multiple Data)** optimizations, where a single instruction can process multiple data points simultaneously.\n",
    "\n",
    "### 4. **Broadcasting**\n",
    "   - NumPy supports **broadcasting**, which allows you to apply operations to arrays of different shapes without explicitly writing nested loops.\n",
    "   - Broadcasting uses **vectorized operations** under the hood to extend smaller arrays to match the shape of larger ones without creating temporary copies, which saves time and memory.\n",
    "\n",
    "### 5. **Low-Level Multi-Threading**\n",
    "   - Many NumPy operations (like matrix multiplication) internally use multi-threading, meaning they take advantage of multiple CPU cores to perform tasks simultaneously.\n",
    "   - Python loops, unless explicitly parallelized (e.g., using `concurrent.futures`), run on a single core.\n",
    "\n",
    "### 6. **Fewer Function Calls**\n",
    "   - Python loops involve multiple function calls for indexing and computations in each iteration. Each function call adds overhead.\n",
    "   - Vectorized operations compute the result in a single function call, reducing overhead significantly.\n",
    "\n",
    "### 7. **Optimized Math Libraries**\n",
    "   - NumPy links to **high-performance libraries** like BLAS (Basic Linear Algebra Subprograms) and LAPACK (Linear Algebra Package) for numerical computations. These libraries are designed to perform matrix and vector operations extremely efficiently.\n",
    "\n",
    "### Results:\n",
    "- Python loops take significantly longer because they iterate over elements one by one.\n",
    "- NumPy's vectorized operations compute the result in a fraction of the time because:\n",
    "  1. Low-level, optimized C code processes the data.\n",
    "  2. Data is fetched and computed in batches, not one element at a time.\n",
    "\n",
    "---\n",
    "\n",
    "### Real-Life Analogy\n",
    "Imagine you need to move 1 million bricks:\n",
    "- **Python Loop**: One worker (the Python interpreter) moves the bricks one at a time. Each trip involves picking up a brick, walking to the destination, and placing it.\n",
    "- **NumPy Vectorized Operation**: A bulldozer (C/Fortran backend) moves the entire batch of bricks in one go, completing the task much faster.\n",
    "\n",
    "---\n",
    "\n",
    "### Summary of Key Benefits\n",
    "1. **Avoids interpreter overhead** by executing operations in C.\n",
    "2. **Efficient memory access** using contiguous arrays.\n",
    "3. **Utilizes parallelism** and modern CPU optimizations like SIMD.\n",
    "4. **Optimized math libraries** handle operations with minimal overhead.\n",
    "\n",
    "By leveraging these features, NumPy can perform operations orders of magnitude faster than loops in pure Python."
   ]
  },
  {
   "cell_type": "code",
   "execution_count": 119,
   "metadata": {},
   "outputs": [
    {
     "name": "stdout",
     "output_type": "stream",
     "text": [
      "Time with Python loop: 0.22188258171081543\n",
      "Time with NumPy vectorized operation: 0.013002157211303711\n"
     ]
    }
   ],
   "source": [
    "#### Using Loops:\n",
    "import numpy as np\n",
    "import time\n",
    "\n",
    "# Create two arrays\n",
    "size = 10**6\n",
    "a = np.arange(size)\n",
    "b = np.arange(size)\n",
    "\n",
    "# Traditional Python loop\n",
    "start = time.time()\n",
    "result = [a[i] + b[i] for i in range(size)]\n",
    "end = time.time()\n",
    "print(\"Time with Python loop:\", end - start)\n",
    "\n",
    "#### Using Vectorized Operations:\n",
    "# Vectorized NumPy addition\n",
    "start = time.time()\n",
    "result = a + b\n",
    "end = time.time()\n",
    "print(\"Time with NumPy vectorized operation:\", end - start)"
   ]
  },
  {
   "cell_type": "code",
   "execution_count": 130,
   "metadata": {},
   "outputs": [
    {
     "name": "stdout",
     "output_type": "stream",
     "text": [
      "Consider this array:\n",
      "[ 2.    4.25  6.5   8.75 11.   13.25 15.5  17.75 20.  ]\n",
      "Reciprocal Array:\n",
      "[0.5        0.23529412 0.15384615 0.11428571 0.09090909 0.0754717\n",
      " 0.06451613 0.05633803 0.05      ]\n",
      "The two arrays we are considering are:[ 2.    4.25  6.5   8.75 11.   13.25 15.5  17.75 20.  ],[1 2 3 4 5 6 7 8 9]\n",
      "Dividing formar with the latter array: [2.         2.125      2.16666667 2.1875     2.2        2.20833333\n",
      " 2.21428571 2.21875    2.22222222]\n",
      "First multidimensional array:\n",
      "[[ 2.    4.25  6.5 ]\n",
      " [ 8.75 11.   13.25]\n",
      " [15.5  17.75 20.  ]]\n",
      "Second multidimensional array:\n",
      "[[1 2 3]\n",
      " [4 5 6]\n",
      " [7 8 9]]\n",
      "Addition of the above two arrays:\n",
      "[[ 3.    6.25  9.5 ]\n",
      " [12.75 16.   19.25]\n",
      " [22.5  25.75 29.  ]]\n"
     ]
    }
   ],
   "source": [
    "# Let us see some more vectorized operations\n",
    "# let us first print the array\n",
    "print(f\"Consider this array:\\n{array_1D}\")\n",
    "\n",
    "# recirpocal of the array - vectorized operation\n",
    "print(f\"Reciprocal Array:\\n{1/array_1D}\")\n",
    "\n",
    "# divide one array by the other array\n",
    "print(f'The two arrays we are considering are:{array_1D},{array_concat}')\n",
    "print(f\"Dividing formar with the latter array: {array_1D/array_concat}\")\n",
    "\n",
    "# we can do this for the multidimensional array too\n",
    "print(f\"First multidimensional array:\\n{array_1D_reshape_2D}\")\n",
    "print(f\"Second multidimensional array:\\n{array_4}\")\n",
    "\n",
    "# let us add this two arrays\n",
    "print(f\"Addition of the above two arrays:\\n{array_4+array_1D_reshape_2D}\")"
   ]
  },
  {
   "cell_type": "markdown",
   "metadata": {},
   "source": [
    "### Exploring NumPy ufuncs\n",
    "\n",
    "#### Universal Functions (ufuncs) in NumPy\n",
    "\n",
    "A **ufunc** (short for **Universal Function**) in NumPy is a function that operates element-wise on arrays. They are one of the key reasons behind NumPy's speed and efficiency. Let's delve into their significance, working mechanism, and advantages.\n",
    "\n",
    "---\n",
    "\n",
    "##### Key Characteristics of ufuncs\n",
    "\n",
    "1. **Element-wise Operations**: \n",
    "   - Ufuncs process each element in an array independently and in a vectorized manner. For example:\n",
    "     ```python\n",
    "     import numpy as np\n",
    "     arr = np.array([1, 2, 3, 4])\n",
    "     result = np.sqrt(arr)  # Element-wise square root\n",
    "     print(result)  # Output: [1. 1.41421356 1.73205081 2.]\n",
    "     ```\n",
    "\n",
    "2. **Support for Broadcasting**: \n",
    "   - Ufuncs automatically apply operations to arrays of different shapes by extending the smaller array (via broadcasting).\n",
    "     ```python\n",
    "     arr = np.array([1, 2, 3])\n",
    "     result = arr + 5  # Broadcasting applies the scalar value 5 to all elements\n",
    "     print(result)  # Output: [6 7 8]\n",
    "     ```\n",
    "\n",
    "3. **Vectorized Operations**:\n",
    "   - Unlike loops, which iterate element by element, ufuncs perform operations on the entire array at once using optimized C backend code.\n",
    "\n",
    "4. **Type Flexibility**:\n",
    "   - Ufuncs support a variety of input types (e.g., integers, floats, and complex numbers) and can return outputs in specified data types.\n",
    "\n",
    "5. **High Performance**:\n",
    "   - They are written in C and Fortran, making them much faster than Python loops. Ufuncs eliminate Python's overhead and operate directly on the array's memory.\n",
    "\n",
    "---\n",
    "\n",
    "##### Types of Ufuncs\n",
    "\n",
    "1. **Unary Ufuncs**:\n",
    "   - Operate on a single input array, producing an output array.\n",
    "     Examples:\n",
    "     - `np.sqrt`, `np.abs`, `np.log`, `np.exp`, `np.sin`, `np.cos`\n",
    "     ```python\n",
    "     arr = np.array([1, 4, 9, 16])\n",
    "     print(np.sqrt(arr))  # Output: [1. 2. 3. 4.]\n",
    "     ```\n",
    "\n",
    "2. **Binary Ufuncs**:\n",
    "   - Operate on two input arrays element-wise, producing an output array.\n",
    "     Examples:\n",
    "     - `np.add`, `np.subtract`, `np.multiply`, `np.divide`, `np.maximum`, `np.minimum`\n",
    "     ```python\n",
    "     arr1 = np.array([1, 2, 3])\n",
    "     arr2 = np.array([4, 5, 6])\n",
    "     print(np.add(arr1, arr2))  # Output: [5 7 9]\n",
    "     ```\n",
    "\n",
    "---\n",
    "\n",
    "##### Advantages of Ufuncs\n",
    "\n",
    "1. **Fast Execution**:\n",
    "   - Ufuncs use highly-optimized C loops, significantly faster than Python loops.\n",
    "\n",
    "2. **Memory Efficiency**:\n",
    "   - Operate in place (if specified) to reduce memory usage, avoiding the need to create unnecessary temporary arrays.\n",
    "     ```python\n",
    "     arr = np.array([1, 2, 3])\n",
    "     np.add(arr, 10, out=arr)  # In-place addition\n",
    "     print(arr)  # Output: [11 12 13]\n",
    "     ```\n",
    "\n",
    "3. **Support for Broadcasting**:\n",
    "   - Seamlessly operate on arrays of different shapes without requiring manual replication of data.\n",
    "\n",
    "4. **Multiple Outputs**:\n",
    "   - Some ufuncs return multiple outputs, such as `np.modf`, which separates the fractional and integer parts of an array:\n",
    "     ```python\n",
    "     arr = np.array([1.5, 2.3, 3.7])\n",
    "     fractional, integral = np.modf(arr)\n",
    "     print(f\"Fractional: {fractional}, Integral: {integral}\")\n",
    "     # Output: Fractional: [0.5 0.3 0.7], Integral: [1. 2. 3.]\n",
    "     ```\n",
    "\n",
    "5. **Customizable**:\n",
    "   - You can define your own ufuncs using `numpy.frompyfunc` or `numpy.vectorize` to handle custom element-wise operations.\n",
    "\n",
    "---\n",
    "\n",
    "##### Real-Life Analogy of Ufuncs\n",
    "Think of ufuncs as a **conveyor belt** in a factory:\n",
    "- Each product (element in the array) is processed simultaneously and independently on the conveyor belt.\n",
    "- Instead of manually handling each product (using loops), the ufunc (conveyor belt) processes all products in one go, saving time and effort.\n",
    "\n",
    "---\n",
    "\n",
    "##### Practical Use Case: Sigmoid Function\n",
    "\n",
    "Suppose you need to calculate the sigmoid function \\( \\sigma(x) = \\frac{1}{1 + e^{-x}} \\) for a large array:\n",
    "\n",
    "```python\n",
    "arr = np.array([1, 2, 3, 4])\n",
    "sigmoid = 1 / (1 + np.exp(-arr))\n",
    "print(sigmoid)  # Output: [0.73105858 0.88079708 0.95257413 0.98201379]\n",
    "```\n",
    "\n",
    "Here:\n",
    "- The `np.exp` ufunc computes \\( e^{-x} \\) efficiently for the entire array.\n",
    "- The operations `1 +`, `/`, and `1 /` are applied element-wise using NumPy's optimized functions.\n",
    "\n",
    "---\n",
    "\n",
    "##### Summary\n",
    "\n",
    "Ufuncs are the backbone of NumPy's speed and efficiency. By eliminating Python loops, leveraging broadcasting, and operating directly on contiguous memory, ufuncs enable fast, memory-efficient, and readable code for numerical computations."
   ]
  },
  {
   "cell_type": "code",
   "execution_count": 132,
   "metadata": {},
   "outputs": [
    {
     "name": "stdout",
     "output_type": "stream",
     "text": [
      "Addition: [13 24 35]\n",
      "Subtraction: [ 7 16 25]\n",
      "Negation: [-10 -20 -30]\n",
      "Multiplication: [ 30  80 150]\n",
      "Division: [3.33333333 5.         6.        ]\n",
      "Floor Division: [3 5 6]\n",
      "Exponentiation: [100 400 900]\n",
      "Modulus: [1 0 0]\n"
     ]
    }
   ],
   "source": [
    "# ARITHMETIC FUNCTIONS\n",
    "# Define two arrays\n",
    "arr1 = np.array([10, 20, 30])\n",
    "arr2 = np.array([3, 4, 5])\n",
    "\n",
    "# Operator equivalent ufunc examples\n",
    "addition = np.add(arr1, arr2)        # Equivalent to arr1 + arr2\n",
    "subtraction = np.subtract(arr1, arr2)  # Equivalent to arr1 - arr2\n",
    "negation = np.negative(arr1)         # Equivalent to -arr1\n",
    "multiplication = np.multiply(arr1, arr2)  # Equivalent to arr1 * arr2\n",
    "division = np.divide(arr1, arr2)     # Equivalent to arr1 / arr2\n",
    "floor_division = np.floor_divide(arr1, arr2)  # Equivalent to arr1 // arr2\n",
    "exponentiation = np.power(arr1, 2)   # Equivalent to arr1 ** 2\n",
    "modulus = np.mod(arr1, arr2)         # Equivalent to arr1 % arr2\n",
    "\n",
    "# Print results\n",
    "print(f\"Addition: {addition}\")         # [13 24 35]\n",
    "print(f\"Subtraction: {subtraction}\")   # [7 16 25]\n",
    "print(f\"Negation: {negation}\")         # [-10 -20 -30]\n",
    "print(f\"Multiplication: {multiplication}\")  # [30 80 150]\n",
    "print(f\"Division: {division}\")         # [3.33333333 5.         6.        ]\n",
    "print(f\"Floor Division: {floor_division}\")  # [3 5 6]\n",
    "print(f\"Exponentiation: {exponentiation}\")  # [100 400 900]\n",
    "print(f\"Modulus: {modulus}\")           # [1 0 0]"
   ]
  },
  {
   "cell_type": "code",
   "execution_count": null,
   "metadata": {},
   "outputs": [
    {
     "name": "stdout",
     "output_type": "stream",
     "text": [
      "Absolute Values: [10 20 30]\n",
      "Sine Values: [0.0000000e+00 1.0000000e+00 1.2246468e-16]\n",
      "Cosine Values: [ 1.000000e+00  6.123234e-17 -1.000000e+00]\n",
      "Tangent Values: [ 0.00000000e+00  1.63312394e+16 -1.22464680e-16]\n",
      "Exponentials: [ 2.71828183  7.3890561  20.08553692]\n",
      "Natural Logs: [0.         0.69314718 1.09861229]\n",
      "Base-10 Logs: [0.         0.30103    0.47712125]\n",
      "Base-2 Logs: [0.        1.        1.5849625]\n"
     ]
    }
   ],
   "source": [
    "# Absolute Value\n",
    "arr_abs = np.array([-10, -20, 30])\n",
    "absolute_values = np.abs(arr_abs)  # Computes the absolute values\n",
    "print(f\"Absolute Values: {absolute_values}\")  # [10 20 30]\n",
    "\n",
    "# Trigonometric Functions\n",
    "angles = np.array([0, np.pi/2, np.pi])  # Angles in radians\n",
    "sin_values = np.sin(angles)             # Sine of angles\n",
    "cos_values = np.cos(angles)             # Cosine of angles\n",
    "tan_values = np.tan(angles)             # Tangent of angles\n",
    "print(f\"Sine Values: {sin_values}\")     # [0. 1. 0.]\n",
    "print(f\"Cosine Values: {cos_values}\")   # [1. 0. -1.]\n",
    "print(f\"Tangent Values: {tan_values}\")  # [0. inf -0.]\n",
    "\n",
    "# Exponents and Logarithms\n",
    "arr_exp = np.array([1, 2, 3])\n",
    "exponentials = np.exp(arr_exp)           # Exponentials (e^x)\n",
    "natural_logs = np.log(arr_exp)           # Natural logarithms (ln(x))\n",
    "base10_logs = np.log10(arr_exp)          # Logarithms base 10\n",
    "base2_logs = np.log2(arr_exp)            # Logarithms base 2\n",
    "print(f\"Exponentials: {exponentials}\")   # [ 2.71828183  7.3890561  20.08553692]\n",
    "print(f\"Natural Logs: {natural_logs}\")   # [0.         0.69314718 1.09861229]\n",
    "print(f\"Base-10 Logs: {base10_logs}\")    # [0.         0.30103    0.47712125]\n",
    "print(f\"Base-2 Logs: {base2_logs}\")      # [0.         1.         1.5849625 ]"
   ]
  },
  {
   "cell_type": "markdown",
   "metadata": {},
   "source": [
    "### Advanced ufuncs\n",
    "\n",
    "#### Specifying Output"
   ]
  },
  {
   "cell_type": "code",
   "execution_count": null,
   "metadata": {},
   "outputs": [],
   "source": []
  }
 ],
 "metadata": {
  "kernelspec": {
   "display_name": "base",
   "language": "python",
   "name": "python3"
  },
  "language_info": {
   "codemirror_mode": {
    "name": "ipython",
    "version": 3
   },
   "file_extension": ".py",
   "mimetype": "text/x-python",
   "name": "python",
   "nbconvert_exporter": "python",
   "pygments_lexer": "ipython3",
   "version": "3.11.7"
  }
 },
 "nbformat": 4,
 "nbformat_minor": 2
}
