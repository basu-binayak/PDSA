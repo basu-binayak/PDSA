{
 "cells": [
  {
   "cell_type": "markdown",
   "metadata": {},
   "source": [
    "# NumPy Arrays "
   ]
  },
  {
   "cell_type": "code",
   "execution_count": 1,
   "metadata": {},
   "outputs": [],
   "source": [
    "# import the library\n",
    "import numpy as np"
   ]
  },
  {
   "cell_type": "markdown",
   "metadata": {},
   "source": [
    "## A. Creating a NumPy Array"
   ]
  },
  {
   "cell_type": "code",
   "execution_count": null,
   "metadata": {},
   "outputs": [
    {
     "name": "stdout",
     "output_type": "stream",
     "text": [
      "[1 5 6 8 9 3]\n",
      "[2.3 4.5 6.7 5.  8.9]\n",
      "[1. 2. 3. 4. 5.]\n",
      "[[1 2 3 4 5]\n",
      " [2 3 4 5 6]\n",
      " [3 4 5 6 7]]\n"
     ]
    }
   ],
   "source": [
    "# Create a NumPy array from list\n",
    "\n",
    "# Integer array \n",
    "int_array = np.array([1,5,6,8,9,3])\n",
    "print(int_array)\n",
    "\n",
    "# float array \n",
    "# note that numpy arrays are homogenous - hence if some types don't match, numpy will upcast them according to the promotion rules. In the example below, an int in upcast to float\n",
    "float_array = np.array([2.3,4.5,6.7,5,8.9])\n",
    "print(float_array)\n",
    "\n",
    "# You can also mention the type while crearing the array \n",
    "float_array = np.array([1,2,3,4,5], dtype=np.float32)\n",
    "print(float_array)\n",
    "\n",
    "# Python lists are always one dimensional - however NumPy arrays can be multidimensional \n",
    "md_array = np.array([range(j,j+5) for j in range(1,4)]) # this is a 3x5 array\n",
    "print(md_array)"
   ]
  },
  {
   "cell_type": "markdown",
   "metadata": {},
   "source": [
    "Let us now create NumPy arrays from Scratch"
   ]
  },
  {
   "cell_type": "code",
   "execution_count": 7,
   "metadata": {},
   "outputs": [
    {
     "name": "stdout",
     "output_type": "stream",
     "text": [
      "[0. 0. 0. 0. 0. 0. 0. 0.]\n",
      "[0 0 0 0 0 0 0 0]\n",
      "[[0. 0. 0. 0. 0.]\n",
      " [0. 0. 0. 0. 0.]\n",
      " [0. 0. 0. 0. 0.]]\n"
     ]
    }
   ],
   "source": [
    "# np.zeros\n",
    "\n",
    "print(np.zeros(8)) # by default, creates a floating array of 0s of length 8\n",
    "print(np.zeros(8, dtype=np.int32)) # create a integer array now \n",
    "\n",
    "# multidimensional\n",
    "print(np.zeros((3,5))) # provide dtype if you want specifically a data type "
   ]
  },
  {
   "cell_type": "code",
   "execution_count": 10,
   "metadata": {},
   "outputs": [
    {
     "name": "stdout",
     "output_type": "stream",
     "text": [
      "[1. 1. 1. 1. 1. 1. 1. 1.]\n",
      "[[1. 1. 1. 1. 1.]\n",
      " [1. 1. 1. 1. 1.]\n",
      " [1. 1. 1. 1. 1.]\n",
      " [1. 1. 1. 1. 1.]]\n"
     ]
    }
   ],
   "source": [
    "# np.ones \n",
    "\n",
    "print(np.ones(8))\n",
    "\n",
    "# multidimensional\n",
    "print(np.ones((4,5)))"
   ]
  },
  {
   "cell_type": "code",
   "execution_count": 12,
   "metadata": {},
   "outputs": [
    {
     "name": "stdout",
     "output_type": "stream",
     "text": [
      "[2.3 2.3 2.3 2.3 2.3]\n",
      "[[3.4 3.4 3.4 3.4 3.4]\n",
      " [3.4 3.4 3.4 3.4 3.4]\n",
      " [3.4 3.4 3.4 3.4 3.4]]\n"
     ]
    }
   ],
   "source": [
    "# np.full\n",
    "\n",
    "print(np.full(5, fill_value=2.3)) # creates a array of length 5 filled with 2.3\n",
    "\n",
    "# multidimensional\n",
    "print(np.full((3,5), fill_value=3.4))"
   ]
  },
  {
   "cell_type": "code",
   "execution_count": 17,
   "metadata": {},
   "outputs": [
    {
     "name": "stdout",
     "output_type": "stream",
     "text": [
      "[ 0.   2.5  5.   7.5 10.  12.5 15.  17.5]\n",
      "[[ 0  1  2]\n",
      " [ 5  6  7]\n",
      " [10 11 12]\n",
      " [15 16 17]]\n"
     ]
    }
   ],
   "source": [
    "# np.arange \n",
    "\n",
    "print(np.arange(start=0, stop=20, step=2.5)) # this creates a array that starts at 0, goes till 20 with a step size of 2.5\n",
    "\n",
    "# multidiemnsional \n",
    "print(np.array([range(i, i+3) for i in np.arange(0,20,5)]))"
   ]
  },
  {
   "cell_type": "code",
   "execution_count": 19,
   "metadata": {},
   "outputs": [
    {
     "name": "stdout",
     "output_type": "stream",
     "text": [
      "[ 0.          0.68965517  1.37931034  2.06896552  2.75862069  3.44827586\n",
      "  4.13793103  4.82758621  5.51724138  6.20689655  6.89655172  7.5862069\n",
      "  8.27586207  8.96551724  9.65517241 10.34482759 11.03448276 11.72413793\n",
      " 12.4137931  13.10344828 13.79310345 14.48275862 15.17241379 15.86206897\n",
      " 16.55172414 17.24137931 17.93103448 18.62068966 19.31034483 20.        ]\n"
     ]
    }
   ],
   "source": [
    "# np.linspace \n",
    "\n",
    "print(np.linspace(start=0, stop=20, num=30)) # gives a array of length 30 starting from 0 and ending at 20 equally spaced"
   ]
  },
  {
   "cell_type": "code",
   "execution_count": 27,
   "metadata": {},
   "outputs": [
    {
     "name": "stdout",
     "output_type": "stream",
     "text": [
      "[[0.7836989  0.0857374  0.1642772 ]\n",
      " [0.39598336 0.27884052 0.91378083]\n",
      " [0.54696549 0.21031173 0.25860371]]\n",
      "[[-1.08975872 -1.23554342 -0.76769476]\n",
      " [-0.33498718 -0.15541217 -0.98154381]\n",
      " [-1.24177074  0.70745946  0.08567987]]\n",
      "[[ 7 15 12]\n",
      " [ 5 12 13]\n",
      " [ 8  9  4]]\n"
     ]
    }
   ],
   "source": [
    "# Create a 3x3 array of uniformly distributed pseudorandom values betweeen 0 and 1\n",
    "\n",
    "print(np.random.random(size=(3,3)))\n",
    "\n",
    "# Create a 3x3 array of normally distributed pseudorandom values with mean 0 and sd 1 \n",
    "\n",
    "print(np.random.normal(loc=0, scale=1, size=(3,3)))\n",
    "\n",
    "# Create a 3x3 array of  pseudorandom integer values between 0 and 10\n",
    "print(np.random.randint(low=2, high=20, size=(3,3)))"
   ]
  },
  {
   "cell_type": "code",
   "execution_count": null,
   "metadata": {},
   "outputs": [
    {
     "name": "stdout",
     "output_type": "stream",
     "text": [
      "[[1. 0. 0.]\n",
      " [0. 1. 0.]\n",
      " [0. 0. 1.]]\n"
     ]
    }
   ],
   "source": [
    "# np.eye\n",
    "\n",
    "print(np.eye(N=3)) # create a 3x3 identity matrix\n"
   ]
  },
  {
   "cell_type": "code",
   "execution_count": 29,
   "metadata": {},
   "outputs": [
    {
     "name": "stdout",
     "output_type": "stream",
     "text": [
      "[ 0.   2.5  5.   7.5 10.  12.5 15.  17.5]\n"
     ]
    }
   ],
   "source": [
    "# np.empty \n",
    "\n",
    "print(np.empty(8)) # creates a uninitialized array of 8 integers - the values will be whatever happens to exist at that perticular memory location\n"
   ]
  },
  {
   "cell_type": "markdown",
   "metadata": {},
   "source": [
    "**Let us have a look at the datatypes in NumPy**\n",
    "\n",
    "\n",
    "| **Data Type**  | **Description**                                                                                 |\n",
    "|-----------------|-----------------------------------------------------------------------------------------------|\n",
    "| `bool_`         | Boolean (True or False) stored as a byte                                                      |\n",
    "| `int_`          | Default integer type (same as C `long`; normally either `int64` or `int32`)                   |\n",
    "| `intc`          | Identical to C `int` (normally `int32` or `int64`)                                            |\n",
    "| `intp`          | Integer used for indexing (same as C `ssize_t`; normally either `int32` or `int64`)           |\n",
    "| `int8`          | Byte (-128 to 127)                                                                           |\n",
    "| `int16`         | Integer (-32,768 to 32,767)                                                                  |\n",
    "| `int32`         | Integer (-2,147,483,648 to 2,147,483,647)                                                    |\n",
    "| `int64`         | Integer (-9,223,372,036,854,775,808 to 9,223,372,036,854,775,807)                            |\n",
    "| `uint8`         | Unsigned integer (0 to 255)                                                                  |\n",
    "| `uint16`        | Unsigned integer (0 to 65,535)                                                               |\n",
    "| `uint32`        | Unsigned integer (0 to 4,294,967,295)                                                        |\n",
    "| `uint64`        | Unsigned integer (0 to 18,446,744,073,709,551,615)                                           |\n",
    "| `float_`        | Shorthand for `float64`                                                                      |\n",
    "| `float16`       | Half-precision float: sign bit, 5 bits exponent, 10 bits mantissa                            |\n",
    "| `float32`       | Single-precision float: sign bit, 8 bits exponent, 23 bits mantissa                          |\n",
    "| `float64`       | Double-precision float: sign bit, 11 bits exponent, 52 bits mantissa                         |\n",
    "| `complex_`      | Shorthand for `complex128`                                                                   |\n",
    "| `complex64`     | Complex number, represented by two 32-bit floats                                             |\n",
    "| `complex128`    | Complex number, represented by two 64-bit floats                                             |\n"
   ]
  },
  {
   "cell_type": "markdown",
   "metadata": {},
   "source": []
  }
 ],
 "metadata": {
  "kernelspec": {
   "display_name": "base",
   "language": "python",
   "name": "python3"
  },
  "language_info": {
   "codemirror_mode": {
    "name": "ipython",
    "version": 3
   },
   "file_extension": ".py",
   "mimetype": "text/x-python",
   "name": "python",
   "nbconvert_exporter": "python",
   "pygments_lexer": "ipython3",
   "version": "3.11.7"
  }
 },
 "nbformat": 4,
 "nbformat_minor": 2
}
